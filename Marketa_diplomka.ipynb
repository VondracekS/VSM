{
  "nbformat": 4,
  "nbformat_minor": 0,
  "metadata": {
    "colab": {
      "provenance": [],
      "authorship_tag": "ABX9TyNFRd7wONuEsHer3UkF6HSv",
      "include_colab_link": true
    },
    "kernelspec": {
      "name": "python3",
      "display_name": "Python 3"
    },
    "language_info": {
      "name": "python"
    }
  },
  "cells": [
    {
      "cell_type": "markdown",
      "metadata": {
        "id": "view-in-github",
        "colab_type": "text"
      },
      "source": [
        "<a href=\"https://colab.research.google.com/github/VondracekS/VSM/blob/main/Marketa_diplomka.ipynb\" target=\"_parent\"><img src=\"https://colab.research.google.com/assets/colab-badge.svg\" alt=\"Open In Colab\"/></a>"
      ]
    },
    {
      "cell_type": "code",
      "source": [
        "def kolik_chlastu(alc_v=0.4, m_pers=55, g_kg=0.5):\n",
        "  \"\"\"\n",
        "  alc_v: objemovy pomer alkoholu\n",
        "  m_pers: hmotnost osoby\n",
        "  g_kg: cilova hmotnost alkoholu/kg\n",
        "  \"\"\"\n",
        "  RHO_ALC = 0.935\n",
        "  v_nap = (m_pers*g_kg)/(RHO_ALC*alc_v)\n",
        "  return v_nap"
      ],
      "metadata": {
        "id": "okRwz-Nr9X9k"
      },
      "execution_count": 4,
      "outputs": []
    },
    {
      "cell_type": "code",
      "source": [],
      "metadata": {
        "colab": {
          "base_uri": "https://localhost:8080/"
        },
        "id": "QtPlDbLA9r0m",
        "outputId": "6bb79c62-8ce8-424a-a480-2030d7ef522e"
      },
      "execution_count": 6,
      "outputs": [
        {
          "output_type": "execute_result",
          "data": {
            "text/plain": [
              "73.52941176470587"
            ]
          },
          "metadata": {},
          "execution_count": 6
        }
      ]
    }
  ]
}