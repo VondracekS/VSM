{
 "cells": [
  {
   "cell_type": "markdown",
   "source": [
    "# Excercise 5: Canonical Analysis"
   ],
   "metadata": {
    "collapsed": false,
    "pycharm": {
     "name": "#%% md\n"
    }
   }
  },
  {
   "cell_type": "code",
   "execution_count": 1,
   "outputs": [],
   "source": [
    "# imports\n",
    "\n",
    "import pandas as pd\n",
    "import numpy as np\n",
    "import os\n",
    "import seaborn as sns\n",
    "import matplotlib\n",
    "from matplotlib import pyplot as plt\n",
    "import plotly.express as px\n",
    "from scipy import stats\n",
    "from sklearn.preprocessing import StandardScaler\n",
    "from sklearn.cross_decomposition import CCA"
   ],
   "metadata": {
    "collapsed": false,
    "pycharm": {
     "name": "#%%\n"
    }
   }
  },
  {
   "cell_type": "code",
   "execution_count": 2,
   "outputs": [],
   "source": [
    "os.getcwd()\n",
    "matplotlib.rcParams['figure.figsize'] = (20, 10)"
   ],
   "metadata": {
    "collapsed": false,
    "pycharm": {
     "name": "#%%\n"
    }
   }
  },
  {
   "cell_type": "markdown",
   "source": [
    "## I. Init and EDA"
   ],
   "metadata": {
    "collapsed": false,
    "pycharm": {
     "name": "#%% md\n"
    }
   }
  },
  {
   "cell_type": "code",
   "execution_count": 42,
   "outputs": [
    {
     "data": {
      "text/plain": "          Earning99     Unempl    Unempl2    Unempl3  BuyingPower    X.Progre  \\\ncount     77.000000  77.000000  77.000000  77.000000    77.000000   77.000000   \nmean   11625.116883   8.890909  12.089610  34.825907    95.779221  236.394805   \nstd     1183.180148   4.098979  11.324003   7.958741     8.028933   11.526011   \nmin    10042.000000   2.800000   0.800000  12.839506    83.000000  215.500000   \n25%    10925.000000   6.000000   4.500000  30.804810    90.000000  229.400000   \n50%    11326.000000   7.900000   8.000000  35.481055    95.000000  234.900000   \n75%    11956.000000  11.300000  15.800000  39.307787    99.000000  243.600000   \nmax    17437.000000  21.500000  56.600000  53.784541   135.000000  278.600000   \n\n          Enterpr      Lifex    Divorce  Abortion        Pop       Crime  \\\ncount   77.000000  77.000000  77.000000  77.00000  77.000000   77.000000   \nmean   150.922078  72.216234  52.991723  51.77013  32.881818   33.468976   \nstd     19.438003   0.858872   9.461625   9.44661  14.584407   14.022319   \nmin    108.000000  69.700000  37.642046  37.70000   0.000000   16.566907   \n25%    137.000000  71.850000  45.840708  44.70000  23.500000   24.548244   \n50%    149.000000  72.350000  51.632047  50.30000  35.100000   29.373783   \n75%    161.000000  72.850000  57.434402  56.70000  44.100000   39.463535   \nmax    223.000000  73.750000  82.432432  84.00000  59.100000  100.981444   \n\n           Grow.       Migr      Pop65  \ncount  77.000000  77.000000  77.000000  \nmean    0.001469   1.017187  13.527466  \nstd     1.775340   1.755597   1.418252  \nmin    -3.626882  -1.503942   9.609388  \n25%    -0.978749   0.066833  12.664899  \n50%     0.111987   0.782924  13.688415  \n75%     0.644199   1.389803  14.686678  \nmax     8.105023  11.580121  16.339991  ",
      "text/html": "<div>\n<style scoped>\n    .dataframe tbody tr th:only-of-type {\n        vertical-align: middle;\n    }\n\n    .dataframe tbody tr th {\n        vertical-align: top;\n    }\n\n    .dataframe thead th {\n        text-align: right;\n    }\n</style>\n<table border=\"1\" class=\"dataframe\">\n  <thead>\n    <tr style=\"text-align: right;\">\n      <th></th>\n      <th>Earning99</th>\n      <th>Unempl</th>\n      <th>Unempl2</th>\n      <th>Unempl3</th>\n      <th>BuyingPower</th>\n      <th>X.Progre</th>\n      <th>Enterpr</th>\n      <th>Lifex</th>\n      <th>Divorce</th>\n      <th>Abortion</th>\n      <th>Pop</th>\n      <th>Crime</th>\n      <th>Grow.</th>\n      <th>Migr</th>\n      <th>Pop65</th>\n    </tr>\n  </thead>\n  <tbody>\n    <tr>\n      <th>count</th>\n      <td>77.000000</td>\n      <td>77.000000</td>\n      <td>77.000000</td>\n      <td>77.000000</td>\n      <td>77.000000</td>\n      <td>77.000000</td>\n      <td>77.000000</td>\n      <td>77.000000</td>\n      <td>77.000000</td>\n      <td>77.00000</td>\n      <td>77.000000</td>\n      <td>77.000000</td>\n      <td>77.000000</td>\n      <td>77.000000</td>\n      <td>77.000000</td>\n    </tr>\n    <tr>\n      <th>mean</th>\n      <td>11625.116883</td>\n      <td>8.890909</td>\n      <td>12.089610</td>\n      <td>34.825907</td>\n      <td>95.779221</td>\n      <td>236.394805</td>\n      <td>150.922078</td>\n      <td>72.216234</td>\n      <td>52.991723</td>\n      <td>51.77013</td>\n      <td>32.881818</td>\n      <td>33.468976</td>\n      <td>0.001469</td>\n      <td>1.017187</td>\n      <td>13.527466</td>\n    </tr>\n    <tr>\n      <th>std</th>\n      <td>1183.180148</td>\n      <td>4.098979</td>\n      <td>11.324003</td>\n      <td>7.958741</td>\n      <td>8.028933</td>\n      <td>11.526011</td>\n      <td>19.438003</td>\n      <td>0.858872</td>\n      <td>9.461625</td>\n      <td>9.44661</td>\n      <td>14.584407</td>\n      <td>14.022319</td>\n      <td>1.775340</td>\n      <td>1.755597</td>\n      <td>1.418252</td>\n    </tr>\n    <tr>\n      <th>min</th>\n      <td>10042.000000</td>\n      <td>2.800000</td>\n      <td>0.800000</td>\n      <td>12.839506</td>\n      <td>83.000000</td>\n      <td>215.500000</td>\n      <td>108.000000</td>\n      <td>69.700000</td>\n      <td>37.642046</td>\n      <td>37.70000</td>\n      <td>0.000000</td>\n      <td>16.566907</td>\n      <td>-3.626882</td>\n      <td>-1.503942</td>\n      <td>9.609388</td>\n    </tr>\n    <tr>\n      <th>25%</th>\n      <td>10925.000000</td>\n      <td>6.000000</td>\n      <td>4.500000</td>\n      <td>30.804810</td>\n      <td>90.000000</td>\n      <td>229.400000</td>\n      <td>137.000000</td>\n      <td>71.850000</td>\n      <td>45.840708</td>\n      <td>44.70000</td>\n      <td>23.500000</td>\n      <td>24.548244</td>\n      <td>-0.978749</td>\n      <td>0.066833</td>\n      <td>12.664899</td>\n    </tr>\n    <tr>\n      <th>50%</th>\n      <td>11326.000000</td>\n      <td>7.900000</td>\n      <td>8.000000</td>\n      <td>35.481055</td>\n      <td>95.000000</td>\n      <td>234.900000</td>\n      <td>149.000000</td>\n      <td>72.350000</td>\n      <td>51.632047</td>\n      <td>50.30000</td>\n      <td>35.100000</td>\n      <td>29.373783</td>\n      <td>0.111987</td>\n      <td>0.782924</td>\n      <td>13.688415</td>\n    </tr>\n    <tr>\n      <th>75%</th>\n      <td>11956.000000</td>\n      <td>11.300000</td>\n      <td>15.800000</td>\n      <td>39.307787</td>\n      <td>99.000000</td>\n      <td>243.600000</td>\n      <td>161.000000</td>\n      <td>72.850000</td>\n      <td>57.434402</td>\n      <td>56.70000</td>\n      <td>44.100000</td>\n      <td>39.463535</td>\n      <td>0.644199</td>\n      <td>1.389803</td>\n      <td>14.686678</td>\n    </tr>\n    <tr>\n      <th>max</th>\n      <td>17437.000000</td>\n      <td>21.500000</td>\n      <td>56.600000</td>\n      <td>53.784541</td>\n      <td>135.000000</td>\n      <td>278.600000</td>\n      <td>223.000000</td>\n      <td>73.750000</td>\n      <td>82.432432</td>\n      <td>84.00000</td>\n      <td>59.100000</td>\n      <td>100.981444</td>\n      <td>8.105023</td>\n      <td>11.580121</td>\n      <td>16.339991</td>\n    </tr>\n  </tbody>\n</table>\n</div>"
     },
     "execution_count": 42,
     "metadata": {},
     "output_type": "execute_result"
    }
   ],
   "source": [
    "data = pd.read_csv(\"../Data/districts_cr.csv\", encoding='Windows-1250', index_col=\"Unnamed: 0\")\n",
    "data.describe()"
   ],
   "metadata": {
    "collapsed": false,
    "pycharm": {
     "name": "#%%\n"
    }
   }
  },
  {
   "cell_type": "code",
   "execution_count": 4,
   "outputs": [],
   "source": [
    "econ_cols = data.columns[:7]\n",
    "demo_cols = data.columns[7:]"
   ],
   "metadata": {
    "collapsed": false,
    "pycharm": {
     "name": "#%%\n"
    }
   }
  },
  {
   "cell_type": "markdown",
   "source": [
    "## Outlier Detection"
   ],
   "metadata": {
    "collapsed": false,
    "pycharm": {
     "name": "#%% md\n"
    }
   }
  },
  {
   "cell_type": "code",
   "execution_count": 5,
   "outputs": [
    {
     "data": {
      "text/plain": "                  Earning99    Unempl   Unempl2   Unempl3  BuyingPower  \\\nCapitalPraha       4.944297 -1.348364 -0.674618 -1.212578     4.916963   \nBenešov           -0.235749 -1.323808 -0.870170 -2.780663     0.027678   \nBeroun             0.563079 -0.955463 -0.727950  0.037474     0.529143   \nKladno             0.580093  0.223239 -0.239072  0.718458     0.529143   \nKolín              0.136016  0.223239 -0.363513  0.380464     0.153045   \nKutná Hora        -0.600709  0.591584  0.827573  0.566832     0.278411   \nMělník             1.408696 -0.366112 -0.203517  0.081291     0.654510   \nMladá Boleslav     2.995293 -1.397477 -0.914613 -0.722837     1.030608   \nNymburk           -0.259570  0.002232 -0.639063  0.644914     0.403777   \nPraha-východ       2.025470 -1.446589 -1.003500 -2.458778     1.782806   \nPraha-západ        1.914876 -1.495702 -0.941279 -1.859502     2.033539   \nPříbram           -0.573486 -0.145105 -0.532399 -0.005944    -0.097688   \nRakovník          -0.422058 -0.071437  0.205364  0.366291    -0.097688   \nČeské Budějovice   1.372966 -1.102801 -0.354625 -1.718815     0.779876   \nČeský Krumlov     -0.049441 -0.046880 -0.141296  0.011331    -0.097688   \n\n                  X.Progre   Enterpr     Lifex   Divorce  Abortion       Pop  \\\nCapitalPraha      3.685746  3.732409  1.211526  0.224098  0.312184 -2.269372   \nBenešov          -0.549720  0.521865 -0.370611 -0.957481  0.056459  0.725923   \nBeroun            0.210044  0.521865 -0.546404 -0.224950  0.365460  1.367772   \nKladno            1.336591 -0.979841 -0.839392  0.820172  1.249844 -0.323120   \nKolín             0.585559 -0.099531 -0.136221 -0.876633  0.003183  1.229740   \nKutná Hora       -0.855373  0.055818  0.332561  0.496377  0.290874  0.498170   \nMělník            0.227510  0.470082 -0.429209  1.724370  1.047395  0.505072   \nMladá Boleslav   -0.846640  0.211167 -0.194818  0.289635 -0.998408 -0.136777   \nNymburk           0.472031  1.246826 -0.077623  0.012799 -0.977098  0.774234   \nPraha-východ      1.127001  1.868222  0.273963 -0.166870 -0.135335  0.939872   \nPraha-západ       1.310392  2.489617 -0.194818  0.136131 -0.753338  1.492000   \nPříbram          -0.130540  0.987911 -0.312014  0.228737 -0.625475  0.463662   \nRakovník         -0.130540 -0.047748 -1.015185  0.276882 -0.444337  1.809474   \nČeské Budějovice  0.882479  0.780780  1.094330 -0.388788  0.525289 -0.668200   \nČeský Krumlov    -0.785509  0.107601 -0.546404 -0.262571  1.430983  0.125484   \n\n                     Crime     Grow.      Migr     Pop65  \nCapitalPraha      4.846216 -1.602400 -0.114942  1.996097  \nBenešov          -0.073894 -1.394194 -0.134313  0.939093  \nBeroun            1.045457 -0.191206  1.144104  0.709016  \nKladno            0.547950  0.487318  1.104206  0.319114  \nKolín             0.294205 -1.424505  0.198124  1.354830  \nKutná Hora        0.331249 -1.166319 -0.321205  0.874680  \nMělník            2.068135  0.357271  0.481397 -0.073337  \nMladá Boleslav    1.875323  0.290408  0.642849  0.041208  \nNymburk           0.179283 -0.283514  1.515450  1.351329  \nPraha-východ      2.141636  1.243002  2.489201  0.813501  \nPraha-západ       1.898021  4.594440  6.056174  0.870856  \nPříbram           0.672115 -0.731216 -0.473735  0.162512  \nRakovník          0.549850 -1.510702 -0.123021  0.595737  \nČeské Budějovice  0.377179  1.740450  1.269701 -0.252506  \nČeský Krumlov    -0.236761  1.909430 -0.093169 -2.233517  ",
      "text/html": "<div>\n<style scoped>\n    .dataframe tbody tr th:only-of-type {\n        vertical-align: middle;\n    }\n\n    .dataframe tbody tr th {\n        vertical-align: top;\n    }\n\n    .dataframe thead th {\n        text-align: right;\n    }\n</style>\n<table border=\"1\" class=\"dataframe\">\n  <thead>\n    <tr style=\"text-align: right;\">\n      <th></th>\n      <th>Earning99</th>\n      <th>Unempl</th>\n      <th>Unempl2</th>\n      <th>Unempl3</th>\n      <th>BuyingPower</th>\n      <th>X.Progre</th>\n      <th>Enterpr</th>\n      <th>Lifex</th>\n      <th>Divorce</th>\n      <th>Abortion</th>\n      <th>Pop</th>\n      <th>Crime</th>\n      <th>Grow.</th>\n      <th>Migr</th>\n      <th>Pop65</th>\n    </tr>\n  </thead>\n  <tbody>\n    <tr>\n      <th>CapitalPraha</th>\n      <td>4.944297</td>\n      <td>-1.348364</td>\n      <td>-0.674618</td>\n      <td>-1.212578</td>\n      <td>4.916963</td>\n      <td>3.685746</td>\n      <td>3.732409</td>\n      <td>1.211526</td>\n      <td>0.224098</td>\n      <td>0.312184</td>\n      <td>-2.269372</td>\n      <td>4.846216</td>\n      <td>-1.602400</td>\n      <td>-0.114942</td>\n      <td>1.996097</td>\n    </tr>\n    <tr>\n      <th>Benešov</th>\n      <td>-0.235749</td>\n      <td>-1.323808</td>\n      <td>-0.870170</td>\n      <td>-2.780663</td>\n      <td>0.027678</td>\n      <td>-0.549720</td>\n      <td>0.521865</td>\n      <td>-0.370611</td>\n      <td>-0.957481</td>\n      <td>0.056459</td>\n      <td>0.725923</td>\n      <td>-0.073894</td>\n      <td>-1.394194</td>\n      <td>-0.134313</td>\n      <td>0.939093</td>\n    </tr>\n    <tr>\n      <th>Beroun</th>\n      <td>0.563079</td>\n      <td>-0.955463</td>\n      <td>-0.727950</td>\n      <td>0.037474</td>\n      <td>0.529143</td>\n      <td>0.210044</td>\n      <td>0.521865</td>\n      <td>-0.546404</td>\n      <td>-0.224950</td>\n      <td>0.365460</td>\n      <td>1.367772</td>\n      <td>1.045457</td>\n      <td>-0.191206</td>\n      <td>1.144104</td>\n      <td>0.709016</td>\n    </tr>\n    <tr>\n      <th>Kladno</th>\n      <td>0.580093</td>\n      <td>0.223239</td>\n      <td>-0.239072</td>\n      <td>0.718458</td>\n      <td>0.529143</td>\n      <td>1.336591</td>\n      <td>-0.979841</td>\n      <td>-0.839392</td>\n      <td>0.820172</td>\n      <td>1.249844</td>\n      <td>-0.323120</td>\n      <td>0.547950</td>\n      <td>0.487318</td>\n      <td>1.104206</td>\n      <td>0.319114</td>\n    </tr>\n    <tr>\n      <th>Kolín</th>\n      <td>0.136016</td>\n      <td>0.223239</td>\n      <td>-0.363513</td>\n      <td>0.380464</td>\n      <td>0.153045</td>\n      <td>0.585559</td>\n      <td>-0.099531</td>\n      <td>-0.136221</td>\n      <td>-0.876633</td>\n      <td>0.003183</td>\n      <td>1.229740</td>\n      <td>0.294205</td>\n      <td>-1.424505</td>\n      <td>0.198124</td>\n      <td>1.354830</td>\n    </tr>\n    <tr>\n      <th>Kutná Hora</th>\n      <td>-0.600709</td>\n      <td>0.591584</td>\n      <td>0.827573</td>\n      <td>0.566832</td>\n      <td>0.278411</td>\n      <td>-0.855373</td>\n      <td>0.055818</td>\n      <td>0.332561</td>\n      <td>0.496377</td>\n      <td>0.290874</td>\n      <td>0.498170</td>\n      <td>0.331249</td>\n      <td>-1.166319</td>\n      <td>-0.321205</td>\n      <td>0.874680</td>\n    </tr>\n    <tr>\n      <th>Mělník</th>\n      <td>1.408696</td>\n      <td>-0.366112</td>\n      <td>-0.203517</td>\n      <td>0.081291</td>\n      <td>0.654510</td>\n      <td>0.227510</td>\n      <td>0.470082</td>\n      <td>-0.429209</td>\n      <td>1.724370</td>\n      <td>1.047395</td>\n      <td>0.505072</td>\n      <td>2.068135</td>\n      <td>0.357271</td>\n      <td>0.481397</td>\n      <td>-0.073337</td>\n    </tr>\n    <tr>\n      <th>Mladá Boleslav</th>\n      <td>2.995293</td>\n      <td>-1.397477</td>\n      <td>-0.914613</td>\n      <td>-0.722837</td>\n      <td>1.030608</td>\n      <td>-0.846640</td>\n      <td>0.211167</td>\n      <td>-0.194818</td>\n      <td>0.289635</td>\n      <td>-0.998408</td>\n      <td>-0.136777</td>\n      <td>1.875323</td>\n      <td>0.290408</td>\n      <td>0.642849</td>\n      <td>0.041208</td>\n    </tr>\n    <tr>\n      <th>Nymburk</th>\n      <td>-0.259570</td>\n      <td>0.002232</td>\n      <td>-0.639063</td>\n      <td>0.644914</td>\n      <td>0.403777</td>\n      <td>0.472031</td>\n      <td>1.246826</td>\n      <td>-0.077623</td>\n      <td>0.012799</td>\n      <td>-0.977098</td>\n      <td>0.774234</td>\n      <td>0.179283</td>\n      <td>-0.283514</td>\n      <td>1.515450</td>\n      <td>1.351329</td>\n    </tr>\n    <tr>\n      <th>Praha-východ</th>\n      <td>2.025470</td>\n      <td>-1.446589</td>\n      <td>-1.003500</td>\n      <td>-2.458778</td>\n      <td>1.782806</td>\n      <td>1.127001</td>\n      <td>1.868222</td>\n      <td>0.273963</td>\n      <td>-0.166870</td>\n      <td>-0.135335</td>\n      <td>0.939872</td>\n      <td>2.141636</td>\n      <td>1.243002</td>\n      <td>2.489201</td>\n      <td>0.813501</td>\n    </tr>\n    <tr>\n      <th>Praha-západ</th>\n      <td>1.914876</td>\n      <td>-1.495702</td>\n      <td>-0.941279</td>\n      <td>-1.859502</td>\n      <td>2.033539</td>\n      <td>1.310392</td>\n      <td>2.489617</td>\n      <td>-0.194818</td>\n      <td>0.136131</td>\n      <td>-0.753338</td>\n      <td>1.492000</td>\n      <td>1.898021</td>\n      <td>4.594440</td>\n      <td>6.056174</td>\n      <td>0.870856</td>\n    </tr>\n    <tr>\n      <th>Příbram</th>\n      <td>-0.573486</td>\n      <td>-0.145105</td>\n      <td>-0.532399</td>\n      <td>-0.005944</td>\n      <td>-0.097688</td>\n      <td>-0.130540</td>\n      <td>0.987911</td>\n      <td>-0.312014</td>\n      <td>0.228737</td>\n      <td>-0.625475</td>\n      <td>0.463662</td>\n      <td>0.672115</td>\n      <td>-0.731216</td>\n      <td>-0.473735</td>\n      <td>0.162512</td>\n    </tr>\n    <tr>\n      <th>Rakovník</th>\n      <td>-0.422058</td>\n      <td>-0.071437</td>\n      <td>0.205364</td>\n      <td>0.366291</td>\n      <td>-0.097688</td>\n      <td>-0.130540</td>\n      <td>-0.047748</td>\n      <td>-1.015185</td>\n      <td>0.276882</td>\n      <td>-0.444337</td>\n      <td>1.809474</td>\n      <td>0.549850</td>\n      <td>-1.510702</td>\n      <td>-0.123021</td>\n      <td>0.595737</td>\n    </tr>\n    <tr>\n      <th>České Budějovice</th>\n      <td>1.372966</td>\n      <td>-1.102801</td>\n      <td>-0.354625</td>\n      <td>-1.718815</td>\n      <td>0.779876</td>\n      <td>0.882479</td>\n      <td>0.780780</td>\n      <td>1.094330</td>\n      <td>-0.388788</td>\n      <td>0.525289</td>\n      <td>-0.668200</td>\n      <td>0.377179</td>\n      <td>1.740450</td>\n      <td>1.269701</td>\n      <td>-0.252506</td>\n    </tr>\n    <tr>\n      <th>Český Krumlov</th>\n      <td>-0.049441</td>\n      <td>-0.046880</td>\n      <td>-0.141296</td>\n      <td>0.011331</td>\n      <td>-0.097688</td>\n      <td>-0.785509</td>\n      <td>0.107601</td>\n      <td>-0.546404</td>\n      <td>-0.262571</td>\n      <td>1.430983</td>\n      <td>0.125484</td>\n      <td>-0.236761</td>\n      <td>1.909430</td>\n      <td>-0.093169</td>\n      <td>-2.233517</td>\n    </tr>\n  </tbody>\n</table>\n</div>"
     },
     "execution_count": 5,
     "metadata": {},
     "output_type": "execute_result"
    }
   ],
   "source": [
    "scaler = StandardScaler()\n",
    "\n",
    "data_ss = pd.DataFrame(scaler.fit_transform(data), columns = data.columns)\n",
    "data_ss.index = data.index\n",
    "\n",
    "data_ss.head(15)"
   ],
   "metadata": {
    "collapsed": false,
    "pycharm": {
     "name": "#%%\n"
    }
   }
  },
  {
   "cell_type": "code",
   "execution_count": 6,
   "outputs": [
    {
     "data": {
      "text/plain": "<AxesSubplot:>"
     },
     "execution_count": 6,
     "metadata": {},
     "output_type": "execute_result"
    },
    {
     "data": {
      "text/plain": "<Figure size 1440x720 with 2 Axes>",
      "image/png": "[encoded data removed]"
     },
     "metadata": {},
     "output_type": "display_data"
    }
   ],
   "source": [
    "sns.heatmap(data_ss.corr(), annot=True)"
   ],
   "metadata": {
    "collapsed": false,
    "pycharm": {
     "name": "#%%\n"
    }
   }
  },
  {
   "cell_type": "markdown",
   "source": [
    "## II. Standardization"
   ],
   "metadata": {
    "collapsed": false,
    "pycharm": {
     "name": "#%% md\n"
    }
   }
  },
  {
   "cell_type": "code",
   "execution_count": 48,
   "outputs": [
    {
     "data": {
      "text/plain": "               Earning99  Unempl  Unempl2    Unempl3  BuyingPower  X.Progre  \\\nBenešov            11348     3.5      2.3  12.839506           96     230.1   \nBeroun             12287     5.0      3.9  35.122210          100     238.8   \nKladno             12307     9.8      9.4  40.506678          100     251.7   \nKolín              11785     9.8      8.0  37.834195           97     243.1   \nKutná Hora         10919    11.3     21.4  39.307787           98     226.6   \n...                  ...     ...      ...        ...          ...       ...   \nOstrava-město      13301    16.6     26.1  46.818423          101     251.0   \nPřerov             11250    14.2      8.4  47.430186           91     240.1   \nŠumperk            10931    11.3     10.5  41.391280           91     230.3   \nVsetín             11436     9.5     11.4  41.244141           91     240.1   \nJeseník            10106    13.2     16.5  31.138129           92     237.0   \n\n               Enterpr  Lifex    Divorce  Abortion   Pop      Crime     Grow.  \\\nBenešov            161  71.90  43.991416      52.3  43.4  32.439563 -2.457573   \nBeroun             161  71.75  50.877193      55.2  52.7  48.033198 -0.335775   \nKladno             132  71.50  60.701330      63.5  28.2  41.102444  0.860988   \nKolín              149  72.10  44.751381      51.8  50.7  37.567534 -2.511035   \nKutná Hora         152  72.50  57.657658      54.5  40.1  38.083601 -2.055654   \n...                ...    ...        ...       ...   ...        ...       ...   \nOstrava-město      146  71.10  73.345154      53.5   0.0  58.281846 -2.219431   \nPřerov             142  72.10  49.000000      50.5  35.8  30.983898 -1.569283   \nŠumperk            136  72.85  58.464223      50.4  29.0  18.520992  0.599714   \nVsetín             162  72.55  49.929676      40.3  26.9  24.001728  0.852058   \nJeseník            162  72.85  80.526316      55.3  34.0  25.133852  0.111987   \n\n                   Migr      Pop65  \nBenešov        0.782924  14.850659  \nBeroun         3.012688  14.526477  \nKladno         2.943099  13.977101  \nKolín          1.362747  15.436438  \nKutná Hora     0.456954  14.759901  \n...                 ...        ...  \nOstrava-město -1.503942  12.542994  \nPřerov        -0.694565  13.486065  \nŠumperk       -0.285728  12.867656  \nVsetín         0.534136  12.582728  \nJeseník       -0.655592  11.652647  \n\n[72 rows x 15 columns]",
      "text/html": "<div>\n<style scoped>\n    .dataframe tbody tr th:only-of-type {\n        vertical-align: middle;\n    }\n\n    .dataframe tbody tr th {\n        vertical-align: top;\n    }\n\n    .dataframe thead th {\n        text-align: right;\n    }\n</style>\n<table border=\"1\" class=\"dataframe\">\n  <thead>\n    <tr style=\"text-align: right;\">\n      <th></th>\n      <th>Earning99</th>\n      <th>Unempl</th>\n      <th>Unempl2</th>\n      <th>Unempl3</th>\n      <th>BuyingPower</th>\n      <th>X.Progre</th>\n      <th>Enterpr</th>\n      <th>Lifex</th>\n      <th>Divorce</th>\n      <th>Abortion</th>\n      <th>Pop</th>\n      <th>Crime</th>\n      <th>Grow.</th>\n      <th>Migr</th>\n      <th>Pop65</th>\n    </tr>\n  </thead>\n  <tbody>\n    <tr>\n      <th>Benešov</th>\n      <td>11348</td>\n      <td>3.5</td>\n      <td>2.3</td>\n      <td>12.839506</td>\n      <td>96</td>\n      <td>230.1</td>\n      <td>161</td>\n      <td>71.90</td>\n      <td>43.991416</td>\n      <td>52.3</td>\n      <td>43.4</td>\n      <td>32.439563</td>\n      <td>-2.457573</td>\n      <td>0.782924</td>\n      <td>14.850659</td>\n    </tr>\n    <tr>\n      <th>Beroun</th>\n      <td>12287</td>\n      <td>5.0</td>\n      <td>3.9</td>\n      <td>35.122210</td>\n      <td>100</td>\n      <td>238.8</td>\n      <td>161</td>\n      <td>71.75</td>\n      <td>50.877193</td>\n      <td>55.2</td>\n      <td>52.7</td>\n      <td>48.033198</td>\n      <td>-0.335775</td>\n      <td>3.012688</td>\n      <td>14.526477</td>\n    </tr>\n    <tr>\n      <th>Kladno</th>\n      <td>12307</td>\n      <td>9.8</td>\n      <td>9.4</td>\n      <td>40.506678</td>\n      <td>100</td>\n      <td>251.7</td>\n      <td>132</td>\n      <td>71.50</td>\n      <td>60.701330</td>\n      <td>63.5</td>\n      <td>28.2</td>\n      <td>41.102444</td>\n      <td>0.860988</td>\n      <td>2.943099</td>\n      <td>13.977101</td>\n    </tr>\n    <tr>\n      <th>Kolín</th>\n      <td>11785</td>\n      <td>9.8</td>\n      <td>8.0</td>\n      <td>37.834195</td>\n      <td>97</td>\n      <td>243.1</td>\n      <td>149</td>\n      <td>72.10</td>\n      <td>44.751381</td>\n      <td>51.8</td>\n      <td>50.7</td>\n      <td>37.567534</td>\n      <td>-2.511035</td>\n      <td>1.362747</td>\n      <td>15.436438</td>\n    </tr>\n    <tr>\n      <th>Kutná Hora</th>\n      <td>10919</td>\n      <td>11.3</td>\n      <td>21.4</td>\n      <td>39.307787</td>\n      <td>98</td>\n      <td>226.6</td>\n      <td>152</td>\n      <td>72.50</td>\n      <td>57.657658</td>\n      <td>54.5</td>\n      <td>40.1</td>\n      <td>38.083601</td>\n      <td>-2.055654</td>\n      <td>0.456954</td>\n      <td>14.759901</td>\n    </tr>\n    <tr>\n      <th>...</th>\n      <td>...</td>\n      <td>...</td>\n      <td>...</td>\n      <td>...</td>\n      <td>...</td>\n      <td>...</td>\n      <td>...</td>\n      <td>...</td>\n      <td>...</td>\n      <td>...</td>\n      <td>...</td>\n      <td>...</td>\n      <td>...</td>\n      <td>...</td>\n      <td>...</td>\n    </tr>\n    <tr>\n      <th>Ostrava-město</th>\n      <td>13301</td>\n      <td>16.6</td>\n      <td>26.1</td>\n      <td>46.818423</td>\n      <td>101</td>\n      <td>251.0</td>\n      <td>146</td>\n      <td>71.10</td>\n      <td>73.345154</td>\n      <td>53.5</td>\n      <td>0.0</td>\n      <td>58.281846</td>\n      <td>-2.219431</td>\n      <td>-1.503942</td>\n      <td>12.542994</td>\n    </tr>\n    <tr>\n      <th>Přerov</th>\n      <td>11250</td>\n      <td>14.2</td>\n      <td>8.4</td>\n      <td>47.430186</td>\n      <td>91</td>\n      <td>240.1</td>\n      <td>142</td>\n      <td>72.10</td>\n      <td>49.000000</td>\n      <td>50.5</td>\n      <td>35.8</td>\n      <td>30.983898</td>\n      <td>-1.569283</td>\n      <td>-0.694565</td>\n      <td>13.486065</td>\n    </tr>\n    <tr>\n      <th>Šumperk</th>\n      <td>10931</td>\n      <td>11.3</td>\n      <td>10.5</td>\n      <td>41.391280</td>\n      <td>91</td>\n      <td>230.3</td>\n      <td>136</td>\n      <td>72.85</td>\n      <td>58.464223</td>\n      <td>50.4</td>\n      <td>29.0</td>\n      <td>18.520992</td>\n      <td>0.599714</td>\n      <td>-0.285728</td>\n      <td>12.867656</td>\n    </tr>\n    <tr>\n      <th>Vsetín</th>\n      <td>11436</td>\n      <td>9.5</td>\n      <td>11.4</td>\n      <td>41.244141</td>\n      <td>91</td>\n      <td>240.1</td>\n      <td>162</td>\n      <td>72.55</td>\n      <td>49.929676</td>\n      <td>40.3</td>\n      <td>26.9</td>\n      <td>24.001728</td>\n      <td>0.852058</td>\n      <td>0.534136</td>\n      <td>12.582728</td>\n    </tr>\n    <tr>\n      <th>Jeseník</th>\n      <td>10106</td>\n      <td>13.2</td>\n      <td>16.5</td>\n      <td>31.138129</td>\n      <td>92</td>\n      <td>237.0</td>\n      <td>162</td>\n      <td>72.85</td>\n      <td>80.526316</td>\n      <td>55.3</td>\n      <td>34.0</td>\n      <td>25.133852</td>\n      <td>0.111987</td>\n      <td>-0.655592</td>\n      <td>11.652647</td>\n    </tr>\n  </tbody>\n</table>\n<p>72 rows × 15 columns</p>\n</div>"
     },
     "execution_count": 48,
     "metadata": {},
     "output_type": "execute_result"
    }
   ],
   "source": [
    "data[(np.abs(stats.zscore(data)) < 3).all(axis=1)].index"
   ],
   "metadata": {
    "collapsed": false,
    "pycharm": {
     "name": "#%%\n"
    }
   }
  },
  {
   "cell_type": "code",
   "execution_count": 57,
   "outputs": [
    {
     "data": {
      "text/plain": "            index  Earning99    Unempl   Unempl2   Unempl3  BuyingPower  \\\n0         Benešov  -0.235749 -1.323808 -0.870170 -2.780663     0.027678   \n1          Beroun   0.563079 -0.955463 -0.727950  0.037474     0.529143   \n2          Kladno   0.580093  0.223239 -0.239072  0.718458     0.529143   \n3           Kolín   0.136016  0.223239 -0.363513  0.380464     0.153045   \n4      Kutná Hora  -0.600709  0.591584  0.827573  0.566832     0.278411   \n..            ...        ...       ...       ...       ...          ...   \n67  Ostrava-město   1.425711  1.893067  1.245342  1.516717     0.654510   \n68         Přerov  -0.319120  1.303716 -0.327959  1.594088    -0.599153   \n69        Šumperk  -0.590501  0.591584 -0.141296  0.830336    -0.599153   \n70         Vsetín  -0.160886  0.149570 -0.061297  0.811727    -0.599153   \n71        Jeseník  -1.292346  1.058153  0.392027 -0.466400    -0.473787   \n\n    X.Progre   Enterpr     Lifex   Divorce  Abortion       Pop     Crime  \\\n0  -0.549720  0.521865 -0.370611 -0.957481  0.056459  0.725923 -0.073894   \n1   0.210044  0.521865 -0.546404 -0.224950  0.365460  1.367772  1.045457   \n2   1.336591 -0.979841 -0.839392  0.820172  1.249844 -0.323120  0.547950   \n3   0.585559 -0.099531 -0.136221 -0.876633  0.003183  1.229740  0.294205   \n4  -0.855373  0.055818  0.332561  0.496377  0.290874  0.498170  0.331249   \n..       ...       ...       ...       ...       ...       ...       ...   \n67  1.275460 -0.254880 -1.308174  2.165262  0.184322 -2.269372  1.781131   \n68  0.323572 -0.462012 -0.136221 -0.424652 -0.135335  0.201401 -0.178385   \n69 -0.532255 -0.772709  0.742744  0.582182 -0.145990 -0.267908 -1.073004   \n70  0.323572  0.573648  0.391158 -0.325750 -1.222168 -0.412841 -0.679583   \n71  0.052851  0.573648  0.742744  2.929217  0.376116  0.077172 -0.598316   \n\n       Grow.      Migr     Pop65  \n0  -1.394194 -0.134313  0.939093  \n1  -0.191206  1.144104  0.709016  \n2   0.487318  1.104206  0.319114  \n3  -1.424505  0.198124  1.354830  \n4  -1.166319 -0.321205  0.874680  \n..       ...       ...       ...  \n67 -1.259175 -1.445469 -0.698696  \n68 -0.890563 -0.981419 -0.029383  \n69  0.339185 -0.747016 -0.468278  \n70  0.482255 -0.276953 -0.670496  \n71  0.062660 -0.959075 -1.330591  \n\n[72 rows x 16 columns]",
      "text/html": "<div>\n<style scoped>\n    .dataframe tbody tr th:only-of-type {\n        vertical-align: middle;\n    }\n\n    .dataframe tbody tr th {\n        vertical-align: top;\n    }\n\n    .dataframe thead th {\n        text-align: right;\n    }\n</style>\n<table border=\"1\" class=\"dataframe\">\n  <thead>\n    <tr style=\"text-align: right;\">\n      <th></th>\n      <th>index</th>\n      <th>Earning99</th>\n      <th>Unempl</th>\n      <th>Unempl2</th>\n      <th>Unempl3</th>\n      <th>BuyingPower</th>\n      <th>X.Progre</th>\n      <th>Enterpr</th>\n      <th>Lifex</th>\n      <th>Divorce</th>\n      <th>Abortion</th>\n      <th>Pop</th>\n      <th>Crime</th>\n      <th>Grow.</th>\n      <th>Migr</th>\n      <th>Pop65</th>\n    </tr>\n  </thead>\n  <tbody>\n    <tr>\n      <th>0</th>\n      <td>Benešov</td>\n      <td>-0.235749</td>\n      <td>-1.323808</td>\n      <td>-0.870170</td>\n      <td>-2.780663</td>\n      <td>0.027678</td>\n      <td>-0.549720</td>\n      <td>0.521865</td>\n      <td>-0.370611</td>\n      <td>-0.957481</td>\n      <td>0.056459</td>\n      <td>0.725923</td>\n      <td>-0.073894</td>\n      <td>-1.394194</td>\n      <td>-0.134313</td>\n      <td>0.939093</td>\n    </tr>\n    <tr>\n      <th>1</th>\n      <td>Beroun</td>\n      <td>0.563079</td>\n      <td>-0.955463</td>\n      <td>-0.727950</td>\n      <td>0.037474</td>\n      <td>0.529143</td>\n      <td>0.210044</td>\n      <td>0.521865</td>\n      <td>-0.546404</td>\n      <td>-0.224950</td>\n      <td>0.365460</td>\n      <td>1.367772</td>\n      <td>1.045457</td>\n      <td>-0.191206</td>\n      <td>1.144104</td>\n      <td>0.709016</td>\n    </tr>\n    <tr>\n      <th>2</th>\n      <td>Kladno</td>\n      <td>0.580093</td>\n      <td>0.223239</td>\n      <td>-0.239072</td>\n      <td>0.718458</td>\n      <td>0.529143</td>\n      <td>1.336591</td>\n      <td>-0.979841</td>\n      <td>-0.839392</td>\n      <td>0.820172</td>\n      <td>1.249844</td>\n      <td>-0.323120</td>\n      <td>0.547950</td>\n      <td>0.487318</td>\n      <td>1.104206</td>\n      <td>0.319114</td>\n    </tr>\n    <tr>\n      <th>3</th>\n      <td>Kolín</td>\n      <td>0.136016</td>\n      <td>0.223239</td>\n      <td>-0.363513</td>\n      <td>0.380464</td>\n      <td>0.153045</td>\n      <td>0.585559</td>\n      <td>-0.099531</td>\n      <td>-0.136221</td>\n      <td>-0.876633</td>\n      <td>0.003183</td>\n      <td>1.229740</td>\n      <td>0.294205</td>\n      <td>-1.424505</td>\n      <td>0.198124</td>\n      <td>1.354830</td>\n    </tr>\n    <tr>\n      <th>4</th>\n      <td>Kutná Hora</td>\n      <td>-0.600709</td>\n      <td>0.591584</td>\n      <td>0.827573</td>\n      <td>0.566832</td>\n      <td>0.278411</td>\n      <td>-0.855373</td>\n      <td>0.055818</td>\n      <td>0.332561</td>\n      <td>0.496377</td>\n      <td>0.290874</td>\n      <td>0.498170</td>\n      <td>0.331249</td>\n      <td>-1.166319</td>\n      <td>-0.321205</td>\n      <td>0.874680</td>\n    </tr>\n    <tr>\n      <th>...</th>\n      <td>...</td>\n      <td>...</td>\n      <td>...</td>\n      <td>...</td>\n      <td>...</td>\n      <td>...</td>\n      <td>...</td>\n      <td>...</td>\n      <td>...</td>\n      <td>...</td>\n      <td>...</td>\n      <td>...</td>\n      <td>...</td>\n      <td>...</td>\n      <td>...</td>\n      <td>...</td>\n    </tr>\n    <tr>\n      <th>67</th>\n      <td>Ostrava-město</td>\n      <td>1.425711</td>\n      <td>1.893067</td>\n      <td>1.245342</td>\n      <td>1.516717</td>\n      <td>0.654510</td>\n      <td>1.275460</td>\n      <td>-0.254880</td>\n      <td>-1.308174</td>\n      <td>2.165262</td>\n      <td>0.184322</td>\n      <td>-2.269372</td>\n      <td>1.781131</td>\n      <td>-1.259175</td>\n      <td>-1.445469</td>\n      <td>-0.698696</td>\n    </tr>\n    <tr>\n      <th>68</th>\n      <td>Přerov</td>\n      <td>-0.319120</td>\n      <td>1.303716</td>\n      <td>-0.327959</td>\n      <td>1.594088</td>\n      <td>-0.599153</td>\n      <td>0.323572</td>\n      <td>-0.462012</td>\n      <td>-0.136221</td>\n      <td>-0.424652</td>\n      <td>-0.135335</td>\n      <td>0.201401</td>\n      <td>-0.178385</td>\n      <td>-0.890563</td>\n      <td>-0.981419</td>\n      <td>-0.029383</td>\n    </tr>\n    <tr>\n      <th>69</th>\n      <td>Šumperk</td>\n      <td>-0.590501</td>\n      <td>0.591584</td>\n      <td>-0.141296</td>\n      <td>0.830336</td>\n      <td>-0.599153</td>\n      <td>-0.532255</td>\n      <td>-0.772709</td>\n      <td>0.742744</td>\n      <td>0.582182</td>\n      <td>-0.145990</td>\n      <td>-0.267908</td>\n      <td>-1.073004</td>\n      <td>0.339185</td>\n      <td>-0.747016</td>\n      <td>-0.468278</td>\n    </tr>\n    <tr>\n      <th>70</th>\n      <td>Vsetín</td>\n      <td>-0.160886</td>\n      <td>0.149570</td>\n      <td>-0.061297</td>\n      <td>0.811727</td>\n      <td>-0.599153</td>\n      <td>0.323572</td>\n      <td>0.573648</td>\n      <td>0.391158</td>\n      <td>-0.325750</td>\n      <td>-1.222168</td>\n      <td>-0.412841</td>\n      <td>-0.679583</td>\n      <td>0.482255</td>\n      <td>-0.276953</td>\n      <td>-0.670496</td>\n    </tr>\n    <tr>\n      <th>71</th>\n      <td>Jeseník</td>\n      <td>-1.292346</td>\n      <td>1.058153</td>\n      <td>0.392027</td>\n      <td>-0.466400</td>\n      <td>-0.473787</td>\n      <td>0.052851</td>\n      <td>0.573648</td>\n      <td>0.742744</td>\n      <td>2.929217</td>\n      <td>0.376116</td>\n      <td>0.077172</td>\n      <td>-0.598316</td>\n      <td>0.062660</td>\n      <td>-0.959075</td>\n      <td>-1.330591</td>\n    </tr>\n  </tbody>\n</table>\n<p>72 rows × 16 columns</p>\n</div>"
     },
     "execution_count": 57,
     "metadata": {},
     "output_type": "execute_result"
    }
   ],
   "source": [
    "data_ss.reset_index()"
   ],
   "metadata": {
    "collapsed": false,
    "pycharm": {
     "name": "#%%\n"
    }
   }
  },
  {
   "cell_type": "code",
   "execution_count": 58,
   "outputs": [
    {
     "data": {
      "application/vnd.plotly.v1+json": {
       "data": [
        {
         "alignmentgroup": "True",
         "box": {
          "visible": true
         },
         "hovertemplate": "variable=%{x}<br>value=%{y}<extra></extra>",
         "legendgroup": "Earning99",
         "marker": {
          "color": "#636efa"
         },
         "name": "Earning99",
         "offsetgroup": "Earning99",
         "orientation": "v",
         "points": "all",
         "scalegroup": "True",
         "showlegend": true,
         "x": [
          "Earning99",
          "Earning99",
          "Earning99",
          "Earning99",
          "Earning99",
          "Earning99",
          "Earning99",
          "Earning99",
          "Earning99",
          "Earning99",
          "Earning99",
          "Earning99",
          "Earning99",
          "Earning99",
          "Earning99",
          "Earning99",
          "Earning99",
          "Earning99",
          "Earning99",
          "Earning99",
          "Earning99",
          "Earning99",
          "Earning99",
          "Earning99",
          "Earning99",
          "Earning99",
          "Earning99",
          "Earning99",
          "Earning99",
          "Earning99",
          "Earning99",
          "Earning99",
          "Earning99",
          "Earning99",
          "Earning99",
          "Earning99",
          "Earning99",
          "Earning99",
          "Earning99",
          "Earning99",
          "Earning99",
          "Earning99",
          "Earning99",
          "Earning99",
          "Earning99",
          "Earning99",
          "Earning99",
          "Earning99",
          "Earning99",
          "Earning99",
          "Earning99",
          "Earning99",
          "Earning99",
          "Earning99",
          "Earning99",
          "Earning99",
          "Earning99",
          "Earning99",
          "Earning99",
          "Earning99",
          "Earning99",
          "Earning99",
          "Earning99",
          "Earning99",
          "Earning99",
          "Earning99",
          "Earning99",
          "Earning99",
          "Earning99",
          "Earning99",
          "Earning99",
          "Earning99"
         ],
         "x0": " ",
         "xaxis": "x",
         "y": [
          -0.23574944437919607,
          0.563078565600605,
          0.580093006707736,
          0.13601609381161658,
          -0.6007092061271563,
          1.4086962886250163,
          2.9952929218649835,
          -0.25956966192917946,
          2.0254697787585156,
          -0.5734861003557467,
          -0.42205757450228065,
          1.3729659623000412,
          -0.049441314256111465,
          -0.8125389979109374,
          -1.2098261977624465,
          -0.47735450810045643,
          -0.9435501944358462,
          -0.3897301363987317,
          -0.058799256865033525,
          -0.4331169612219158,
          -0.2246900576595609,
          -0.5224427770343536,
          1.6247796906855803,
          -0.2731812148148843,
          -0.5190398888129274,
          -0.06900792152931214,
          0.1819550848008703,
          -0.22894366793634366,
          0.28148956527758673,
          -0.4654443993254647,
          0.19216374946514891,
          -0.24765955315418778,
          0.2729823447240212,
          0.06370471910630977,
          -0.4109981877826455,
          0.4082471515257128,
          0.6149726109773546,
          -0.6662148043896107,
          0.3393386650418322,
          -0.7079001851020816,
          -0.595604873795017,
          -0.5734861003557467,
          0.3010561725507874,
          0.15558270108481725,
          -0.7044972968806554,
          -0.9197299768858628,
          -0.04093409370254596,
          -0.4731008978236737,
          -1.100933774676808,
          1.1551811161287642,
          0.06200327499559667,
          -0.6228279795664267,
          0.5018265776149333,
          -0.663662638223541,
          -0.2076756165524299,
          -0.7912709465270237,
          -0.6968407983824465,
          -0.6423945868396272,
          -0.7683014510323968,
          -0.8457171580698429,
          -0.8389113816269905,
          -0.5777397106325294,
          -1.3467924486748513,
          0.6005103360362932,
          -0.25446532959704016,
          -0.014561709986492888,
          -0.5675310459682508,
          1.4257107297321474,
          -0.319120205804138,
          -0.5905005414628777,
          -0.1608859035078196,
          -1.292346237132032
         ],
         "y0": " ",
         "yaxis": "y",
         "type": "violin"
        },
        {
         "alignmentgroup": "True",
         "box": {
          "visible": true
         },
         "hovertemplate": "variable=%{x}<br>value=%{y}<extra></extra>",
         "legendgroup": "Unempl",
         "marker": {
          "color": "#EF553B"
         },
         "name": "Unempl",
         "offsetgroup": "Unempl",
         "orientation": "v",
         "points": "all",
         "scalegroup": "True",
         "showlegend": true,
         "x": [
          "Unempl",
          "Unempl",
          "Unempl",
          "Unempl",
          "Unempl",
          "Unempl",
          "Unempl",
          "Unempl",
          "Unempl",
          "Unempl",
          "Unempl",
          "Unempl",
          "Unempl",
          "Unempl",
          "Unempl",
          "Unempl",
          "Unempl",
          "Unempl",
          "Unempl",
          "Unempl",
          "Unempl",
          "Unempl",
          "Unempl",
          "Unempl",
          "Unempl",
          "Unempl",
          "Unempl",
          "Unempl",
          "Unempl",
          "Unempl",
          "Unempl",
          "Unempl",
          "Unempl",
          "Unempl",
          "Unempl",
          "Unempl",
          "Unempl",
          "Unempl",
          "Unempl",
          "Unempl",
          "Unempl",
          "Unempl",
          "Unempl",
          "Unempl",
          "Unempl",
          "Unempl",
          "Unempl",
          "Unempl",
          "Unempl",
          "Unempl",
          "Unempl",
          "Unempl",
          "Unempl",
          "Unempl",
          "Unempl",
          "Unempl",
          "Unempl",
          "Unempl",
          "Unempl",
          "Unempl",
          "Unempl",
          "Unempl",
          "Unempl",
          "Unempl",
          "Unempl",
          "Unempl",
          "Unempl",
          "Unempl",
          "Unempl",
          "Unempl",
          "Unempl",
          "Unempl"
         ],
         "x0": " ",
         "xaxis": "x",
         "y": [
          -1.3238077150361018,
          -0.9554632412064952,
          0.22323907504824678,
          0.22323907504824678,
          0.5915835488778536,
          -0.3661120830791242,
          -1.3974766098020233,
          0.002232390750482616,
          -1.4465892063126375,
          -0.14510539878136,
          -0.07143650401543891,
          -1.1028010307383378,
          -0.04688020576013188,
          -0.9800195394618022,
          -1.2010262237595664,
          -0.3169994865685101,
          -0.709900258653424,
          -0.5625624691215813,
          -0.8081254516746526,
          -1.151913627248952,
          -0.16966169703666747,
          -0.6607876621428097,
          -0.39066838133443144,
          -1.0045758377171095,
          -0.7835691534193453,
          -0.2433305918025886,
          0.2477953733035538,
          -0.09599280227074596,
          -0.538006170866274,
          1.1563784087499172,
          1.9667362511750517,
          -0.9800195394618022,
          -0.39066838133443144,
          1.1563784087499172,
          2.0158488476856666,
          1.9912925494303593,
          1.2791599000264526,
          -0.6607876621428097,
          -0.5871187673768883,
          0.1250138820270182,
          -0.7590128551640383,
          -0.8817943464405739,
          -0.8326817499299596,
          -0.9554632412064952,
          -0.685343960398117,
          0.468802057601318,
          -0.685343960398117,
          -0.39066838133443144,
          -0.46433727610035275,
          -0.2433305918025886,
          -0.538006170866274,
          0.2969079698141679,
          -0.4888935743556598,
          1.2791599000264526,
          -0.6362313638875027,
          0.22323907504824678,
          0.3705768645800894,
          0.7143650401543892,
          -0.41522467958973847,
          0.1250138820270182,
          1.0090406192180745,
          -0.34155578482381715,
          2.0404051459409733,
          1.2791599000264526,
          0.8617028296862318,
          0.6161398471331606,
          0.4442457593460105,
          1.8930673564091312,
          1.3037161982817598,
          0.5915835488778536,
          0.14957018028232524,
          1.0581532157286886
         ],
         "y0": " ",
         "yaxis": "y",
         "type": "violin"
        },
        {
         "alignmentgroup": "True",
         "box": {
          "visible": true
         },
         "hovertemplate": "variable=%{x}<br>value=%{y}<extra></extra>",
         "legendgroup": "Unempl2",
         "marker": {
          "color": "#00cc96"
         },
         "name": "Unempl2",
         "offsetgroup": "Unempl2",
         "orientation": "v",
         "points": "all",
         "scalegroup": "True",
         "showlegend": true,
         "x": [
          "Unempl2",
          "Unempl2",
          "Unempl2",
          "Unempl2",
          "Unempl2",
          "Unempl2",
          "Unempl2",
          "Unempl2",
          "Unempl2",
          "Unempl2",
          "Unempl2",
          "Unempl2",
          "Unempl2",
          "Unempl2",
          "Unempl2",
          "Unempl2",
          "Unempl2",
          "Unempl2",
          "Unempl2",
          "Unempl2",
          "Unempl2",
          "Unempl2",
          "Unempl2",
          "Unempl2",
          "Unempl2",
          "Unempl2",
          "Unempl2",
          "Unempl2",
          "Unempl2",
          "Unempl2",
          "Unempl2",
          "Unempl2",
          "Unempl2",
          "Unempl2",
          "Unempl2",
          "Unempl2",
          "Unempl2",
          "Unempl2",
          "Unempl2",
          "Unempl2",
          "Unempl2",
          "Unempl2",
          "Unempl2",
          "Unempl2",
          "Unempl2",
          "Unempl2",
          "Unempl2",
          "Unempl2",
          "Unempl2",
          "Unempl2",
          "Unempl2",
          "Unempl2",
          "Unempl2",
          "Unempl2",
          "Unempl2",
          "Unempl2",
          "Unempl2",
          "Unempl2",
          "Unempl2",
          "Unempl2",
          "Unempl2",
          "Unempl2",
          "Unempl2",
          "Unempl2",
          "Unempl2",
          "Unempl2",
          "Unempl2",
          "Unempl2",
          "Unempl2",
          "Unempl2",
          "Unempl2",
          "Unempl2"
         ],
         "x0": " ",
         "xaxis": "x",
         "y": [
          -0.8701697683864095,
          -0.7279504589340273,
          -0.2390715826914637,
          -0.3635134784622981,
          0.8275732382014022,
          -0.20351675532836813,
          -0.9146133025902788,
          -0.6390633905262885,
          -1.0035003709980177,
          -0.5323989084370019,
          0.20536375934723047,
          -0.3546247716215243,
          -0.141295807442951,
          -0.6568408042078363,
          -0.6390633905262885,
          -0.523510201596228,
          -0.6835069247301578,
          -0.6301746836855147,
          -0.6923956315709319,
          -0.8612810615456356,
          0.24091858671032604,
          -0.7101730452524796,
          -0.5323989084370019,
          -0.5590650289593235,
          -0.3635134784622981,
          0.392026603003482,
          -0.23018287585068986,
          -0.6479520973670624,
          -0.603508563163193,
          -0.052408739035212176,
          1.707555215438017,
          -0.7279504589340273,
          -0.7190617520932535,
          1.2186763391954532,
          0.8720167724052716,
          2.99641770735023,
          0.46313625772967315,
          -0.43462313318848916,
          -0.82572623418254,
          0.04536703621330051,
          -0.7012843384117057,
          -0.8168375273417662,
          -0.8079488205009923,
          -0.5501763221185496,
          -0.8523923547048617,
          -0.39906830582539365,
          -0.7723939931378967,
          -0.6568408042078363,
          -0.7901714068194446,
          0.04536703621330051,
          0.17869763882490877,
          0.4098040166850297,
          0.03647832937252666,
          1.778664870164208,
          -0.5501763221185496,
          -0.09685227323908159,
          -0.603508563163193,
          -0.15018451428372487,
          0.32980565511806487,
          -0.4435118400292631,
          1.3253408212847397,
          -0.4612892537108108,
          2.6764242610823703,
          1.2275650460362268,
          1.76088745648266,
          0.703131342430568,
          0.9431264271314628,
          1.245342459717775,
          -0.3279586510992025,
          -0.141295807442951,
          -0.06129744587598603,
          0.392026603003482
         ],
         "y0": " ",
         "yaxis": "y",
         "type": "violin"
        },
        {
         "alignmentgroup": "True",
         "box": {
          "visible": true
         },
         "hovertemplate": "variable=%{x}<br>value=%{y}<extra></extra>",
         "legendgroup": "Unempl3",
         "marker": {
          "color": "#ab63fa"
         },
         "name": "Unempl3",
         "offsetgroup": "Unempl3",
         "orientation": "v",
         "points": "all",
         "scalegroup": "True",
         "showlegend": true,
         "x": [
          "Unempl3",
          "Unempl3",
          "Unempl3",
          "Unempl3",
          "Unempl3",
          "Unempl3",
          "Unempl3",
          "Unempl3",
          "Unempl3",
          "Unempl3",
          "Unempl3",
          "Unempl3",
          "Unempl3",
          "Unempl3",
          "Unempl3",
          "Unempl3",
          "Unempl3",
          "Unempl3",
          "Unempl3",
          "Unempl3",
          "Unempl3",
          "Unempl3",
          "Unempl3",
          "Unempl3",
          "Unempl3",
          "Unempl3",
          "Unempl3",
          "Unempl3",
          "Unempl3",
          "Unempl3",
          "Unempl3",
          "Unempl3",
          "Unempl3",
          "Unempl3",
          "Unempl3",
          "Unempl3",
          "Unempl3",
          "Unempl3",
          "Unempl3",
          "Unempl3",
          "Unempl3",
          "Unempl3",
          "Unempl3",
          "Unempl3",
          "Unempl3",
          "Unempl3",
          "Unempl3",
          "Unempl3",
          "Unempl3",
          "Unempl3",
          "Unempl3",
          "Unempl3",
          "Unempl3",
          "Unempl3",
          "Unempl3",
          "Unempl3",
          "Unempl3",
          "Unempl3",
          "Unempl3",
          "Unempl3",
          "Unempl3",
          "Unempl3",
          "Unempl3",
          "Unempl3",
          "Unempl3",
          "Unempl3",
          "Unempl3",
          "Unempl3",
          "Unempl3",
          "Unempl3",
          "Unempl3",
          "Unempl3"
         ],
         "x0": " ",
         "xaxis": "x",
         "y": [
          -2.780662928074804,
          0.037474062061375435,
          0.7184581263882122,
          0.38046398474252224,
          0.5668321356098824,
          0.0812906349542633,
          -0.7228371282100813,
          0.6449141831754249,
          -2.4587780115907494,
          -0.005943605662695547,
          0.3662912727427674,
          -1.7188146652625975,
          0.011330742312965901,
          -1.3698226748505156,
          -2.3908886544338315,
          -0.7987673061819694,
          -1.1821787129208976,
          -0.3155161871966312,
          -1.671005752410917,
          0.2964010282028204,
          0.5267972510004507,
          -0.2687298885688173,
          0.1501227266531659,
          -1.166884005041127,
          -0.5085559229892694,
          0.40410515819217857,
          -0.3281317259930838,
          0.3963579167083565,
          -0.687537694779891,
          1.3447340054914583,
          1.275822577940046,
          -0.36668031227845116,
          0.08285779944139808,
          0.537005155984329,
          0.9835442637134644,
          1.5236770389246383,
          1.4668749841424005,
          0.4009968571446522,
          -0.11084247403733023,
          0.11253736336523873,
          -0.28369245582072355,
          -0.8586732987295529,
          -0.5897291093590964,
          -1.4214260875939084,
          -0.18700480391558735,
          0.6293617001727724,
          -0.15091580611872463,
          -0.026911035675571463,
          0.7884566309150046,
          0.5130261506691831,
          -0.5132457936787224,
          -0.25077416033016,
          -0.3749227799661142,
          0.4033522327486239,
          0.24838382870121584,
          0.31423057537970794,
          0.3658141699689669,
          0.8512624860938536,
          -0.8904241696166503,
          0.766192711676495,
          -0.4864236863422354,
          0.016123712933815638,
          0.5585748074684176,
          0.8212240453725006,
          0.9809809935226051,
          0.5247814652220361,
          0.335045568754565,
          1.5167168197213485,
          1.594087677585928,
          0.8303355271040974,
          0.8117266091994856,
          -0.46640047059312795
         ],
         "y0": " ",
         "yaxis": "y",
         "type": "violin"
        },
        {
         "alignmentgroup": "True",
         "box": {
          "visible": true
         },
         "hovertemplate": "variable=%{x}<br>value=%{y}<extra></extra>",
         "legendgroup": "BuyingPower",
         "marker": {
          "color": "#FFA15A"
         },
         "name": "BuyingPower",
         "offsetgroup": "BuyingPower",
         "orientation": "v",
         "points": "all",
         "scalegroup": "True",
         "showlegend": true,
         "x": [
          "BuyingPower",
          "BuyingPower",
          "BuyingPower",
          "BuyingPower",
          "BuyingPower",
          "BuyingPower",
          "BuyingPower",
          "BuyingPower",
          "BuyingPower",
          "BuyingPower",
          "BuyingPower",
          "BuyingPower",
          "BuyingPower",
          "BuyingPower",
          "BuyingPower",
          "BuyingPower",
          "BuyingPower",
          "BuyingPower",
          "BuyingPower",
          "BuyingPower",
          "BuyingPower",
          "BuyingPower",
          "BuyingPower",
          "BuyingPower",
          "BuyingPower",
          "BuyingPower",
          "BuyingPower",
          "BuyingPower",
          "BuyingPower",
          "BuyingPower",
          "BuyingPower",
          "BuyingPower",
          "BuyingPower",
          "BuyingPower",
          "BuyingPower",
          "BuyingPower",
          "BuyingPower",
          "BuyingPower",
          "BuyingPower",
          "BuyingPower",
          "BuyingPower",
          "BuyingPower",
          "BuyingPower",
          "BuyingPower",
          "BuyingPower",
          "BuyingPower",
          "BuyingPower",
          "BuyingPower",
          "BuyingPower",
          "BuyingPower",
          "BuyingPower",
          "BuyingPower",
          "BuyingPower",
          "BuyingPower",
          "BuyingPower",
          "BuyingPower",
          "BuyingPower",
          "BuyingPower",
          "BuyingPower",
          "BuyingPower",
          "BuyingPower",
          "BuyingPower",
          "BuyingPower",
          "BuyingPower",
          "BuyingPower",
          "BuyingPower",
          "BuyingPower",
          "BuyingPower",
          "BuyingPower",
          "BuyingPower",
          "BuyingPower",
          "BuyingPower"
         ],
         "x0": " ",
         "xaxis": "x",
         "y": [
          0.027678267483708986,
          0.5291433489532595,
          0.5291433489532595,
          0.15304453785109662,
          0.2784108082184843,
          0.6545096193206472,
          1.0306084304228103,
          0.4037770785858719,
          1.782806052627136,
          -0.09768800288367867,
          -0.09768800288367867,
          0.7798758896880349,
          -0.09768800288367867,
          -0.5991530843532292,
          -0.4737868139858416,
          0.027678267483708986,
          -0.2230542732510663,
          -0.09768800288367867,
          0.2784108082184843,
          -0.2230542732510663,
          2.0335385933619112,
          0.15304453785109662,
          1.5320735118923607,
          0.15304453785109662,
          -0.3484205436184539,
          0.15304453785109662,
          -0.3484205436184539,
          -0.3484205436184539,
          -0.09768800288367867,
          0.027678267483708986,
          -0.4737868139858416,
          1.1559747007901977,
          0.9052421600554225,
          0.15304453785109662,
          -0.4737868139858416,
          0.15304453785109662,
          0.5291433489532595,
          -0.9752518954553921,
          0.4037770785858719,
          -0.7245193547206169,
          -0.09768800288367867,
          -0.09768800288367867,
          0.2784108082184843,
          -0.4737868139858416,
          1.0306084304228103,
          -1.2259844361901675,
          1.1559747007901977,
          -0.9752518954553921,
          -0.9752518954553921,
          1.6574397822597484,
          -0.3484205436184539,
          -0.7245193547206169,
          -0.4737868139858416,
          -0.9752518954553921,
          -0.7245193547206169,
          -0.8498856250880046,
          -0.7245193547206169,
          -1.4767169769249429,
          -0.7245193547206169,
          -1.1006181658227798,
          -0.9752518954553921,
          -1.6020832472923303,
          -1.4767169769249429,
          -0.7245193547206169,
          -0.9752518954553921,
          -0.09768800288367867,
          -1.1006181658227798,
          0.6545096193206472,
          -0.5991530843532292,
          -0.5991530843532292,
          -0.5991530843532292,
          -0.4737868139858416
         ],
         "y0": " ",
         "yaxis": "y",
         "type": "violin"
        },
        {
         "alignmentgroup": "True",
         "box": {
          "visible": true
         },
         "hovertemplate": "variable=%{x}<br>value=%{y}<extra></extra>",
         "legendgroup": "X.Progre",
         "marker": {
          "color": "#19d3f3"
         },
         "name": "X.Progre",
         "offsetgroup": "X.Progre",
         "orientation": "v",
         "points": "all",
         "scalegroup": "True",
         "showlegend": true,
         "x": [
          "X.Progre",
          "X.Progre",
          "X.Progre",
          "X.Progre",
          "X.Progre",
          "X.Progre",
          "X.Progre",
          "X.Progre",
          "X.Progre",
          "X.Progre",
          "X.Progre",
          "X.Progre",
          "X.Progre",
          "X.Progre",
          "X.Progre",
          "X.Progre",
          "X.Progre",
          "X.Progre",
          "X.Progre",
          "X.Progre",
          "X.Progre",
          "X.Progre",
          "X.Progre",
          "X.Progre",
          "X.Progre",
          "X.Progre",
          "X.Progre",
          "X.Progre",
          "X.Progre",
          "X.Progre",
          "X.Progre",
          "X.Progre",
          "X.Progre",
          "X.Progre",
          "X.Progre",
          "X.Progre",
          "X.Progre",
          "X.Progre",
          "X.Progre",
          "X.Progre",
          "X.Progre",
          "X.Progre",
          "X.Progre",
          "X.Progre",
          "X.Progre",
          "X.Progre",
          "X.Progre",
          "X.Progre",
          "X.Progre",
          "X.Progre",
          "X.Progre",
          "X.Progre",
          "X.Progre",
          "X.Progre",
          "X.Progre",
          "X.Progre",
          "X.Progre",
          "X.Progre",
          "X.Progre",
          "X.Progre",
          "X.Progre",
          "X.Progre",
          "X.Progre",
          "X.Progre",
          "X.Progre",
          "X.Progre",
          "X.Progre",
          "X.Progre",
          "X.Progre",
          "X.Progre",
          "X.Progre",
          "X.Progre"
         ],
         "x0": " ",
         "xaxis": "x",
         "y": [
          -0.5497203911930825,
          0.2100437723312576,
          1.3365906354880335,
          0.5855593933835154,
          -0.8553726408867819,
          0.22750961517089657,
          -0.8466397194669625,
          0.4720314149258571,
          1.127000521412356,
          -0.13054016304172228,
          -0.13054016304172228,
          0.8824787216573954,
          -0.7855092695282211,
          -1.379347926075981,
          -1.4404783760147197,
          -0.5147887055138021,
          -0.30519859143812195,
          -1.0038323050237206,
          -0.20913645582010262,
          -1.5278075902129196,
          0.9698079358555952,
          -0.7243788195894821,
          1.9391622134556155,
          -1.7810623113876998,
          -1.8247269184867996,
          -0.7069129767498407,
          -0.3575961199570413,
          -1.1784907334201202,
          0.009186579675396975,
          0.7776836646195565,
          0.6292240004826153,
          0.06158410819431638,
          1.1531992856718143,
          0.15764624381233572,
          -0.18293769156064169,
          0.9086774859168563,
          2.061423113333093,
          -0.9514347765048012,
          1.3103918712285751,
          -0.6108508411318214,
          -0.46239117699488264,
          -0.5933849982921824,
          1.0396713072141561,
          -0.768043426688582,
          -0.3925278056363218,
          -1.152291969160662,
          -0.025745106003883456,
          -0.4798570198345216,
          -0.5671862340327215,
          2.629063005621392,
          -0.5671862340327215,
          -0.07814263452280286,
          0.3323046722087354,
          -0.6545154482309213,
          -0.47112409841470215,
          -0.12180724162190278,
          -0.7505775838489406,
          -1.292018711877781,
          -0.36632904137686334,
          -0.4536582555750632,
          -0.4449253341552412,
          -1.2745528690381396,
          -0.10434139878226381,
          0.05285118677449689,
          -0.40126072705614124,
          0.8824787216573954,
          0.6728886075817152,
          1.2754601855492946,
          0.32357175078891587,
          -0.532254548353441,
          0.32357175078891587,
          0.05285118677449689
         ],
         "y0": " ",
         "yaxis": "y",
         "type": "violin"
        },
        {
         "alignmentgroup": "True",
         "box": {
          "visible": true
         },
         "hovertemplate": "variable=%{x}<br>value=%{y}<extra></extra>",
         "legendgroup": "Enterpr",
         "marker": {
          "color": "#FF6692"
         },
         "name": "Enterpr",
         "offsetgroup": "Enterpr",
         "orientation": "v",
         "points": "all",
         "scalegroup": "True",
         "showlegend": true,
         "x": [
          "Enterpr",
          "Enterpr",
          "Enterpr",
          "Enterpr",
          "Enterpr",
          "Enterpr",
          "Enterpr",
          "Enterpr",
          "Enterpr",
          "Enterpr",
          "Enterpr",
          "Enterpr",
          "Enterpr",
          "Enterpr",
          "Enterpr",
          "Enterpr",
          "Enterpr",
          "Enterpr",
          "Enterpr",
          "Enterpr",
          "Enterpr",
          "Enterpr",
          "Enterpr",
          "Enterpr",
          "Enterpr",
          "Enterpr",
          "Enterpr",
          "Enterpr",
          "Enterpr",
          "Enterpr",
          "Enterpr",
          "Enterpr",
          "Enterpr",
          "Enterpr",
          "Enterpr",
          "Enterpr",
          "Enterpr",
          "Enterpr",
          "Enterpr",
          "Enterpr",
          "Enterpr",
          "Enterpr",
          "Enterpr",
          "Enterpr",
          "Enterpr",
          "Enterpr",
          "Enterpr",
          "Enterpr",
          "Enterpr",
          "Enterpr",
          "Enterpr",
          "Enterpr",
          "Enterpr",
          "Enterpr",
          "Enterpr",
          "Enterpr",
          "Enterpr",
          "Enterpr",
          "Enterpr",
          "Enterpr",
          "Enterpr",
          "Enterpr",
          "Enterpr",
          "Enterpr",
          "Enterpr",
          "Enterpr",
          "Enterpr",
          "Enterpr",
          "Enterpr",
          "Enterpr",
          "Enterpr",
          "Enterpr"
         ],
         "x0": " ",
         "xaxis": "x",
         "y": [
          0.5218647006261341,
          0.5218647006261341,
          -0.9798413257890187,
          -0.09953089651117052,
          0.055818002773155635,
          0.4700817341980254,
          0.2111669020574818,
          1.2468262306196563,
          1.8682218277569609,
          0.9879113984791126,
          -0.0477479300830618,
          0.7807795327666777,
          0.10760096920126436,
          -0.8244924265046926,
          -0.7727094600765839,
          0.41829876776991665,
          1.09147733133533,
          -0.09953089651117052,
          0.36651580134180795,
          -0.8762753929328013,
          1.1950432641915474,
          0.4700817341980254,
          1.453958096332091,
          -0.6173605607922578,
          -0.5137946279360402,
          0.004035036345046917,
          -0.9798413257890187,
          -0.5137946279360402,
          0.055818002773155635,
          -0.35844572865171415,
          -1.0834072586452361,
          1.7128729284726347,
          0.9879113984791126,
          0.055818002773155635,
          -0.8762753929328013,
          -1.2905391243576712,
          -0.6173605607922578,
          -1.1869731915014536,
          0.6254306334823515,
          -0.7209264936484752,
          0.9361284320510038,
          0.2111669020574818,
          0.15938393562937309,
          0.10760096920126436,
          1.7128729284726347,
          -1.3423220907857798,
          0.5218647006261341,
          -0.9798413257890187,
          -1.2387561579295623,
          1.1432602977634387,
          -0.46201166150793155,
          0.4700817341980254,
          1.6093069956164172,
          -0.15131386293927923,
          -1.0316242922171275,
          -0.2548797957954967,
          -0.46201166150793155,
          -0.6691435272203664,
          -0.46201166150793155,
          -0.7209264936484752,
          -0.6691435272203664,
          -1.1869731915014536,
          -0.46201166150793155,
          -1.0834072586452361,
          -0.8244924265046926,
          0.15938393562937309,
          -0.7209264936484752,
          -0.2548797957954967,
          -0.46201166150793155,
          -0.7727094600765839,
          0.5736476670542429,
          0.5736476670542429
         ],
         "y0": " ",
         "yaxis": "y",
         "type": "violin"
        },
        {
         "alignmentgroup": "True",
         "box": {
          "visible": true
         },
         "hovertemplate": "variable=%{x}<br>value=%{y}<extra></extra>",
         "legendgroup": "Lifex",
         "marker": {
          "color": "#B6E880"
         },
         "name": "Lifex",
         "offsetgroup": "Lifex",
         "orientation": "v",
         "points": "all",
         "scalegroup": "True",
         "showlegend": true,
         "x": [
          "Lifex",
          "Lifex",
          "Lifex",
          "Lifex",
          "Lifex",
          "Lifex",
          "Lifex",
          "Lifex",
          "Lifex",
          "Lifex",
          "Lifex",
          "Lifex",
          "Lifex",
          "Lifex",
          "Lifex",
          "Lifex",
          "Lifex",
          "Lifex",
          "Lifex",
          "Lifex",
          "Lifex",
          "Lifex",
          "Lifex",
          "Lifex",
          "Lifex",
          "Lifex",
          "Lifex",
          "Lifex",
          "Lifex",
          "Lifex",
          "Lifex",
          "Lifex",
          "Lifex",
          "Lifex",
          "Lifex",
          "Lifex",
          "Lifex",
          "Lifex",
          "Lifex",
          "Lifex",
          "Lifex",
          "Lifex",
          "Lifex",
          "Lifex",
          "Lifex",
          "Lifex",
          "Lifex",
          "Lifex",
          "Lifex",
          "Lifex",
          "Lifex",
          "Lifex",
          "Lifex",
          "Lifex",
          "Lifex",
          "Lifex",
          "Lifex",
          "Lifex",
          "Lifex",
          "Lifex",
          "Lifex",
          "Lifex",
          "Lifex",
          "Lifex",
          "Lifex",
          "Lifex",
          "Lifex",
          "Lifex",
          "Lifex",
          "Lifex",
          "Lifex",
          "Lifex"
         ],
         "x0": " ",
         "xaxis": "x",
         "y": [
          -0.37061117002250604,
          -0.5464041480003267,
          -0.8393924446300166,
          -0.13622053271876736,
          0.3325607418887433,
          -0.42920882934845733,
          -0.19481819204470202,
          -0.07762287339281604,
          0.2739630825628086,
          -0.31201351069657135,
          -1.0151854226078374,
          1.0943303131259439,
          -0.5464041480003267,
          0.2739630825628086,
          0.9185373351481232,
          0.2739630825628086,
          -0.42920882934845733,
          -0.13622053271876736,
          1.1529279724518786,
          0.0395724452590533,
          -1.1323807412597067,
          -0.07762287339281604,
          0.8599396758221886,
          0.21536542323687394,
          0.21536542323687394,
          0.09817010458498795,
          -2.128540949800646,
          -1.542564356541266,
          -1.1909784005856412,
          -2.0113456311487767,
          -2.187138609126597,
          0.15676776391092262,
          -0.19481819204470202,
          -0.956587763281886,
          -1.3081737192375273,
          -2.948908180363781,
          -1.249576059911576,
          1.0357326537999925,
          1.7389045657112585,
          0.39115840121467793,
          0.9771349944740579,
          1.2115256317778131,
          0.9185373351481232,
          0.5669513791924986,
          0.6841466978443679,
          0.3325607418887433,
          0.09817010458498795,
          0.8599396758221886,
          1.0357326537999925,
          1.2701232911037479,
          1.1529279724518786,
          0.15676776391092262,
          1.3287209504296826,
          0.4497560605406126,
          0.9771349944740579,
          0.508353719866564,
          0.15676776391092262,
          1.7975022250371933,
          0.15676776391092262,
          1.0357326537999925,
          -0.13622053271876736,
          1.5045139284075033,
          -0.956587763281886,
          -0.07762287339281604,
          -0.31201351069657135,
          0.2739630825628086,
          0.5669513791924986,
          -1.3081737192375273,
          -0.13622053271876736,
          0.7427443571703026,
          0.39115840121467793,
          0.7427443571703026
         ],
         "y0": " ",
         "yaxis": "y",
         "type": "violin"
        },
        {
         "alignmentgroup": "True",
         "box": {
          "visible": true
         },
         "hovertemplate": "variable=%{x}<br>value=%{y}<extra></extra>",
         "legendgroup": "Divorce",
         "marker": {
          "color": "#FF97FF"
         },
         "name": "Divorce",
         "offsetgroup": "Divorce",
         "orientation": "v",
         "points": "all",
         "scalegroup": "True",
         "showlegend": true,
         "x": [
          "Divorce",
          "Divorce",
          "Divorce",
          "Divorce",
          "Divorce",
          "Divorce",
          "Divorce",
          "Divorce",
          "Divorce",
          "Divorce",
          "Divorce",
          "Divorce",
          "Divorce",
          "Divorce",
          "Divorce",
          "Divorce",
          "Divorce",
          "Divorce",
          "Divorce",
          "Divorce",
          "Divorce",
          "Divorce",
          "Divorce",
          "Divorce",
          "Divorce",
          "Divorce",
          "Divorce",
          "Divorce",
          "Divorce",
          "Divorce",
          "Divorce",
          "Divorce",
          "Divorce",
          "Divorce",
          "Divorce",
          "Divorce",
          "Divorce",
          "Divorce",
          "Divorce",
          "Divorce",
          "Divorce",
          "Divorce",
          "Divorce",
          "Divorce",
          "Divorce",
          "Divorce",
          "Divorce",
          "Divorce",
          "Divorce",
          "Divorce",
          "Divorce",
          "Divorce",
          "Divorce",
          "Divorce",
          "Divorce",
          "Divorce",
          "Divorce",
          "Divorce",
          "Divorce",
          "Divorce",
          "Divorce",
          "Divorce",
          "Divorce",
          "Divorce",
          "Divorce",
          "Divorce",
          "Divorce",
          "Divorce",
          "Divorce",
          "Divorce",
          "Divorce",
          "Divorce"
         ],
         "x0": " ",
         "xaxis": "x",
         "y": [
          -0.9574809489760494,
          -0.22495034759640822,
          0.8201722829267459,
          -0.8766334905877431,
          0.4963768317070434,
          1.7243704871589494,
          0.2896348007224548,
          0.012798988029505656,
          -0.16686973393312102,
          0.2287366506625228,
          0.2768815783087148,
          -0.38878803373889176,
          -0.2625709180763609,
          -0.1762790680491384,
          -1.1611954857832119,
          -0.14464654964735063,
          -0.5715621117049232,
          0.10081622377995929,
          -0.44703807320359273,
          -0.8993533245996855,
          -0.1766943665820785,
          -0.6698550020983547,
          0.4726262194597349,
          -0.9577304493729198,
          0.2822811294507729,
          0.20067328687422853,
          0.8440654911455578,
          1.6993425218159721,
          1.0283532204554688,
          1.6429058469378506,
          -0.8623659147013465,
          -0.17569354584117397,
          -0.11474374676291522,
          1.0223317427922203,
          0.06921938628599214,
          0.43958708179921296,
          0.5708571203928596,
          -1.1289129344325475,
          0.9613397202425431,
          -0.9783103331724129,
          -1.2008196764715258,
          -1.1474316660172705,
          0.053401893040582446,
          -0.674517318025167,
          -1.086275579376836,
          -0.6463664540976889,
          0.2948427026234941,
          -0.09351576618783808,
          -0.7607474764648975,
          -0.039079903002972524,
          -0.5709604618117311,
          0.2252295918924845,
          -1.4902866369159506,
          -1.4110660853708243,
          -0.8555575315310769,
          -0.2230951106027981,
          -0.5071735518376056,
          -0.4356696615032584,
          -1.6329470021384078,
          -1.2124375992070464,
          -0.9355090097707758,
          -1.4193683645344009,
          1.0563448075338462,
          0.5666366243177696,
          0.6375171945116886,
          0.2313622186687043,
          -0.9891536163778706,
          2.1652620395327213,
          -0.42465204823326613,
          0.5821818298960192,
          -0.3257501355944901,
          2.9292166696208115
         ],
         "y0": " ",
         "yaxis": "y",
         "type": "violin"
        },
        {
         "alignmentgroup": "True",
         "box": {
          "visible": true
         },
         "hovertemplate": "variable=%{x}<br>value=%{y}<extra></extra>",
         "legendgroup": "Abortion",
         "marker": {
          "color": "#FECB52"
         },
         "name": "Abortion",
         "offsetgroup": "Abortion",
         "orientation": "v",
         "points": "all",
         "scalegroup": "True",
         "showlegend": true,
         "x": [
          "Abortion",
          "Abortion",
          "Abortion",
          "Abortion",
          "Abortion",
          "Abortion",
          "Abortion",
          "Abortion",
          "Abortion",
          "Abortion",
          "Abortion",
          "Abortion",
          "Abortion",
          "Abortion",
          "Abortion",
          "Abortion",
          "Abortion",
          "Abortion",
          "Abortion",
          "Abortion",
          "Abortion",
          "Abortion",
          "Abortion",
          "Abortion",
          "Abortion",
          "Abortion",
          "Abortion",
          "Abortion",
          "Abortion",
          "Abortion",
          "Abortion",
          "Abortion",
          "Abortion",
          "Abortion",
          "Abortion",
          "Abortion",
          "Abortion",
          "Abortion",
          "Abortion",
          "Abortion",
          "Abortion",
          "Abortion",
          "Abortion",
          "Abortion",
          "Abortion",
          "Abortion",
          "Abortion",
          "Abortion",
          "Abortion",
          "Abortion",
          "Abortion",
          "Abortion",
          "Abortion",
          "Abortion",
          "Abortion",
          "Abortion",
          "Abortion",
          "Abortion",
          "Abortion",
          "Abortion",
          "Abortion",
          "Abortion",
          "Abortion",
          "Abortion",
          "Abortion",
          "Abortion",
          "Abortion",
          "Abortion",
          "Abortion",
          "Abortion",
          "Abortion",
          "Abortion"
         ],
         "x0": " ",
         "xaxis": "x",
         "y": [
          0.05645884950841744,
          0.3654603469405228,
          1.2498439430393051,
          0.0031827292615028255,
          0.29087377859484204,
          1.0473946861010297,
          -0.9984083313804917,
          -0.9770978832817255,
          -0.13533518338047487,
          -0.6254754896520894,
          -0.44433668081257943,
          0.5252887076812667,
          1.430982751878815,
          -0.849235194689131,
          -1.3074098288125964,
          -0.2418874238743041,
          -0.3377844403187502,
          -0.9131665389854279,
          -0.7959590744422164,
          -0.7426829541953017,
          0.9088767734590513,
          0.2482528823973105,
          1.612121560718325,
          0.3015290026442251,
          0.20563198619977896,
          -0.3697501124668995,
          1.494914096175112,
          1.5695006645207927,
          1.2285334949405389,
          1.004773789903498,
          0.9408424456072004,
          1.4416379759281974,
          0.6424961722244782,
          0.06711407355780051,
          0.4933230355331174,
          2.8481275504467436,
          1.676052905014622,
          -0.6041650415533233,
          1.153946926594859,
          -0.31647399221998485,
          -1.104960571874321,
          -0.486957577010111,
          -1.3074098288125964,
          -1.4992038617014887,
          -0.7213725060965356,
          -0.486957577010111,
          0.09907974570594973,
          -0.8918560908866625,
          -1.0729948997261718,
          -0.15664563147924102,
          -1.456582965503957,
          -0.6361307137014726,
          -0.8812008668372794,
          -0.5402336972570256,
          -1.2115128123681502,
          -0.08205906313356025,
          -0.28450832007183563,
          -0.9025113149360455,
          -0.7639934022940671,
          -0.6148202656027064,
          0.4933230355331174,
          -1.3500307250101278,
          0.7810140848664566,
          -0.5721993694051748,
          -1.2328232604669156,
          -0.486957577010111,
          -0.20992175172615563,
          0.18432153810101282,
          -0.13533518338047487,
          -0.14599040742985794,
          -1.2221680364175334,
          0.3761155709899051
         ],
         "y0": " ",
         "yaxis": "y",
         "type": "violin"
        },
        {
         "alignmentgroup": "True",
         "box": {
          "visible": true
         },
         "hovertemplate": "variable=%{x}<br>value=%{y}<extra></extra>",
         "legendgroup": "Pop",
         "marker": {
          "color": "#636efa"
         },
         "name": "Pop",
         "offsetgroup": "Pop",
         "orientation": "v",
         "points": "all",
         "scalegroup": "True",
         "showlegend": true,
         "x": [
          "Pop",
          "Pop",
          "Pop",
          "Pop",
          "Pop",
          "Pop",
          "Pop",
          "Pop",
          "Pop",
          "Pop",
          "Pop",
          "Pop",
          "Pop",
          "Pop",
          "Pop",
          "Pop",
          "Pop",
          "Pop",
          "Pop",
          "Pop",
          "Pop",
          "Pop",
          "Pop",
          "Pop",
          "Pop",
          "Pop",
          "Pop",
          "Pop",
          "Pop",
          "Pop",
          "Pop",
          "Pop",
          "Pop",
          "Pop",
          "Pop",
          "Pop",
          "Pop",
          "Pop",
          "Pop",
          "Pop",
          "Pop",
          "Pop",
          "Pop",
          "Pop",
          "Pop",
          "Pop",
          "Pop",
          "Pop",
          "Pop",
          "Pop",
          "Pop",
          "Pop",
          "Pop",
          "Pop",
          "Pop",
          "Pop",
          "Pop",
          "Pop",
          "Pop",
          "Pop",
          "Pop",
          "Pop",
          "Pop",
          "Pop",
          "Pop",
          "Pop",
          "Pop",
          "Pop",
          "Pop",
          "Pop",
          "Pop",
          "Pop"
         ],
         "x0": " ",
         "xaxis": "x",
         "y": [
          0.72592284514121,
          1.3677716529021937,
          -0.3231203675434082,
          1.229739651233165,
          0.4981700423873128,
          0.5050716424707643,
          -0.13677716529021952,
          0.7742340457253701,
          0.9398724477282046,
          0.46366204197005556,
          1.8094740582430855,
          -0.66820037171598,
          0.12548363788093533,
          -0.01944996387154492,
          0.5464812429714725,
          0.26351563954996404,
          1.0019868484792673,
          0.5947924435556328,
          -0.3438251677937626,
          1.2435428514000677,
          -0.8545435739691687,
          0.8915612471440443,
          -2.269371591076713,
          0.8570532467267871,
          1.3401652525683876,
          0.553382843054924,
          -0.9718707753878431,
          0.553382843054924,
          -0.8131339734684601,
          -1.0753947766396146,
          -1.3928683804783808,
          -0.7579211728008487,
          -1.2410331786424493,
          0.4291540415527984,
          0.15309003821474096,
          -1.4687859813963464,
          -1.606817983065375,
          0.4705636420535071,
          -0.6889051719663344,
          0.6776116445570501,
          0.5947924435556328,
          -0.46115236921243696,
          -0.37833316821101975,
          0.5671860432218271,
          0.836348446476433,
          1.1538220503151992,
          -0.2955139672096023,
          0.19449963871544967,
          0.9674788480620102,
          -2.269371591076713,
          1.1055108497310389,
          0.4498588418031525,
          -0.6474955714656256,
          -0.47495556937933975,
          -0.25410436670889386,
          -0.08846596470605927,
          0.932970847644753,
          0.8915612471440443,
          0.15999163829819252,
          0.9950852483958158,
          1.5679180553222853,
          1.2849524519007762,
          -0.12297396512331646,
          -0.6751019717994313,
          -0.6060859709649169,
          -0.28171076704269954,
          -0.10226916487296234,
          -2.269371591076713,
          0.20140123879890073,
          -0.2679075668757967,
          -0.41284116862827697,
          0.07717243729677509
         ],
         "y0": " ",
         "yaxis": "y",
         "type": "violin"
        },
        {
         "alignmentgroup": "True",
         "box": {
          "visible": true
         },
         "hovertemplate": "variable=%{x}<br>value=%{y}<extra></extra>",
         "legendgroup": "Crime",
         "marker": {
          "color": "#EF553B"
         },
         "name": "Crime",
         "offsetgroup": "Crime",
         "orientation": "v",
         "points": "all",
         "scalegroup": "True",
         "showlegend": true,
         "x": [
          "Crime",
          "Crime",
          "Crime",
          "Crime",
          "Crime",
          "Crime",
          "Crime",
          "Crime",
          "Crime",
          "Crime",
          "Crime",
          "Crime",
          "Crime",
          "Crime",
          "Crime",
          "Crime",
          "Crime",
          "Crime",
          "Crime",
          "Crime",
          "Crime",
          "Crime",
          "Crime",
          "Crime",
          "Crime",
          "Crime",
          "Crime",
          "Crime",
          "Crime",
          "Crime",
          "Crime",
          "Crime",
          "Crime",
          "Crime",
          "Crime",
          "Crime",
          "Crime",
          "Crime",
          "Crime",
          "Crime",
          "Crime",
          "Crime",
          "Crime",
          "Crime",
          "Crime",
          "Crime",
          "Crime",
          "Crime",
          "Crime",
          "Crime",
          "Crime",
          "Crime",
          "Crime",
          "Crime",
          "Crime",
          "Crime",
          "Crime",
          "Crime",
          "Crime",
          "Crime",
          "Crime",
          "Crime",
          "Crime",
          "Crime",
          "Crime",
          "Crime",
          "Crime",
          "Crime",
          "Crime",
          "Crime",
          "Crime",
          "Crime"
         ],
         "x0": " ",
         "xaxis": "x",
         "y": [
          -0.07389382153551358,
          1.0454566381418573,
          0.5479496160696693,
          0.2942048327071255,
          0.3312494758035488,
          2.0681346915668284,
          1.8753226346135456,
          0.17928313333330748,
          2.1416364018930474,
          0.6721147441391064,
          0.5498496133940329,
          0.37717872110458917,
          -0.236760778453268,
          -0.6154661048776754,
          -1.0669084782700167,
          -0.3031008466553437,
          -0.448546062480999,
          -0.18264172837333356,
          -0.375534626807405,
          -0.7182777475580533,
          0.6050459253765061,
          -0.2378837801813785,
          0.9105059845488533,
          -0.6128602771533411,
          -0.6364963248391169,
          -0.2939633187203423,
          -0.03266644653994783,
          0.17648347843224998,
          1.0606091182393094,
          0.13054608581450805,
          0.3396491583319811,
          0.44391248774880115,
          0.4109594342782496,
          0.7935057144607243,
          -0.08455026054256236,
          1.3977833003745967,
          1.0425603783172999,
          -1.083422091447354,
          -0.5063991749595239,
          -0.7228187316879895,
          -0.5567544877446166,
          -0.6514150594971339,
          -0.2549063817158705,
          -0.5777396498144837,
          -0.4231323636081852,
          -0.7282984661582823,
          -0.45786022567774515,
          -0.8529502295062765,
          -1.2132731923625537,
          1.4617864238382536,
          -0.5604253240943007,
          -0.465184928987965,
          -0.8353896251176173,
          -0.9589201956571562,
          -0.9148283246047917,
          -0.7664732246311433,
          -0.577557874923877,
          -1.0227350838028664,
          -1.0441502519165233,
          -1.0588250408381594,
          -0.964396247683865,
          -1.0896259321487383,
          -0.6107410488163005,
          -0.4950797238292678,
          -0.6403526544142544,
          0.3413876090815671,
          -0.5812938108463965,
          1.7811305228040002,
          -0.17838518250269864,
          -1.0730040134961627,
          -0.6795829677537902,
          -0.5983162113898158
         ],
         "y0": " ",
         "yaxis": "y",
         "type": "violin"
        },
        {
         "alignmentgroup": "True",
         "box": {
          "visible": true
         },
         "hovertemplate": "variable=%{x}<br>value=%{y}<extra></extra>",
         "legendgroup": "Grow.",
         "marker": {
          "color": "#00cc96"
         },
         "name": "Grow.",
         "offsetgroup": "Grow.",
         "orientation": "v",
         "points": "all",
         "scalegroup": "True",
         "showlegend": true,
         "x": [
          "Grow.",
          "Grow.",
          "Grow.",
          "Grow.",
          "Grow.",
          "Grow.",
          "Grow.",
          "Grow.",
          "Grow.",
          "Grow.",
          "Grow.",
          "Grow.",
          "Grow.",
          "Grow.",
          "Grow.",
          "Grow.",
          "Grow.",
          "Grow.",
          "Grow.",
          "Grow.",
          "Grow.",
          "Grow.",
          "Grow.",
          "Grow.",
          "Grow.",
          "Grow.",
          "Grow.",
          "Grow.",
          "Grow.",
          "Grow.",
          "Grow.",
          "Grow.",
          "Grow.",
          "Grow.",
          "Grow.",
          "Grow.",
          "Grow.",
          "Grow.",
          "Grow.",
          "Grow.",
          "Grow.",
          "Grow.",
          "Grow.",
          "Grow.",
          "Grow.",
          "Grow.",
          "Grow.",
          "Grow.",
          "Grow.",
          "Grow.",
          "Grow.",
          "Grow.",
          "Grow.",
          "Grow.",
          "Grow.",
          "Grow.",
          "Grow.",
          "Grow.",
          "Grow.",
          "Grow.",
          "Grow.",
          "Grow.",
          "Grow.",
          "Grow.",
          "Grow.",
          "Grow.",
          "Grow.",
          "Grow.",
          "Grow.",
          "Grow.",
          "Grow.",
          "Grow."
         ],
         "x0": " ",
         "xaxis": "x",
         "y": [
          -1.3941936939005566,
          -0.19120631561529794,
          0.48731802053871387,
          -1.4245050016157605,
          -1.1663190917573651,
          0.357270971035522,
          0.29040800943336326,
          -0.2835139353300255,
          1.243002047463386,
          -0.7312157606928628,
          -1.5107016392538792,
          1.7404504540732295,
          1.9094301736859658,
          0.24842658214225236,
          -0.8892568269808943,
          -1.4628614736848031,
          0.3788022724293407,
          -1.7691235147463318,
          -0.4868603387228673,
          -0.3007894715826388,
          0.16547194188605838,
          -1.2106936371631312,
          -2.057152605394556,
          -0.04884749809562562,
          0.36412792802662564,
          -0.6252314948136503,
          1.3551325777215393,
          1.5229119506597095,
          2.165382219979274,
          0.0644221438302054,
          0.6667991197136955,
          0.08029166984603292,
          0.05671431865464493,
          0.19520264056426148,
          -0.355615544919651,
          0.9434143260262189,
          0.07809492725443991,
          -0.37742315952527256,
          -0.4726233735383114,
          -0.38670686252619274,
          -1.2058311882125607,
          0.4236038975465305,
          -0.5557504639138059,
          0.08380158423832651,
          -0.19445679084177922,
          -0.09750484425246364,
          -0.08218351948958945,
          0.9251140767331659,
          -0.015536142449797322,
          -0.9281873635968874,
          1.1313074177757225,
          0.7270503836676269,
          -0.2764119055279028,
          -0.15160332995357545,
          0.10984668102832751,
          0.32183607997520375,
          -1.2069917508737147,
          0.21571131195120583,
          0.035355013183559166,
          0.11772701528766616,
          0.2792433894892878,
          0.364405961980636,
          0.6587406259861173,
          0.15630694458398375,
          0.9176325107314999,
          0.5067864060264987,
          0.23129768430886008,
          -1.2591752058465357,
          -0.89056330404552,
          0.33918460801448697,
          0.48225518818150126,
          0.06265993825555696
         ],
         "y0": " ",
         "yaxis": "y",
         "type": "violin"
        },
        {
         "alignmentgroup": "True",
         "box": {
          "visible": true
         },
         "hovertemplate": "variable=%{x}<br>value=%{y}<extra></extra>",
         "legendgroup": "Migr",
         "marker": {
          "color": "#ab63fa"
         },
         "name": "Migr",
         "offsetgroup": "Migr",
         "orientation": "v",
         "points": "all",
         "scalegroup": "True",
         "showlegend": true,
         "x": [
          "Migr",
          "Migr",
          "Migr",
          "Migr",
          "Migr",
          "Migr",
          "Migr",
          "Migr",
          "Migr",
          "Migr",
          "Migr",
          "Migr",
          "Migr",
          "Migr",
          "Migr",
          "Migr",
          "Migr",
          "Migr",
          "Migr",
          "Migr",
          "Migr",
          "Migr",
          "Migr",
          "Migr",
          "Migr",
          "Migr",
          "Migr",
          "Migr",
          "Migr",
          "Migr",
          "Migr",
          "Migr",
          "Migr",
          "Migr",
          "Migr",
          "Migr",
          "Migr",
          "Migr",
          "Migr",
          "Migr",
          "Migr",
          "Migr",
          "Migr",
          "Migr",
          "Migr",
          "Migr",
          "Migr",
          "Migr",
          "Migr",
          "Migr",
          "Migr",
          "Migr",
          "Migr",
          "Migr",
          "Migr",
          "Migr",
          "Migr",
          "Migr",
          "Migr",
          "Migr",
          "Migr",
          "Migr",
          "Migr",
          "Migr",
          "Migr",
          "Migr",
          "Migr",
          "Migr",
          "Migr",
          "Migr",
          "Migr",
          "Migr"
         ],
         "x0": " ",
         "xaxis": "x",
         "y": [
          -0.13431304781122005,
          1.1441043819491137,
          1.1042060612377766,
          0.19812383723020122,
          -0.32120510903620614,
          0.481396780576252,
          0.6428490733182388,
          1.515450164499146,
          2.489200971393834,
          -0.4737350905418403,
          -0.12302110884922522,
          1.269700512683626,
          -0.09316857051440938,
          -0.09493901053591501,
          -0.5545150707470629,
          -0.8105907718330426,
          -0.44187472794923627,
          -0.8779860041656629,
          -0.202399787953259,
          -0.028564339037743833,
          -0.08894784501199304,
          -0.10990788360208942,
          -1.3438622143497319,
          1.260166568781267,
          0.8368337669139584,
          0.8084289297912757,
          -0.8078959989815728,
          -0.13045742077324257,
          0.502515157311779,
          -0.398512480014028,
          -0.6542393837811917,
          0.10991997217456013,
          -0.23618419462774629,
          0.6369374412258854,
          -0.23976174791967697,
          1.4968391500158886,
          -0.6581744100887053,
          -0.3374832407104932,
          -0.6549372086729784,
          -0.2521390439644266,
          -0.2903039080812095,
          0.05908966464770257,
          -0.3019131448368142,
          0.032590960402221605,
          0.3300385238218105,
          -0.6949205886862653,
          -0.16622865764079917,
          0.019309647328618014,
          -0.0707668164028608,
          -0.13074274786917492,
          1.2345714744918064,
          0.21363649997458628,
          -0.5448779149037482,
          -0.32778944045303665,
          -0.40085916431208607,
          0.623053046882492,
          -0.00537834535192506,
          -0.47711269309792537,
          0.20969648215145328,
          0.49186984150588364,
          -0.23569176492762006,
          -0.9798341043530412,
          -1.1739750399557691,
          -0.21858553473461612,
          -0.06297175176387369,
          0.466758384143342,
          -0.6077730569363463,
          -1.4454694225943536,
          -0.9814194409036316,
          -0.7470158452299618,
          -0.276953384599094,
          -0.959074775603624
         ],
         "y0": " ",
         "yaxis": "y",
         "type": "violin"
        },
        {
         "alignmentgroup": "True",
         "box": {
          "visible": true
         },
         "hovertemplate": "variable=%{x}<br>value=%{y}<extra></extra>",
         "legendgroup": "Pop65",
         "marker": {
          "color": "#FFA15A"
         },
         "name": "Pop65",
         "offsetgroup": "Pop65",
         "orientation": "v",
         "points": "all",
         "scalegroup": "True",
         "showlegend": true,
         "x": [
          "Pop65",
          "Pop65",
          "Pop65",
          "Pop65",
          "Pop65",
          "Pop65",
          "Pop65",
          "Pop65",
          "Pop65",
          "Pop65",
          "Pop65",
          "Pop65",
          "Pop65",
          "Pop65",
          "Pop65",
          "Pop65",
          "Pop65",
          "Pop65",
          "Pop65",
          "Pop65",
          "Pop65",
          "Pop65",
          "Pop65",
          "Pop65",
          "Pop65",
          "Pop65",
          "Pop65",
          "Pop65",
          "Pop65",
          "Pop65",
          "Pop65",
          "Pop65",
          "Pop65",
          "Pop65",
          "Pop65",
          "Pop65",
          "Pop65",
          "Pop65",
          "Pop65",
          "Pop65",
          "Pop65",
          "Pop65",
          "Pop65",
          "Pop65",
          "Pop65",
          "Pop65",
          "Pop65",
          "Pop65",
          "Pop65",
          "Pop65",
          "Pop65",
          "Pop65",
          "Pop65",
          "Pop65",
          "Pop65",
          "Pop65",
          "Pop65",
          "Pop65",
          "Pop65",
          "Pop65",
          "Pop65",
          "Pop65",
          "Pop65",
          "Pop65",
          "Pop65",
          "Pop65",
          "Pop65",
          "Pop65",
          "Pop65",
          "Pop65",
          "Pop65",
          "Pop65"
         ],
         "x0": " ",
         "xaxis": "x",
         "y": [
          0.9390927249251051,
          0.7090156648422475,
          0.3191141622881841,
          1.3548304113463676,
          0.8746801558304376,
          -0.07333706966446142,
          0.04120778121155659,
          1.351328738496714,
          0.8135006316899275,
          0.1625117641571853,
          0.5957371620611727,
          -0.2525062691966158,
          -2.233516914367729,
          0.20507221689895525,
          0.9112302279682505,
          1.110705851135724,
          -1.0432805769417937,
          0.49571177313726195,
          0.8998705681729009,
          -0.13145636494739021,
          -0.2131772290598362,
          1.080711577138698,
          0.9065147970555062,
          1.1829988342342057,
          0.12001511497632662,
          1.3887450912401913,
          -2.78072622409948,
          -2.313880160775297,
          -2.2209087913465697,
          -0.8501770771479853,
          -2.2198464159257765,
          -0.16360895940147574,
          -0.19846323367006466,
          -0.04213975433148367,
          -0.3745326021344163,
          -0.9333280920456807,
          -0.9340267374890825,
          0.4583848447394456,
          1.125871155584272,
          0.6517901871857108,
          1.4427983466919618,
          0.5748990184276859,
          0.8339918656396115,
          0.42057608945060476,
          1.1303308044797449,
          -0.2173029560931384,
          -0.10695437812311058,
          -0.1647396805721662,
          0.3537999497340757,
          1.3771465406928614,
          0.8227130426138717,
          -0.6820573910694837,
          0.3397039049615024,
          -0.14670633863750426,
          0.11422886301014573,
          0.22322507518130985,
          1.008732005080247,
          0.04879025600657378,
          0.18899897145513717,
          0.5735666666490409,
          -0.17631672669351534,
          -0.6121780136434116,
          -1.8125287413655182,
          -0.37523103466270935,
          -1.34110303728776,
          0.15781457297208787,
          -0.6644994885725857,
          -0.6986959261269439,
          -0.02938287462103316,
          -0.46827827284184276,
          -0.6704964555246933,
          -1.3305909215685068
         ],
         "y0": " ",
         "yaxis": "y",
         "type": "violin"
        }
       ],
       "layout": {
        "template": {
         "data": {
          "histogram2dcontour": [
           {
            "type": "histogram2dcontour",
            "colorbar": {
             "outlinewidth": 0,
             "ticks": ""
            },
            "colorscale": [
             [
              0.0,
              "#0d0887"
             ],
             [
              0.1111111111111111,
              "#46039f"
             ],
             [
              0.2222222222222222,
              "#7201a8"
             ],
             [
              0.3333333333333333,
              "#9c179e"
             ],
             [
              0.4444444444444444,
              "#bd3786"
             ],
             [
              0.5555555555555556,
              "#d8576b"
             ],
             [
              0.6666666666666666,
              "#ed7953"
             ],
             [
              0.7777777777777778,
              "#fb9f3a"
             ],
             [
              0.8888888888888888,
              "#fdca26"
             ],
             [
              1.0,
              "#f0f921"
             ]
            ]
           }
          ],
          "choropleth": [
           {
            "type": "choropleth",
            "colorbar": {
             "outlinewidth": 0,
             "ticks": ""
            }
           }
          ],
          "histogram2d": [
           {
            "type": "histogram2d",
            "colorbar": {
             "outlinewidth": 0,
             "ticks": ""
            },
            "colorscale": [
             [
              0.0,
              "#0d0887"
             ],
             [
              0.1111111111111111,
              "#46039f"
             ],
             [
              0.2222222222222222,
              "#7201a8"
             ],
             [
              0.3333333333333333,
              "#9c179e"
             ],
             [
              0.4444444444444444,
              "#bd3786"
             ],
             [
              0.5555555555555556,
              "#d8576b"
             ],
             [
              0.6666666666666666,
              "#ed7953"
             ],
             [
              0.7777777777777778,
              "#fb9f3a"
             ],
             [
              0.8888888888888888,
              "#fdca26"
             ],
             [
              1.0,
              "#f0f921"
             ]
            ]
           }
          ],
          "heatmap": [
           {
            "type": "heatmap",
            "colorbar": {
             "outlinewidth": 0,
             "ticks": ""
            },
            "colorscale": [
             [
              0.0,
              "#0d0887"
             ],
             [
              0.1111111111111111,
              "#46039f"
             ],
             [
              0.2222222222222222,
              "#7201a8"
             ],
             [
              0.3333333333333333,
              "#9c179e"
             ],
             [
              0.4444444444444444,
              "#bd3786"
             ],
             [
              0.5555555555555556,
              "#d8576b"
             ],
             [
              0.6666666666666666,
              "#ed7953"
             ],
             [
              0.7777777777777778,
              "#fb9f3a"
             ],
             [
              0.8888888888888888,
              "#fdca26"
             ],
             [
              1.0,
              "#f0f921"
             ]
            ]
           }
          ],
          "heatmapgl": [
           {
            "type": "heatmapgl",
            "colorbar": {
             "outlinewidth": 0,
             "ticks": ""
            },
            "colorscale": [
             [
              0.0,
              "#0d0887"
             ],
             [
              0.1111111111111111,
              "#46039f"
             ],
             [
              0.2222222222222222,
              "#7201a8"
             ],
             [
              0.3333333333333333,
              "#9c179e"
             ],
             [
              0.4444444444444444,
              "#bd3786"
             ],
             [
              0.5555555555555556,
              "#d8576b"
             ],
             [
              0.6666666666666666,
              "#ed7953"
             ],
             [
              0.7777777777777778,
              "#fb9f3a"
             ],
             [
              0.8888888888888888,
              "#fdca26"
             ],
             [
              1.0,
              "#f0f921"
             ]
            ]
           }
          ],
          "contourcarpet": [
           {
            "type": "contourcarpet",
            "colorbar": {
             "outlinewidth": 0,
             "ticks": ""
            }
           }
          ],
          "contour": [
           {
            "type": "contour",
            "colorbar": {
             "outlinewidth": 0,
             "ticks": ""
            },
            "colorscale": [
             [
              0.0,
              "#0d0887"
             ],
             [
              0.1111111111111111,
              "#46039f"
             ],
             [
              0.2222222222222222,
              "#7201a8"
             ],
             [
              0.3333333333333333,
              "#9c179e"
             ],
             [
              0.4444444444444444,
              "#bd3786"
             ],
             [
              0.5555555555555556,
              "#d8576b"
             ],
             [
              0.6666666666666666,
              "#ed7953"
             ],
             [
              0.7777777777777778,
              "#fb9f3a"
             ],
             [
              0.8888888888888888,
              "#fdca26"
             ],
             [
              1.0,
              "#f0f921"
             ]
            ]
           }
          ],
          "surface": [
           {
            "type": "surface",
            "colorbar": {
             "outlinewidth": 0,
             "ticks": ""
            },
            "colorscale": [
             [
              0.0,
              "#0d0887"
             ],
             [
              0.1111111111111111,
              "#46039f"
             ],
             [
              0.2222222222222222,
              "#7201a8"
             ],
             [
              0.3333333333333333,
              "#9c179e"
             ],
             [
              0.4444444444444444,
              "#bd3786"
             ],
             [
              0.5555555555555556,
              "#d8576b"
             ],
             [
              0.6666666666666666,
              "#ed7953"
             ],
             [
              0.7777777777777778,
              "#fb9f3a"
             ],
             [
              0.8888888888888888,
              "#fdca26"
             ],
             [
              1.0,
              "#f0f921"
             ]
            ]
           }
          ],
          "mesh3d": [
           {
            "type": "mesh3d",
            "colorbar": {
             "outlinewidth": 0,
             "ticks": ""
            }
           }
          ],
          "scatter": [
           {
            "marker": {
             "line": {
              "color": "#283442"
             }
            },
            "type": "scatter"
           }
          ],
          "parcoords": [
           {
            "type": "parcoords",
            "line": {
             "colorbar": {
              "outlinewidth": 0,
              "ticks": ""
             }
            }
           }
          ],
          "scatterpolargl": [
           {
            "type": "scatterpolargl",
            "marker": {
             "colorbar": {
              "outlinewidth": 0,
              "ticks": ""
             }
            }
           }
          ],
          "bar": [
           {
            "error_x": {
             "color": "#f2f5fa"
            },
            "error_y": {
             "color": "#f2f5fa"
            },
            "marker": {
             "line": {
              "color": "rgb(17,17,17)",
              "width": 0.5
             },
             "pattern": {
              "fillmode": "overlay",
              "size": 10,
              "solidity": 0.2
             }
            },
            "type": "bar"
           }
          ],
          "scattergeo": [
           {
            "type": "scattergeo",
            "marker": {
             "colorbar": {
              "outlinewidth": 0,
              "ticks": ""
             }
            }
           }
          ],
          "scatterpolar": [
           {
            "type": "scatterpolar",
            "marker": {
             "colorbar": {
              "outlinewidth": 0,
              "ticks": ""
             }
            }
           }
          ],
          "histogram": [
           {
            "marker": {
             "pattern": {
              "fillmode": "overlay",
              "size": 10,
              "solidity": 0.2
             }
            },
            "type": "histogram"
           }
          ],
          "scattergl": [
           {
            "marker": {
             "line": {
              "color": "#283442"
             }
            },
            "type": "scattergl"
           }
          ],
          "scatter3d": [
           {
            "type": "scatter3d",
            "line": {
             "colorbar": {
              "outlinewidth": 0,
              "ticks": ""
             }
            },
            "marker": {
             "colorbar": {
              "outlinewidth": 0,
              "ticks": ""
             }
            }
           }
          ],
          "scattermapbox": [
           {
            "type": "scattermapbox",
            "marker": {
             "colorbar": {
              "outlinewidth": 0,
              "ticks": ""
             }
            }
           }
          ],
          "scatterternary": [
           {
            "type": "scatterternary",
            "marker": {
             "colorbar": {
              "outlinewidth": 0,
              "ticks": ""
             }
            }
           }
          ],
          "scattercarpet": [
           {
            "type": "scattercarpet",
            "marker": {
             "colorbar": {
              "outlinewidth": 0,
              "ticks": ""
             }
            }
           }
          ],
          "carpet": [
           {
            "aaxis": {
             "endlinecolor": "#A2B1C6",
             "gridcolor": "#506784",
             "linecolor": "#506784",
             "minorgridcolor": "#506784",
             "startlinecolor": "#A2B1C6"
            },
            "baxis": {
             "endlinecolor": "#A2B1C6",
             "gridcolor": "#506784",
             "linecolor": "#506784",
             "minorgridcolor": "#506784",
             "startlinecolor": "#A2B1C6"
            },
            "type": "carpet"
           }
          ],
          "table": [
           {
            "cells": {
             "fill": {
              "color": "#506784"
             },
             "line": {
              "color": "rgb(17,17,17)"
             }
            },
            "header": {
             "fill": {
              "color": "#2a3f5f"
             },
             "line": {
              "color": "rgb(17,17,17)"
             }
            },
            "type": "table"
           }
          ],
          "barpolar": [
           {
            "marker": {
             "line": {
              "color": "rgb(17,17,17)",
              "width": 0.5
             },
             "pattern": {
              "fillmode": "overlay",
              "size": 10,
              "solidity": 0.2
             }
            },
            "type": "barpolar"
           }
          ],
          "pie": [
           {
            "automargin": true,
            "type": "pie"
           }
          ]
         },
         "layout": {
          "autotypenumbers": "strict",
          "colorway": [
           "#636efa",
           "#EF553B",
           "#00cc96",
           "#ab63fa",
           "#FFA15A",
           "#19d3f3",
           "#FF6692",
           "#B6E880",
           "#FF97FF",
           "#FECB52"
          ],
          "font": {
           "color": "#f2f5fa"
          },
          "hovermode": "closest",
          "hoverlabel": {
           "align": "left"
          },
          "paper_bgcolor": "rgb(17,17,17)",
          "plot_bgcolor": "rgb(17,17,17)",
          "polar": {
           "bgcolor": "rgb(17,17,17)",
           "angularaxis": {
            "gridcolor": "#506784",
            "linecolor": "#506784",
            "ticks": ""
           },
           "radialaxis": {
            "gridcolor": "#506784",
            "linecolor": "#506784",
            "ticks": ""
           }
          },
          "ternary": {
           "bgcolor": "rgb(17,17,17)",
           "aaxis": {
            "gridcolor": "#506784",
            "linecolor": "#506784",
            "ticks": ""
           },
           "baxis": {
            "gridcolor": "#506784",
            "linecolor": "#506784",
            "ticks": ""
           },
           "caxis": {
            "gridcolor": "#506784",
            "linecolor": "#506784",
            "ticks": ""
           }
          },
          "coloraxis": {
           "colorbar": {
            "outlinewidth": 0,
            "ticks": ""
           }
          },
          "colorscale": {
           "sequential": [
            [
             0.0,
             "#0d0887"
            ],
            [
             0.1111111111111111,
             "#46039f"
            ],
            [
             0.2222222222222222,
             "#7201a8"
            ],
            [
             0.3333333333333333,
             "#9c179e"
            ],
            [
             0.4444444444444444,
             "#bd3786"
            ],
            [
             0.5555555555555556,
             "#d8576b"
            ],
            [
             0.6666666666666666,
             "#ed7953"
            ],
            [
             0.7777777777777778,
             "#fb9f3a"
            ],
            [
             0.8888888888888888,
             "#fdca26"
            ],
            [
             1.0,
             "#f0f921"
            ]
           ],
           "sequentialminus": [
            [
             0.0,
             "#0d0887"
            ],
            [
             0.1111111111111111,
             "#46039f"
            ],
            [
             0.2222222222222222,
             "#7201a8"
            ],
            [
             0.3333333333333333,
             "#9c179e"
            ],
            [
             0.4444444444444444,
             "#bd3786"
            ],
            [
             0.5555555555555556,
             "#d8576b"
            ],
            [
             0.6666666666666666,
             "#ed7953"
            ],
            [
             0.7777777777777778,
             "#fb9f3a"
            ],
            [
             0.8888888888888888,
             "#fdca26"
            ],
            [
             1.0,
             "#f0f921"
            ]
           ],
           "diverging": [
            [
             0,
             "#8e0152"
            ],
            [
             0.1,
             "#c51b7d"
            ],
            [
             0.2,
             "#de77ae"
            ],
            [
             0.3,
             "#f1b6da"
            ],
            [
             0.4,
             "#fde0ef"
            ],
            [
             0.5,
             "#f7f7f7"
            ],
            [
             0.6,
             "#e6f5d0"
            ],
            [
             0.7,
             "#b8e186"
            ],
            [
             0.8,
             "#7fbc41"
            ],
            [
             0.9,
             "#4d9221"
            ],
            [
             1,
             "#276419"
            ]
           ]
          },
          "xaxis": {
           "gridcolor": "#283442",
           "linecolor": "#506784",
           "ticks": "",
           "title": {
            "standoff": 15
           },
           "zerolinecolor": "#283442",
           "automargin": true,
           "zerolinewidth": 2
          },
          "yaxis": {
           "gridcolor": "#283442",
           "linecolor": "#506784",
           "ticks": "",
           "title": {
            "standoff": 15
           },
           "zerolinecolor": "#283442",
           "automargin": true,
           "zerolinewidth": 2
          },
          "scene": {
           "xaxis": {
            "backgroundcolor": "rgb(17,17,17)",
            "gridcolor": "#506784",
            "linecolor": "#506784",
            "showbackground": true,
            "ticks": "",
            "zerolinecolor": "#C8D4E3",
            "gridwidth": 2
           },
           "yaxis": {
            "backgroundcolor": "rgb(17,17,17)",
            "gridcolor": "#506784",
            "linecolor": "#506784",
            "showbackground": true,
            "ticks": "",
            "zerolinecolor": "#C8D4E3",
            "gridwidth": 2
           },
           "zaxis": {
            "backgroundcolor": "rgb(17,17,17)",
            "gridcolor": "#506784",
            "linecolor": "#506784",
            "showbackground": true,
            "ticks": "",
            "zerolinecolor": "#C8D4E3",
            "gridwidth": 2
           }
          },
          "shapedefaults": {
           "line": {
            "color": "#f2f5fa"
           }
          },
          "annotationdefaults": {
           "arrowcolor": "#f2f5fa",
           "arrowhead": 0,
           "arrowwidth": 1
          },
          "geo": {
           "bgcolor": "rgb(17,17,17)",
           "landcolor": "rgb(17,17,17)",
           "subunitcolor": "#506784",
           "showland": true,
           "showlakes": true,
           "lakecolor": "rgb(17,17,17)"
          },
          "title": {
           "x": 0.05
          },
          "updatemenudefaults": {
           "bgcolor": "#506784",
           "borderwidth": 0
          },
          "sliderdefaults": {
           "bgcolor": "#C8D4E3",
           "borderwidth": 1,
           "bordercolor": "rgb(17,17,17)",
           "tickwidth": 0
          },
          "mapbox": {
           "style": "dark"
          }
         }
        },
        "xaxis": {
         "anchor": "y",
         "domain": [
          0.0,
          1.0
         ],
         "title": {
          "text": "variable"
         },
         "categoryorder": "array",
         "categoryarray": [
          "Earning99",
          "Unempl",
          "Unempl2",
          "Unempl3",
          "BuyingPower",
          "X.Progre",
          "Enterpr",
          "Lifex",
          "Divorce",
          "Abortion",
          "Pop",
          "Crime",
          "Grow.",
          "Migr",
          "Pop65"
         ]
        },
        "yaxis": {
         "anchor": "x",
         "domain": [
          0.0,
          1.0
         ],
         "title": {
          "text": "value"
         }
        },
        "legend": {
         "title": {
          "text": "variable"
         },
         "tracegroupgap": 0
        },
        "margin": {
         "t": 60
        },
        "violinmode": "overlay"
       },
       "config": {
        "plotlyServerURL": "https://plot.ly"
       }
      },
      "text/html": "<div>                            <div id=\"27fd1897-f322-47a2-b197-6f3e307981dc\" class=\"plotly-graph-div\" style=\"height:525px; width:100%;\"></div>            <script type=\"text/javascript\">                require([\"plotly\"], function(Plotly) {                    window.PLOTLYENV=window.PLOTLYENV || {};                                    if (document.getElementById(\"27fd1897-f322-47a2-b197-6f3e307981dc\")) {                    Plotly.newPlot(                        \"27fd1897-f322-47a2-b197-6f3e307981dc\",                        [{\"alignmentgroup\":\"True\",\"box\":{\"visible\":true},\"hovertemplate\":\"variable=%{x}<br>value=%{y}<extra></extra>\",\"legendgroup\":\"Earning99\",\"marker\":{\"color\":\"#636efa\"},\"name\":\"Earning99\",\"offsetgroup\":\"Earning99\",\"orientation\":\"v\",\"points\":\"all\",\"scalegroup\":\"True\",\"showlegend\":true,\"x\":[\"Earning99\",\"Earning99\",\"Earning99\",\"Earning99\",\"Earning99\",\"Earning99\",\"Earning99\",\"Earning99\",\"Earning99\",\"Earning99\",\"Earning99\",\"Earning99\",\"Earning99\",\"Earning99\",\"Earning99\",\"Earning99\",\"Earning99\",\"Earning99\",\"Earning99\",\"Earning99\",\"Earning99\",\"Earning99\",\"Earning99\",\"Earning99\",\"Earning99\",\"Earning99\",\"Earning99\",\"Earning99\",\"Earning99\",\"Earning99\",\"Earning99\",\"Earning99\",\"Earning99\",\"Earning99\",\"Earning99\",\"Earning99\",\"Earning99\",\"Earning99\",\"Earning99\",\"Earning99\",\"Earning99\",\"Earning99\",\"Earning99\",\"Earning99\",\"Earning99\",\"Earning99\",\"Earning99\",\"Earning99\",\"Earning99\",\"Earning99\",\"Earning99\",\"Earning99\",\"Earning99\",\"Earning99\",\"Earning99\",\"Earning99\",\"Earning99\",\"Earning99\",\"Earning99\",\"Earning99\",\"Earning99\",\"Earning99\",\"Earning99\",\"Earning99\",\"Earning99\",\"Earning99\",\"Earning99\",\"Earning99\",\"Earning99\",\"Earning99\",\"Earning99\",\"Earning99\"],\"x0\":\" \",\"xaxis\":\"x\",\"y\":[-0.23574944437919607,0.563078565600605,0.580093006707736,0.13601609381161658,-0.6007092061271563,1.4086962886250163,2.9952929218649835,-0.25956966192917946,2.0254697787585156,-0.5734861003557467,-0.42205757450228065,1.3729659623000412,-0.049441314256111465,-0.8125389979109374,-1.2098261977624465,-0.47735450810045643,-0.9435501944358462,-0.3897301363987317,-0.058799256865033525,-0.4331169612219158,-0.2246900576595609,-0.5224427770343536,1.6247796906855803,-0.2731812148148843,-0.5190398888129274,-0.06900792152931214,0.1819550848008703,-0.22894366793634366,0.28148956527758673,-0.4654443993254647,0.19216374946514891,-0.24765955315418778,0.2729823447240212,0.06370471910630977,-0.4109981877826455,0.4082471515257128,0.6149726109773546,-0.6662148043896107,0.3393386650418322,-0.7079001851020816,-0.595604873795017,-0.5734861003557467,0.3010561725507874,0.15558270108481725,-0.7044972968806554,-0.9197299768858628,-0.04093409370254596,-0.4731008978236737,-1.100933774676808,1.1551811161287642,0.06200327499559667,-0.6228279795664267,0.5018265776149333,-0.663662638223541,-0.2076756165524299,-0.7912709465270237,-0.6968407983824465,-0.6423945868396272,-0.7683014510323968,-0.8457171580698429,-0.8389113816269905,-0.5777397106325294,-1.3467924486748513,0.6005103360362932,-0.25446532959704016,-0.014561709986492888,-0.5675310459682508,1.4257107297321474,-0.319120205804138,-0.5905005414628777,-0.1608859035078196,-1.292346237132032],\"y0\":\" \",\"yaxis\":\"y\",\"type\":\"violin\"},{\"alignmentgroup\":\"True\",\"box\":{\"visible\":true},\"hovertemplate\":\"variable=%{x}<br>value=%{y}<extra></extra>\",\"legendgroup\":\"Unempl\",\"marker\":{\"color\":\"#EF553B\"},\"name\":\"Unempl\",\"offsetgroup\":\"Unempl\",\"orientation\":\"v\",\"points\":\"all\",\"scalegroup\":\"True\",\"showlegend\":true,\"x\":[\"Unempl\",\"Unempl\",\"Unempl\",\"Unempl\",\"Unempl\",\"Unempl\",\"Unempl\",\"Unempl\",\"Unempl\",\"Unempl\",\"Unempl\",\"Unempl\",\"Unempl\",\"Unempl\",\"Unempl\",\"Unempl\",\"Unempl\",\"Unempl\",\"Unempl\",\"Unempl\",\"Unempl\",\"Unempl\",\"Unempl\",\"Unempl\",\"Unempl\",\"Unempl\",\"Unempl\",\"Unempl\",\"Unempl\",\"Unempl\",\"Unempl\",\"Unempl\",\"Unempl\",\"Unempl\",\"Unempl\",\"Unempl\",\"Unempl\",\"Unempl\",\"Unempl\",\"Unempl\",\"Unempl\",\"Unempl\",\"Unempl\",\"Unempl\",\"Unempl\",\"Unempl\",\"Unempl\",\"Unempl\",\"Unempl\",\"Unempl\",\"Unempl\",\"Unempl\",\"Unempl\",\"Unempl\",\"Unempl\",\"Unempl\",\"Unempl\",\"Unempl\",\"Unempl\",\"Unempl\",\"Unempl\",\"Unempl\",\"Unempl\",\"Unempl\",\"Unempl\",\"Unempl\",\"Unempl\",\"Unempl\",\"Unempl\",\"Unempl\",\"Unempl\",\"Unempl\"],\"x0\":\" \",\"xaxis\":\"x\",\"y\":[-1.3238077150361018,-0.9554632412064952,0.22323907504824678,0.22323907504824678,0.5915835488778536,-0.3661120830791242,-1.3974766098020233,0.002232390750482616,-1.4465892063126375,-0.14510539878136,-0.07143650401543891,-1.1028010307383378,-0.04688020576013188,-0.9800195394618022,-1.2010262237595664,-0.3169994865685101,-0.709900258653424,-0.5625624691215813,-0.8081254516746526,-1.151913627248952,-0.16966169703666747,-0.6607876621428097,-0.39066838133443144,-1.0045758377171095,-0.7835691534193453,-0.2433305918025886,0.2477953733035538,-0.09599280227074596,-0.538006170866274,1.1563784087499172,1.9667362511750517,-0.9800195394618022,-0.39066838133443144,1.1563784087499172,2.0158488476856666,1.9912925494303593,1.2791599000264526,-0.6607876621428097,-0.5871187673768883,0.1250138820270182,-0.7590128551640383,-0.8817943464405739,-0.8326817499299596,-0.9554632412064952,-0.685343960398117,0.468802057601318,-0.685343960398117,-0.39066838133443144,-0.46433727610035275,-0.2433305918025886,-0.538006170866274,0.2969079698141679,-0.4888935743556598,1.2791599000264526,-0.6362313638875027,0.22323907504824678,0.3705768645800894,0.7143650401543892,-0.41522467958973847,0.1250138820270182,1.0090406192180745,-0.34155578482381715,2.0404051459409733,1.2791599000264526,0.8617028296862318,0.6161398471331606,0.4442457593460105,1.8930673564091312,1.3037161982817598,0.5915835488778536,0.14957018028232524,1.0581532157286886],\"y0\":\" \",\"yaxis\":\"y\",\"type\":\"violin\"},{\"alignmentgroup\":\"True\",\"box\":{\"visible\":true},\"hovertemplate\":\"variable=%{x}<br>value=%{y}<extra></extra>\",\"legendgroup\":\"Unempl2\",\"marker\":{\"color\":\"#00cc96\"},\"name\":\"Unempl2\",\"offsetgroup\":\"Unempl2\",\"orientation\":\"v\",\"points\":\"all\",\"scalegroup\":\"True\",\"showlegend\":true,\"x\":[\"Unempl2\",\"Unempl2\",\"Unempl2\",\"Unempl2\",\"Unempl2\",\"Unempl2\",\"Unempl2\",\"Unempl2\",\"Unempl2\",\"Unempl2\",\"Unempl2\",\"Unempl2\",\"Unempl2\",\"Unempl2\",\"Unempl2\",\"Unempl2\",\"Unempl2\",\"Unempl2\",\"Unempl2\",\"Unempl2\",\"Unempl2\",\"Unempl2\",\"Unempl2\",\"Unempl2\",\"Unempl2\",\"Unempl2\",\"Unempl2\",\"Unempl2\",\"Unempl2\",\"Unempl2\",\"Unempl2\",\"Unempl2\",\"Unempl2\",\"Unempl2\",\"Unempl2\",\"Unempl2\",\"Unempl2\",\"Unempl2\",\"Unempl2\",\"Unempl2\",\"Unempl2\",\"Unempl2\",\"Unempl2\",\"Unempl2\",\"Unempl2\",\"Unempl2\",\"Unempl2\",\"Unempl2\",\"Unempl2\",\"Unempl2\",\"Unempl2\",\"Unempl2\",\"Unempl2\",\"Unempl2\",\"Unempl2\",\"Unempl2\",\"Unempl2\",\"Unempl2\",\"Unempl2\",\"Unempl2\",\"Unempl2\",\"Unempl2\",\"Unempl2\",\"Unempl2\",\"Unempl2\",\"Unempl2\",\"Unempl2\",\"Unempl2\",\"Unempl2\",\"Unempl2\",\"Unempl2\",\"Unempl2\"],\"x0\":\" \",\"xaxis\":\"x\",\"y\":[-0.8701697683864095,-0.7279504589340273,-0.2390715826914637,-0.3635134784622981,0.8275732382014022,-0.20351675532836813,-0.9146133025902788,-0.6390633905262885,-1.0035003709980177,-0.5323989084370019,0.20536375934723047,-0.3546247716215243,-0.141295807442951,-0.6568408042078363,-0.6390633905262885,-0.523510201596228,-0.6835069247301578,-0.6301746836855147,-0.6923956315709319,-0.8612810615456356,0.24091858671032604,-0.7101730452524796,-0.5323989084370019,-0.5590650289593235,-0.3635134784622981,0.392026603003482,-0.23018287585068986,-0.6479520973670624,-0.603508563163193,-0.052408739035212176,1.707555215438017,-0.7279504589340273,-0.7190617520932535,1.2186763391954532,0.8720167724052716,2.99641770735023,0.46313625772967315,-0.43462313318848916,-0.82572623418254,0.04536703621330051,-0.7012843384117057,-0.8168375273417662,-0.8079488205009923,-0.5501763221185496,-0.8523923547048617,-0.39906830582539365,-0.7723939931378967,-0.6568408042078363,-0.7901714068194446,0.04536703621330051,0.17869763882490877,0.4098040166850297,0.03647832937252666,1.778664870164208,-0.5501763221185496,-0.09685227323908159,-0.603508563163193,-0.15018451428372487,0.32980565511806487,-0.4435118400292631,1.3253408212847397,-0.4612892537108108,2.6764242610823703,1.2275650460362268,1.76088745648266,0.703131342430568,0.9431264271314628,1.245342459717775,-0.3279586510992025,-0.141295807442951,-0.06129744587598603,0.392026603003482],\"y0\":\" \",\"yaxis\":\"y\",\"type\":\"violin\"},{\"alignmentgroup\":\"True\",\"box\":{\"visible\":true},\"hovertemplate\":\"variable=%{x}<br>value=%{y}<extra></extra>\",\"legendgroup\":\"Unempl3\",\"marker\":{\"color\":\"#ab63fa\"},\"name\":\"Unempl3\",\"offsetgroup\":\"Unempl3\",\"orientation\":\"v\",\"points\":\"all\",\"scalegroup\":\"True\",\"showlegend\":true,\"x\":[\"Unempl3\",\"Unempl3\",\"Unempl3\",\"Unempl3\",\"Unempl3\",\"Unempl3\",\"Unempl3\",\"Unempl3\",\"Unempl3\",\"Unempl3\",\"Unempl3\",\"Unempl3\",\"Unempl3\",\"Unempl3\",\"Unempl3\",\"Unempl3\",\"Unempl3\",\"Unempl3\",\"Unempl3\",\"Unempl3\",\"Unempl3\",\"Unempl3\",\"Unempl3\",\"Unempl3\",\"Unempl3\",\"Unempl3\",\"Unempl3\",\"Unempl3\",\"Unempl3\",\"Unempl3\",\"Unempl3\",\"Unempl3\",\"Unempl3\",\"Unempl3\",\"Unempl3\",\"Unempl3\",\"Unempl3\",\"Unempl3\",\"Unempl3\",\"Unempl3\",\"Unempl3\",\"Unempl3\",\"Unempl3\",\"Unempl3\",\"Unempl3\",\"Unempl3\",\"Unempl3\",\"Unempl3\",\"Unempl3\",\"Unempl3\",\"Unempl3\",\"Unempl3\",\"Unempl3\",\"Unempl3\",\"Unempl3\",\"Unempl3\",\"Unempl3\",\"Unempl3\",\"Unempl3\",\"Unempl3\",\"Unempl3\",\"Unempl3\",\"Unempl3\",\"Unempl3\",\"Unempl3\",\"Unempl3\",\"Unempl3\",\"Unempl3\",\"Unempl3\",\"Unempl3\",\"Unempl3\",\"Unempl3\"],\"x0\":\" \",\"xaxis\":\"x\",\"y\":[-2.780662928074804,0.037474062061375435,0.7184581263882122,0.38046398474252224,0.5668321356098824,0.0812906349542633,-0.7228371282100813,0.6449141831754249,-2.4587780115907494,-0.005943605662695547,0.3662912727427674,-1.7188146652625975,0.011330742312965901,-1.3698226748505156,-2.3908886544338315,-0.7987673061819694,-1.1821787129208976,-0.3155161871966312,-1.671005752410917,0.2964010282028204,0.5267972510004507,-0.2687298885688173,0.1501227266531659,-1.166884005041127,-0.5085559229892694,0.40410515819217857,-0.3281317259930838,0.3963579167083565,-0.687537694779891,1.3447340054914583,1.275822577940046,-0.36668031227845116,0.08285779944139808,0.537005155984329,0.9835442637134644,1.5236770389246383,1.4668749841424005,0.4009968571446522,-0.11084247403733023,0.11253736336523873,-0.28369245582072355,-0.8586732987295529,-0.5897291093590964,-1.4214260875939084,-0.18700480391558735,0.6293617001727724,-0.15091580611872463,-0.026911035675571463,0.7884566309150046,0.5130261506691831,-0.5132457936787224,-0.25077416033016,-0.3749227799661142,0.4033522327486239,0.24838382870121584,0.31423057537970794,0.3658141699689669,0.8512624860938536,-0.8904241696166503,0.766192711676495,-0.4864236863422354,0.016123712933815638,0.5585748074684176,0.8212240453725006,0.9809809935226051,0.5247814652220361,0.335045568754565,1.5167168197213485,1.594087677585928,0.8303355271040974,0.8117266091994856,-0.46640047059312795],\"y0\":\" \",\"yaxis\":\"y\",\"type\":\"violin\"},{\"alignmentgroup\":\"True\",\"box\":{\"visible\":true},\"hovertemplate\":\"variable=%{x}<br>value=%{y}<extra></extra>\",\"legendgroup\":\"BuyingPower\",\"marker\":{\"color\":\"#FFA15A\"},\"name\":\"BuyingPower\",\"offsetgroup\":\"BuyingPower\",\"orientation\":\"v\",\"points\":\"all\",\"scalegroup\":\"True\",\"showlegend\":true,\"x\":[\"BuyingPower\",\"BuyingPower\",\"BuyingPower\",\"BuyingPower\",\"BuyingPower\",\"BuyingPower\",\"BuyingPower\",\"BuyingPower\",\"BuyingPower\",\"BuyingPower\",\"BuyingPower\",\"BuyingPower\",\"BuyingPower\",\"BuyingPower\",\"BuyingPower\",\"BuyingPower\",\"BuyingPower\",\"BuyingPower\",\"BuyingPower\",\"BuyingPower\",\"BuyingPower\",\"BuyingPower\",\"BuyingPower\",\"BuyingPower\",\"BuyingPower\",\"BuyingPower\",\"BuyingPower\",\"BuyingPower\",\"BuyingPower\",\"BuyingPower\",\"BuyingPower\",\"BuyingPower\",\"BuyingPower\",\"BuyingPower\",\"BuyingPower\",\"BuyingPower\",\"BuyingPower\",\"BuyingPower\",\"BuyingPower\",\"BuyingPower\",\"BuyingPower\",\"BuyingPower\",\"BuyingPower\",\"BuyingPower\",\"BuyingPower\",\"BuyingPower\",\"BuyingPower\",\"BuyingPower\",\"BuyingPower\",\"BuyingPower\",\"BuyingPower\",\"BuyingPower\",\"BuyingPower\",\"BuyingPower\",\"BuyingPower\",\"BuyingPower\",\"BuyingPower\",\"BuyingPower\",\"BuyingPower\",\"BuyingPower\",\"BuyingPower\",\"BuyingPower\",\"BuyingPower\",\"BuyingPower\",\"BuyingPower\",\"BuyingPower\",\"BuyingPower\",\"BuyingPower\",\"BuyingPower\",\"BuyingPower\",\"BuyingPower\",\"BuyingPower\"],\"x0\":\" \",\"xaxis\":\"x\",\"y\":[0.027678267483708986,0.5291433489532595,0.5291433489532595,0.15304453785109662,0.2784108082184843,0.6545096193206472,1.0306084304228103,0.4037770785858719,1.782806052627136,-0.09768800288367867,-0.09768800288367867,0.7798758896880349,-0.09768800288367867,-0.5991530843532292,-0.4737868139858416,0.027678267483708986,-0.2230542732510663,-0.09768800288367867,0.2784108082184843,-0.2230542732510663,2.0335385933619112,0.15304453785109662,1.5320735118923607,0.15304453785109662,-0.3484205436184539,0.15304453785109662,-0.3484205436184539,-0.3484205436184539,-0.09768800288367867,0.027678267483708986,-0.4737868139858416,1.1559747007901977,0.9052421600554225,0.15304453785109662,-0.4737868139858416,0.15304453785109662,0.5291433489532595,-0.9752518954553921,0.4037770785858719,-0.7245193547206169,-0.09768800288367867,-0.09768800288367867,0.2784108082184843,-0.4737868139858416,1.0306084304228103,-1.2259844361901675,1.1559747007901977,-0.9752518954553921,-0.9752518954553921,1.6574397822597484,-0.3484205436184539,-0.7245193547206169,-0.4737868139858416,-0.9752518954553921,-0.7245193547206169,-0.8498856250880046,-0.7245193547206169,-1.4767169769249429,-0.7245193547206169,-1.1006181658227798,-0.9752518954553921,-1.6020832472923303,-1.4767169769249429,-0.7245193547206169,-0.9752518954553921,-0.09768800288367867,-1.1006181658227798,0.6545096193206472,-0.5991530843532292,-0.5991530843532292,-0.5991530843532292,-0.4737868139858416],\"y0\":\" \",\"yaxis\":\"y\",\"type\":\"violin\"},{\"alignmentgroup\":\"True\",\"box\":{\"visible\":true},\"hovertemplate\":\"variable=%{x}<br>value=%{y}<extra></extra>\",\"legendgroup\":\"X.Progre\",\"marker\":{\"color\":\"#19d3f3\"},\"name\":\"X.Progre\",\"offsetgroup\":\"X.Progre\",\"orientation\":\"v\",\"points\":\"all\",\"scalegroup\":\"True\",\"showlegend\":true,\"x\":[\"X.Progre\",\"X.Progre\",\"X.Progre\",\"X.Progre\",\"X.Progre\",\"X.Progre\",\"X.Progre\",\"X.Progre\",\"X.Progre\",\"X.Progre\",\"X.Progre\",\"X.Progre\",\"X.Progre\",\"X.Progre\",\"X.Progre\",\"X.Progre\",\"X.Progre\",\"X.Progre\",\"X.Progre\",\"X.Progre\",\"X.Progre\",\"X.Progre\",\"X.Progre\",\"X.Progre\",\"X.Progre\",\"X.Progre\",\"X.Progre\",\"X.Progre\",\"X.Progre\",\"X.Progre\",\"X.Progre\",\"X.Progre\",\"X.Progre\",\"X.Progre\",\"X.Progre\",\"X.Progre\",\"X.Progre\",\"X.Progre\",\"X.Progre\",\"X.Progre\",\"X.Progre\",\"X.Progre\",\"X.Progre\",\"X.Progre\",\"X.Progre\",\"X.Progre\",\"X.Progre\",\"X.Progre\",\"X.Progre\",\"X.Progre\",\"X.Progre\",\"X.Progre\",\"X.Progre\",\"X.Progre\",\"X.Progre\",\"X.Progre\",\"X.Progre\",\"X.Progre\",\"X.Progre\",\"X.Progre\",\"X.Progre\",\"X.Progre\",\"X.Progre\",\"X.Progre\",\"X.Progre\",\"X.Progre\",\"X.Progre\",\"X.Progre\",\"X.Progre\",\"X.Progre\",\"X.Progre\",\"X.Progre\"],\"x0\":\" \",\"xaxis\":\"x\",\"y\":[-0.5497203911930825,0.2100437723312576,1.3365906354880335,0.5855593933835154,-0.8553726408867819,0.22750961517089657,-0.8466397194669625,0.4720314149258571,1.127000521412356,-0.13054016304172228,-0.13054016304172228,0.8824787216573954,-0.7855092695282211,-1.379347926075981,-1.4404783760147197,-0.5147887055138021,-0.30519859143812195,-1.0038323050237206,-0.20913645582010262,-1.5278075902129196,0.9698079358555952,-0.7243788195894821,1.9391622134556155,-1.7810623113876998,-1.8247269184867996,-0.7069129767498407,-0.3575961199570413,-1.1784907334201202,0.009186579675396975,0.7776836646195565,0.6292240004826153,0.06158410819431638,1.1531992856718143,0.15764624381233572,-0.18293769156064169,0.9086774859168563,2.061423113333093,-0.9514347765048012,1.3103918712285751,-0.6108508411318214,-0.46239117699488264,-0.5933849982921824,1.0396713072141561,-0.768043426688582,-0.3925278056363218,-1.152291969160662,-0.025745106003883456,-0.4798570198345216,-0.5671862340327215,2.629063005621392,-0.5671862340327215,-0.07814263452280286,0.3323046722087354,-0.6545154482309213,-0.47112409841470215,-0.12180724162190278,-0.7505775838489406,-1.292018711877781,-0.36632904137686334,-0.4536582555750632,-0.4449253341552412,-1.2745528690381396,-0.10434139878226381,0.05285118677449689,-0.40126072705614124,0.8824787216573954,0.6728886075817152,1.2754601855492946,0.32357175078891587,-0.532254548353441,0.32357175078891587,0.05285118677449689],\"y0\":\" \",\"yaxis\":\"y\",\"type\":\"violin\"},{\"alignmentgroup\":\"True\",\"box\":{\"visible\":true},\"hovertemplate\":\"variable=%{x}<br>value=%{y}<extra></extra>\",\"legendgroup\":\"Enterpr\",\"marker\":{\"color\":\"#FF6692\"},\"name\":\"Enterpr\",\"offsetgroup\":\"Enterpr\",\"orientation\":\"v\",\"points\":\"all\",\"scalegroup\":\"True\",\"showlegend\":true,\"x\":[\"Enterpr\",\"Enterpr\",\"Enterpr\",\"Enterpr\",\"Enterpr\",\"Enterpr\",\"Enterpr\",\"Enterpr\",\"Enterpr\",\"Enterpr\",\"Enterpr\",\"Enterpr\",\"Enterpr\",\"Enterpr\",\"Enterpr\",\"Enterpr\",\"Enterpr\",\"Enterpr\",\"Enterpr\",\"Enterpr\",\"Enterpr\",\"Enterpr\",\"Enterpr\",\"Enterpr\",\"Enterpr\",\"Enterpr\",\"Enterpr\",\"Enterpr\",\"Enterpr\",\"Enterpr\",\"Enterpr\",\"Enterpr\",\"Enterpr\",\"Enterpr\",\"Enterpr\",\"Enterpr\",\"Enterpr\",\"Enterpr\",\"Enterpr\",\"Enterpr\",\"Enterpr\",\"Enterpr\",\"Enterpr\",\"Enterpr\",\"Enterpr\",\"Enterpr\",\"Enterpr\",\"Enterpr\",\"Enterpr\",\"Enterpr\",\"Enterpr\",\"Enterpr\",\"Enterpr\",\"Enterpr\",\"Enterpr\",\"Enterpr\",\"Enterpr\",\"Enterpr\",\"Enterpr\",\"Enterpr\",\"Enterpr\",\"Enterpr\",\"Enterpr\",\"Enterpr\",\"Enterpr\",\"Enterpr\",\"Enterpr\",\"Enterpr\",\"Enterpr\",\"Enterpr\",\"Enterpr\",\"Enterpr\"],\"x0\":\" \",\"xaxis\":\"x\",\"y\":[0.5218647006261341,0.5218647006261341,-0.9798413257890187,-0.09953089651117052,0.055818002773155635,0.4700817341980254,0.2111669020574818,1.2468262306196563,1.8682218277569609,0.9879113984791126,-0.0477479300830618,0.7807795327666777,0.10760096920126436,-0.8244924265046926,-0.7727094600765839,0.41829876776991665,1.09147733133533,-0.09953089651117052,0.36651580134180795,-0.8762753929328013,1.1950432641915474,0.4700817341980254,1.453958096332091,-0.6173605607922578,-0.5137946279360402,0.004035036345046917,-0.9798413257890187,-0.5137946279360402,0.055818002773155635,-0.35844572865171415,-1.0834072586452361,1.7128729284726347,0.9879113984791126,0.055818002773155635,-0.8762753929328013,-1.2905391243576712,-0.6173605607922578,-1.1869731915014536,0.6254306334823515,-0.7209264936484752,0.9361284320510038,0.2111669020574818,0.15938393562937309,0.10760096920126436,1.7128729284726347,-1.3423220907857798,0.5218647006261341,-0.9798413257890187,-1.2387561579295623,1.1432602977634387,-0.46201166150793155,0.4700817341980254,1.6093069956164172,-0.15131386293927923,-1.0316242922171275,-0.2548797957954967,-0.46201166150793155,-0.6691435272203664,-0.46201166150793155,-0.7209264936484752,-0.6691435272203664,-1.1869731915014536,-0.46201166150793155,-1.0834072586452361,-0.8244924265046926,0.15938393562937309,-0.7209264936484752,-0.2548797957954967,-0.46201166150793155,-0.7727094600765839,0.5736476670542429,0.5736476670542429],\"y0\":\" \",\"yaxis\":\"y\",\"type\":\"violin\"},{\"alignmentgroup\":\"True\",\"box\":{\"visible\":true},\"hovertemplate\":\"variable=%{x}<br>value=%{y}<extra></extra>\",\"legendgroup\":\"Lifex\",\"marker\":{\"color\":\"#B6E880\"},\"name\":\"Lifex\",\"offsetgroup\":\"Lifex\",\"orientation\":\"v\",\"points\":\"all\",\"scalegroup\":\"True\",\"showlegend\":true,\"x\":[\"Lifex\",\"Lifex\",\"Lifex\",\"Lifex\",\"Lifex\",\"Lifex\",\"Lifex\",\"Lifex\",\"Lifex\",\"Lifex\",\"Lifex\",\"Lifex\",\"Lifex\",\"Lifex\",\"Lifex\",\"Lifex\",\"Lifex\",\"Lifex\",\"Lifex\",\"Lifex\",\"Lifex\",\"Lifex\",\"Lifex\",\"Lifex\",\"Lifex\",\"Lifex\",\"Lifex\",\"Lifex\",\"Lifex\",\"Lifex\",\"Lifex\",\"Lifex\",\"Lifex\",\"Lifex\",\"Lifex\",\"Lifex\",\"Lifex\",\"Lifex\",\"Lifex\",\"Lifex\",\"Lifex\",\"Lifex\",\"Lifex\",\"Lifex\",\"Lifex\",\"Lifex\",\"Lifex\",\"Lifex\",\"Lifex\",\"Lifex\",\"Lifex\",\"Lifex\",\"Lifex\",\"Lifex\",\"Lifex\",\"Lifex\",\"Lifex\",\"Lifex\",\"Lifex\",\"Lifex\",\"Lifex\",\"Lifex\",\"Lifex\",\"Lifex\",\"Lifex\",\"Lifex\",\"Lifex\",\"Lifex\",\"Lifex\",\"Lifex\",\"Lifex\",\"Lifex\"],\"x0\":\" \",\"xaxis\":\"x\",\"y\":[-0.37061117002250604,-0.5464041480003267,-0.8393924446300166,-0.13622053271876736,0.3325607418887433,-0.42920882934845733,-0.19481819204470202,-0.07762287339281604,0.2739630825628086,-0.31201351069657135,-1.0151854226078374,1.0943303131259439,-0.5464041480003267,0.2739630825628086,0.9185373351481232,0.2739630825628086,-0.42920882934845733,-0.13622053271876736,1.1529279724518786,0.0395724452590533,-1.1323807412597067,-0.07762287339281604,0.8599396758221886,0.21536542323687394,0.21536542323687394,0.09817010458498795,-2.128540949800646,-1.542564356541266,-1.1909784005856412,-2.0113456311487767,-2.187138609126597,0.15676776391092262,-0.19481819204470202,-0.956587763281886,-1.3081737192375273,-2.948908180363781,-1.249576059911576,1.0357326537999925,1.7389045657112585,0.39115840121467793,0.9771349944740579,1.2115256317778131,0.9185373351481232,0.5669513791924986,0.6841466978443679,0.3325607418887433,0.09817010458498795,0.8599396758221886,1.0357326537999925,1.2701232911037479,1.1529279724518786,0.15676776391092262,1.3287209504296826,0.4497560605406126,0.9771349944740579,0.508353719866564,0.15676776391092262,1.7975022250371933,0.15676776391092262,1.0357326537999925,-0.13622053271876736,1.5045139284075033,-0.956587763281886,-0.07762287339281604,-0.31201351069657135,0.2739630825628086,0.5669513791924986,-1.3081737192375273,-0.13622053271876736,0.7427443571703026,0.39115840121467793,0.7427443571703026],\"y0\":\" \",\"yaxis\":\"y\",\"type\":\"violin\"},{\"alignmentgroup\":\"True\",\"box\":{\"visible\":true},\"hovertemplate\":\"variable=%{x}<br>value=%{y}<extra></extra>\",\"legendgroup\":\"Divorce\",\"marker\":{\"color\":\"#FF97FF\"},\"name\":\"Divorce\",\"offsetgroup\":\"Divorce\",\"orientation\":\"v\",\"points\":\"all\",\"scalegroup\":\"True\",\"showlegend\":true,\"x\":[\"Divorce\",\"Divorce\",\"Divorce\",\"Divorce\",\"Divorce\",\"Divorce\",\"Divorce\",\"Divorce\",\"Divorce\",\"Divorce\",\"Divorce\",\"Divorce\",\"Divorce\",\"Divorce\",\"Divorce\",\"Divorce\",\"Divorce\",\"Divorce\",\"Divorce\",\"Divorce\",\"Divorce\",\"Divorce\",\"Divorce\",\"Divorce\",\"Divorce\",\"Divorce\",\"Divorce\",\"Divorce\",\"Divorce\",\"Divorce\",\"Divorce\",\"Divorce\",\"Divorce\",\"Divorce\",\"Divorce\",\"Divorce\",\"Divorce\",\"Divorce\",\"Divorce\",\"Divorce\",\"Divorce\",\"Divorce\",\"Divorce\",\"Divorce\",\"Divorce\",\"Divorce\",\"Divorce\",\"Divorce\",\"Divorce\",\"Divorce\",\"Divorce\",\"Divorce\",\"Divorce\",\"Divorce\",\"Divorce\",\"Divorce\",\"Divorce\",\"Divorce\",\"Divorce\",\"Divorce\",\"Divorce\",\"Divorce\",\"Divorce\",\"Divorce\",\"Divorce\",\"Divorce\",\"Divorce\",\"Divorce\",\"Divorce\",\"Divorce\",\"Divorce\",\"Divorce\"],\"x0\":\" \",\"xaxis\":\"x\",\"y\":[-0.9574809489760494,-0.22495034759640822,0.8201722829267459,-0.8766334905877431,0.4963768317070434,1.7243704871589494,0.2896348007224548,0.012798988029505656,-0.16686973393312102,0.2287366506625228,0.2768815783087148,-0.38878803373889176,-0.2625709180763609,-0.1762790680491384,-1.1611954857832119,-0.14464654964735063,-0.5715621117049232,0.10081622377995929,-0.44703807320359273,-0.8993533245996855,-0.1766943665820785,-0.6698550020983547,0.4726262194597349,-0.9577304493729198,0.2822811294507729,0.20067328687422853,0.8440654911455578,1.6993425218159721,1.0283532204554688,1.6429058469378506,-0.8623659147013465,-0.17569354584117397,-0.11474374676291522,1.0223317427922203,0.06921938628599214,0.43958708179921296,0.5708571203928596,-1.1289129344325475,0.9613397202425431,-0.9783103331724129,-1.2008196764715258,-1.1474316660172705,0.053401893040582446,-0.674517318025167,-1.086275579376836,-0.6463664540976889,0.2948427026234941,-0.09351576618783808,-0.7607474764648975,-0.039079903002972524,-0.5709604618117311,0.2252295918924845,-1.4902866369159506,-1.4110660853708243,-0.8555575315310769,-0.2230951106027981,-0.5071735518376056,-0.4356696615032584,-1.6329470021384078,-1.2124375992070464,-0.9355090097707758,-1.4193683645344009,1.0563448075338462,0.5666366243177696,0.6375171945116886,0.2313622186687043,-0.9891536163778706,2.1652620395327213,-0.42465204823326613,0.5821818298960192,-0.3257501355944901,2.9292166696208115],\"y0\":\" \",\"yaxis\":\"y\",\"type\":\"violin\"},{\"alignmentgroup\":\"True\",\"box\":{\"visible\":true},\"hovertemplate\":\"variable=%{x}<br>value=%{y}<extra></extra>\",\"legendgroup\":\"Abortion\",\"marker\":{\"color\":\"#FECB52\"},\"name\":\"Abortion\",\"offsetgroup\":\"Abortion\",\"orientation\":\"v\",\"points\":\"all\",\"scalegroup\":\"True\",\"showlegend\":true,\"x\":[\"Abortion\",\"Abortion\",\"Abortion\",\"Abortion\",\"Abortion\",\"Abortion\",\"Abortion\",\"Abortion\",\"Abortion\",\"Abortion\",\"Abortion\",\"Abortion\",\"Abortion\",\"Abortion\",\"Abortion\",\"Abortion\",\"Abortion\",\"Abortion\",\"Abortion\",\"Abortion\",\"Abortion\",\"Abortion\",\"Abortion\",\"Abortion\",\"Abortion\",\"Abortion\",\"Abortion\",\"Abortion\",\"Abortion\",\"Abortion\",\"Abortion\",\"Abortion\",\"Abortion\",\"Abortion\",\"Abortion\",\"Abortion\",\"Abortion\",\"Abortion\",\"Abortion\",\"Abortion\",\"Abortion\",\"Abortion\",\"Abortion\",\"Abortion\",\"Abortion\",\"Abortion\",\"Abortion\",\"Abortion\",\"Abortion\",\"Abortion\",\"Abortion\",\"Abortion\",\"Abortion\",\"Abortion\",\"Abortion\",\"Abortion\",\"Abortion\",\"Abortion\",\"Abortion\",\"Abortion\",\"Abortion\",\"Abortion\",\"Abortion\",\"Abortion\",\"Abortion\",\"Abortion\",\"Abortion\",\"Abortion\",\"Abortion\",\"Abortion\",\"Abortion\",\"Abortion\"],\"x0\":\" \",\"xaxis\":\"x\",\"y\":[0.05645884950841744,0.3654603469405228,1.2498439430393051,0.0031827292615028255,0.29087377859484204,1.0473946861010297,-0.9984083313804917,-0.9770978832817255,-0.13533518338047487,-0.6254754896520894,-0.44433668081257943,0.5252887076812667,1.430982751878815,-0.849235194689131,-1.3074098288125964,-0.2418874238743041,-0.3377844403187502,-0.9131665389854279,-0.7959590744422164,-0.7426829541953017,0.9088767734590513,0.2482528823973105,1.612121560718325,0.3015290026442251,0.20563198619977896,-0.3697501124668995,1.494914096175112,1.5695006645207927,1.2285334949405389,1.004773789903498,0.9408424456072004,1.4416379759281974,0.6424961722244782,0.06711407355780051,0.4933230355331174,2.8481275504467436,1.676052905014622,-0.6041650415533233,1.153946926594859,-0.31647399221998485,-1.104960571874321,-0.486957577010111,-1.3074098288125964,-1.4992038617014887,-0.7213725060965356,-0.486957577010111,0.09907974570594973,-0.8918560908866625,-1.0729948997261718,-0.15664563147924102,-1.456582965503957,-0.6361307137014726,-0.8812008668372794,-0.5402336972570256,-1.2115128123681502,-0.08205906313356025,-0.28450832007183563,-0.9025113149360455,-0.7639934022940671,-0.6148202656027064,0.4933230355331174,-1.3500307250101278,0.7810140848664566,-0.5721993694051748,-1.2328232604669156,-0.486957577010111,-0.20992175172615563,0.18432153810101282,-0.13533518338047487,-0.14599040742985794,-1.2221680364175334,0.3761155709899051],\"y0\":\" \",\"yaxis\":\"y\",\"type\":\"violin\"},{\"alignmentgroup\":\"True\",\"box\":{\"visible\":true},\"hovertemplate\":\"variable=%{x}<br>value=%{y}<extra></extra>\",\"legendgroup\":\"Pop\",\"marker\":{\"color\":\"#636efa\"},\"name\":\"Pop\",\"offsetgroup\":\"Pop\",\"orientation\":\"v\",\"points\":\"all\",\"scalegroup\":\"True\",\"showlegend\":true,\"x\":[\"Pop\",\"Pop\",\"Pop\",\"Pop\",\"Pop\",\"Pop\",\"Pop\",\"Pop\",\"Pop\",\"Pop\",\"Pop\",\"Pop\",\"Pop\",\"Pop\",\"Pop\",\"Pop\",\"Pop\",\"Pop\",\"Pop\",\"Pop\",\"Pop\",\"Pop\",\"Pop\",\"Pop\",\"Pop\",\"Pop\",\"Pop\",\"Pop\",\"Pop\",\"Pop\",\"Pop\",\"Pop\",\"Pop\",\"Pop\",\"Pop\",\"Pop\",\"Pop\",\"Pop\",\"Pop\",\"Pop\",\"Pop\",\"Pop\",\"Pop\",\"Pop\",\"Pop\",\"Pop\",\"Pop\",\"Pop\",\"Pop\",\"Pop\",\"Pop\",\"Pop\",\"Pop\",\"Pop\",\"Pop\",\"Pop\",\"Pop\",\"Pop\",\"Pop\",\"Pop\",\"Pop\",\"Pop\",\"Pop\",\"Pop\",\"Pop\",\"Pop\",\"Pop\",\"Pop\",\"Pop\",\"Pop\",\"Pop\",\"Pop\"],\"x0\":\" \",\"xaxis\":\"x\",\"y\":[0.72592284514121,1.3677716529021937,-0.3231203675434082,1.229739651233165,0.4981700423873128,0.5050716424707643,-0.13677716529021952,0.7742340457253701,0.9398724477282046,0.46366204197005556,1.8094740582430855,-0.66820037171598,0.12548363788093533,-0.01944996387154492,0.5464812429714725,0.26351563954996404,1.0019868484792673,0.5947924435556328,-0.3438251677937626,1.2435428514000677,-0.8545435739691687,0.8915612471440443,-2.269371591076713,0.8570532467267871,1.3401652525683876,0.553382843054924,-0.9718707753878431,0.553382843054924,-0.8131339734684601,-1.0753947766396146,-1.3928683804783808,-0.7579211728008487,-1.2410331786424493,0.4291540415527984,0.15309003821474096,-1.4687859813963464,-1.606817983065375,0.4705636420535071,-0.6889051719663344,0.6776116445570501,0.5947924435556328,-0.46115236921243696,-0.37833316821101975,0.5671860432218271,0.836348446476433,1.1538220503151992,-0.2955139672096023,0.19449963871544967,0.9674788480620102,-2.269371591076713,1.1055108497310389,0.4498588418031525,-0.6474955714656256,-0.47495556937933975,-0.25410436670889386,-0.08846596470605927,0.932970847644753,0.8915612471440443,0.15999163829819252,0.9950852483958158,1.5679180553222853,1.2849524519007762,-0.12297396512331646,-0.6751019717994313,-0.6060859709649169,-0.28171076704269954,-0.10226916487296234,-2.269371591076713,0.20140123879890073,-0.2679075668757967,-0.41284116862827697,0.07717243729677509],\"y0\":\" \",\"yaxis\":\"y\",\"type\":\"violin\"},{\"alignmentgroup\":\"True\",\"box\":{\"visible\":true},\"hovertemplate\":\"variable=%{x}<br>value=%{y}<extra></extra>\",\"legendgroup\":\"Crime\",\"marker\":{\"color\":\"#EF553B\"},\"name\":\"Crime\",\"offsetgroup\":\"Crime\",\"orientation\":\"v\",\"points\":\"all\",\"scalegroup\":\"True\",\"showlegend\":true,\"x\":[\"Crime\",\"Crime\",\"Crime\",\"Crime\",\"Crime\",\"Crime\",\"Crime\",\"Crime\",\"Crime\",\"Crime\",\"Crime\",\"Crime\",\"Crime\",\"Crime\",\"Crime\",\"Crime\",\"Crime\",\"Crime\",\"Crime\",\"Crime\",\"Crime\",\"Crime\",\"Crime\",\"Crime\",\"Crime\",\"Crime\",\"Crime\",\"Crime\",\"Crime\",\"Crime\",\"Crime\",\"Crime\",\"Crime\",\"Crime\",\"Crime\",\"Crime\",\"Crime\",\"Crime\",\"Crime\",\"Crime\",\"Crime\",\"Crime\",\"Crime\",\"Crime\",\"Crime\",\"Crime\",\"Crime\",\"Crime\",\"Crime\",\"Crime\",\"Crime\",\"Crime\",\"Crime\",\"Crime\",\"Crime\",\"Crime\",\"Crime\",\"Crime\",\"Crime\",\"Crime\",\"Crime\",\"Crime\",\"Crime\",\"Crime\",\"Crime\",\"Crime\",\"Crime\",\"Crime\",\"Crime\",\"Crime\",\"Crime\",\"Crime\"],\"x0\":\" \",\"xaxis\":\"x\",\"y\":[-0.07389382153551358,1.0454566381418573,0.5479496160696693,0.2942048327071255,0.3312494758035488,2.0681346915668284,1.8753226346135456,0.17928313333330748,2.1416364018930474,0.6721147441391064,0.5498496133940329,0.37717872110458917,-0.236760778453268,-0.6154661048776754,-1.0669084782700167,-0.3031008466553437,-0.448546062480999,-0.18264172837333356,-0.375534626807405,-0.7182777475580533,0.6050459253765061,-0.2378837801813785,0.9105059845488533,-0.6128602771533411,-0.6364963248391169,-0.2939633187203423,-0.03266644653994783,0.17648347843224998,1.0606091182393094,0.13054608581450805,0.3396491583319811,0.44391248774880115,0.4109594342782496,0.7935057144607243,-0.08455026054256236,1.3977833003745967,1.0425603783172999,-1.083422091447354,-0.5063991749595239,-0.7228187316879895,-0.5567544877446166,-0.6514150594971339,-0.2549063817158705,-0.5777396498144837,-0.4231323636081852,-0.7282984661582823,-0.45786022567774515,-0.8529502295062765,-1.2132731923625537,1.4617864238382536,-0.5604253240943007,-0.465184928987965,-0.8353896251176173,-0.9589201956571562,-0.9148283246047917,-0.7664732246311433,-0.577557874923877,-1.0227350838028664,-1.0441502519165233,-1.0588250408381594,-0.964396247683865,-1.0896259321487383,-0.6107410488163005,-0.4950797238292678,-0.6403526544142544,0.3413876090815671,-0.5812938108463965,1.7811305228040002,-0.17838518250269864,-1.0730040134961627,-0.6795829677537902,-0.5983162113898158],\"y0\":\" \",\"yaxis\":\"y\",\"type\":\"violin\"},{\"alignmentgroup\":\"True\",\"box\":{\"visible\":true},\"hovertemplate\":\"variable=%{x}<br>value=%{y}<extra></extra>\",\"legendgroup\":\"Grow.\",\"marker\":{\"color\":\"#00cc96\"},\"name\":\"Grow.\",\"offsetgroup\":\"Grow.\",\"orientation\":\"v\",\"points\":\"all\",\"scalegroup\":\"True\",\"showlegend\":true,\"x\":[\"Grow.\",\"Grow.\",\"Grow.\",\"Grow.\",\"Grow.\",\"Grow.\",\"Grow.\",\"Grow.\",\"Grow.\",\"Grow.\",\"Grow.\",\"Grow.\",\"Grow.\",\"Grow.\",\"Grow.\",\"Grow.\",\"Grow.\",\"Grow.\",\"Grow.\",\"Grow.\",\"Grow.\",\"Grow.\",\"Grow.\",\"Grow.\",\"Grow.\",\"Grow.\",\"Grow.\",\"Grow.\",\"Grow.\",\"Grow.\",\"Grow.\",\"Grow.\",\"Grow.\",\"Grow.\",\"Grow.\",\"Grow.\",\"Grow.\",\"Grow.\",\"Grow.\",\"Grow.\",\"Grow.\",\"Grow.\",\"Grow.\",\"Grow.\",\"Grow.\",\"Grow.\",\"Grow.\",\"Grow.\",\"Grow.\",\"Grow.\",\"Grow.\",\"Grow.\",\"Grow.\",\"Grow.\",\"Grow.\",\"Grow.\",\"Grow.\",\"Grow.\",\"Grow.\",\"Grow.\",\"Grow.\",\"Grow.\",\"Grow.\",\"Grow.\",\"Grow.\",\"Grow.\",\"Grow.\",\"Grow.\",\"Grow.\",\"Grow.\",\"Grow.\",\"Grow.\"],\"x0\":\" \",\"xaxis\":\"x\",\"y\":[-1.3941936939005566,-0.19120631561529794,0.48731802053871387,-1.4245050016157605,-1.1663190917573651,0.357270971035522,0.29040800943336326,-0.2835139353300255,1.243002047463386,-0.7312157606928628,-1.5107016392538792,1.7404504540732295,1.9094301736859658,0.24842658214225236,-0.8892568269808943,-1.4628614736848031,0.3788022724293407,-1.7691235147463318,-0.4868603387228673,-0.3007894715826388,0.16547194188605838,-1.2106936371631312,-2.057152605394556,-0.04884749809562562,0.36412792802662564,-0.6252314948136503,1.3551325777215393,1.5229119506597095,2.165382219979274,0.0644221438302054,0.6667991197136955,0.08029166984603292,0.05671431865464493,0.19520264056426148,-0.355615544919651,0.9434143260262189,0.07809492725443991,-0.37742315952527256,-0.4726233735383114,-0.38670686252619274,-1.2058311882125607,0.4236038975465305,-0.5557504639138059,0.08380158423832651,-0.19445679084177922,-0.09750484425246364,-0.08218351948958945,0.9251140767331659,-0.015536142449797322,-0.9281873635968874,1.1313074177757225,0.7270503836676269,-0.2764119055279028,-0.15160332995357545,0.10984668102832751,0.32183607997520375,-1.2069917508737147,0.21571131195120583,0.035355013183559166,0.11772701528766616,0.2792433894892878,0.364405961980636,0.6587406259861173,0.15630694458398375,0.9176325107314999,0.5067864060264987,0.23129768430886008,-1.2591752058465357,-0.89056330404552,0.33918460801448697,0.48225518818150126,0.06265993825555696],\"y0\":\" \",\"yaxis\":\"y\",\"type\":\"violin\"},{\"alignmentgroup\":\"True\",\"box\":{\"visible\":true},\"hovertemplate\":\"variable=%{x}<br>value=%{y}<extra></extra>\",\"legendgroup\":\"Migr\",\"marker\":{\"color\":\"#ab63fa\"},\"name\":\"Migr\",\"offsetgroup\":\"Migr\",\"orientation\":\"v\",\"points\":\"all\",\"scalegroup\":\"True\",\"showlegend\":true,\"x\":[\"Migr\",\"Migr\",\"Migr\",\"Migr\",\"Migr\",\"Migr\",\"Migr\",\"Migr\",\"Migr\",\"Migr\",\"Migr\",\"Migr\",\"Migr\",\"Migr\",\"Migr\",\"Migr\",\"Migr\",\"Migr\",\"Migr\",\"Migr\",\"Migr\",\"Migr\",\"Migr\",\"Migr\",\"Migr\",\"Migr\",\"Migr\",\"Migr\",\"Migr\",\"Migr\",\"Migr\",\"Migr\",\"Migr\",\"Migr\",\"Migr\",\"Migr\",\"Migr\",\"Migr\",\"Migr\",\"Migr\",\"Migr\",\"Migr\",\"Migr\",\"Migr\",\"Migr\",\"Migr\",\"Migr\",\"Migr\",\"Migr\",\"Migr\",\"Migr\",\"Migr\",\"Migr\",\"Migr\",\"Migr\",\"Migr\",\"Migr\",\"Migr\",\"Migr\",\"Migr\",\"Migr\",\"Migr\",\"Migr\",\"Migr\",\"Migr\",\"Migr\",\"Migr\",\"Migr\",\"Migr\",\"Migr\",\"Migr\",\"Migr\"],\"x0\":\" \",\"xaxis\":\"x\",\"y\":[-0.13431304781122005,1.1441043819491137,1.1042060612377766,0.19812383723020122,-0.32120510903620614,0.481396780576252,0.6428490733182388,1.515450164499146,2.489200971393834,-0.4737350905418403,-0.12302110884922522,1.269700512683626,-0.09316857051440938,-0.09493901053591501,-0.5545150707470629,-0.8105907718330426,-0.44187472794923627,-0.8779860041656629,-0.202399787953259,-0.028564339037743833,-0.08894784501199304,-0.10990788360208942,-1.3438622143497319,1.260166568781267,0.8368337669139584,0.8084289297912757,-0.8078959989815728,-0.13045742077324257,0.502515157311779,-0.398512480014028,-0.6542393837811917,0.10991997217456013,-0.23618419462774629,0.6369374412258854,-0.23976174791967697,1.4968391500158886,-0.6581744100887053,-0.3374832407104932,-0.6549372086729784,-0.2521390439644266,-0.2903039080812095,0.05908966464770257,-0.3019131448368142,0.032590960402221605,0.3300385238218105,-0.6949205886862653,-0.16622865764079917,0.019309647328618014,-0.0707668164028608,-0.13074274786917492,1.2345714744918064,0.21363649997458628,-0.5448779149037482,-0.32778944045303665,-0.40085916431208607,0.623053046882492,-0.00537834535192506,-0.47711269309792537,0.20969648215145328,0.49186984150588364,-0.23569176492762006,-0.9798341043530412,-1.1739750399557691,-0.21858553473461612,-0.06297175176387369,0.466758384143342,-0.6077730569363463,-1.4454694225943536,-0.9814194409036316,-0.7470158452299618,-0.276953384599094,-0.959074775603624],\"y0\":\" \",\"yaxis\":\"y\",\"type\":\"violin\"},{\"alignmentgroup\":\"True\",\"box\":{\"visible\":true},\"hovertemplate\":\"variable=%{x}<br>value=%{y}<extra></extra>\",\"legendgroup\":\"Pop65\",\"marker\":{\"color\":\"#FFA15A\"},\"name\":\"Pop65\",\"offsetgroup\":\"Pop65\",\"orientation\":\"v\",\"points\":\"all\",\"scalegroup\":\"True\",\"showlegend\":true,\"x\":[\"Pop65\",\"Pop65\",\"Pop65\",\"Pop65\",\"Pop65\",\"Pop65\",\"Pop65\",\"Pop65\",\"Pop65\",\"Pop65\",\"Pop65\",\"Pop65\",\"Pop65\",\"Pop65\",\"Pop65\",\"Pop65\",\"Pop65\",\"Pop65\",\"Pop65\",\"Pop65\",\"Pop65\",\"Pop65\",\"Pop65\",\"Pop65\",\"Pop65\",\"Pop65\",\"Pop65\",\"Pop65\",\"Pop65\",\"Pop65\",\"Pop65\",\"Pop65\",\"Pop65\",\"Pop65\",\"Pop65\",\"Pop65\",\"Pop65\",\"Pop65\",\"Pop65\",\"Pop65\",\"Pop65\",\"Pop65\",\"Pop65\",\"Pop65\",\"Pop65\",\"Pop65\",\"Pop65\",\"Pop65\",\"Pop65\",\"Pop65\",\"Pop65\",\"Pop65\",\"Pop65\",\"Pop65\",\"Pop65\",\"Pop65\",\"Pop65\",\"Pop65\",\"Pop65\",\"Pop65\",\"Pop65\",\"Pop65\",\"Pop65\",\"Pop65\",\"Pop65\",\"Pop65\",\"Pop65\",\"Pop65\",\"Pop65\",\"Pop65\",\"Pop65\",\"Pop65\"],\"x0\":\" \",\"xaxis\":\"x\",\"y\":[0.9390927249251051,0.7090156648422475,0.3191141622881841,1.3548304113463676,0.8746801558304376,-0.07333706966446142,0.04120778121155659,1.351328738496714,0.8135006316899275,0.1625117641571853,0.5957371620611727,-0.2525062691966158,-2.233516914367729,0.20507221689895525,0.9112302279682505,1.110705851135724,-1.0432805769417937,0.49571177313726195,0.8998705681729009,-0.13145636494739021,-0.2131772290598362,1.080711577138698,0.9065147970555062,1.1829988342342057,0.12001511497632662,1.3887450912401913,-2.78072622409948,-2.313880160775297,-2.2209087913465697,-0.8501770771479853,-2.2198464159257765,-0.16360895940147574,-0.19846323367006466,-0.04213975433148367,-0.3745326021344163,-0.9333280920456807,-0.9340267374890825,0.4583848447394456,1.125871155584272,0.6517901871857108,1.4427983466919618,0.5748990184276859,0.8339918656396115,0.42057608945060476,1.1303308044797449,-0.2173029560931384,-0.10695437812311058,-0.1647396805721662,0.3537999497340757,1.3771465406928614,0.8227130426138717,-0.6820573910694837,0.3397039049615024,-0.14670633863750426,0.11422886301014573,0.22322507518130985,1.008732005080247,0.04879025600657378,0.18899897145513717,0.5735666666490409,-0.17631672669351534,-0.6121780136434116,-1.8125287413655182,-0.37523103466270935,-1.34110303728776,0.15781457297208787,-0.6644994885725857,-0.6986959261269439,-0.02938287462103316,-0.46827827284184276,-0.6704964555246933,-1.3305909215685068],\"y0\":\" \",\"yaxis\":\"y\",\"type\":\"violin\"}],                        {\"template\":{\"data\":{\"histogram2dcontour\":[{\"type\":\"histogram2dcontour\",\"colorbar\":{\"outlinewidth\":0,\"ticks\":\"\"},\"colorscale\":[[0.0,\"#0d0887\"],[0.1111111111111111,\"#46039f\"],[0.2222222222222222,\"#7201a8\"],[0.3333333333333333,\"#9c179e\"],[0.4444444444444444,\"#bd3786\"],[0.5555555555555556,\"#d8576b\"],[0.6666666666666666,\"#ed7953\"],[0.7777777777777778,\"#fb9f3a\"],[0.8888888888888888,\"#fdca26\"],[1.0,\"#f0f921\"]]}],\"choropleth\":[{\"type\":\"choropleth\",\"colorbar\":{\"outlinewidth\":0,\"ticks\":\"\"}}],\"histogram2d\":[{\"type\":\"histogram2d\",\"colorbar\":{\"outlinewidth\":0,\"ticks\":\"\"},\"colorscale\":[[0.0,\"#0d0887\"],[0.1111111111111111,\"#46039f\"],[0.2222222222222222,\"#7201a8\"],[0.3333333333333333,\"#9c179e\"],[0.4444444444444444,\"#bd3786\"],[0.5555555555555556,\"#d8576b\"],[0.6666666666666666,\"#ed7953\"],[0.7777777777777778,\"#fb9f3a\"],[0.8888888888888888,\"#fdca26\"],[1.0,\"#f0f921\"]]}],\"heatmap\":[{\"type\":\"heatmap\",\"colorbar\":{\"outlinewidth\":0,\"ticks\":\"\"},\"colorscale\":[[0.0,\"#0d0887\"],[0.1111111111111111,\"#46039f\"],[0.2222222222222222,\"#7201a8\"],[0.3333333333333333,\"#9c179e\"],[0.4444444444444444,\"#bd3786\"],[0.5555555555555556,\"#d8576b\"],[0.6666666666666666,\"#ed7953\"],[0.7777777777777778,\"#fb9f3a\"],[0.8888888888888888,\"#fdca26\"],[1.0,\"#f0f921\"]]}],\"heatmapgl\":[{\"type\":\"heatmapgl\",\"colorbar\":{\"outlinewidth\":0,\"ticks\":\"\"},\"colorscale\":[[0.0,\"#0d0887\"],[0.1111111111111111,\"#46039f\"],[0.2222222222222222,\"#7201a8\"],[0.3333333333333333,\"#9c179e\"],[0.4444444444444444,\"#bd3786\"],[0.5555555555555556,\"#d8576b\"],[0.6666666666666666,\"#ed7953\"],[0.7777777777777778,\"#fb9f3a\"],[0.8888888888888888,\"#fdca26\"],[1.0,\"#f0f921\"]]}],\"contourcarpet\":[{\"type\":\"contourcarpet\",\"colorbar\":{\"outlinewidth\":0,\"ticks\":\"\"}}],\"contour\":[{\"type\":\"contour\",\"colorbar\":{\"outlinewidth\":0,\"ticks\":\"\"},\"colorscale\":[[0.0,\"#0d0887\"],[0.1111111111111111,\"#46039f\"],[0.2222222222222222,\"#7201a8\"],[0.3333333333333333,\"#9c179e\"],[0.4444444444444444,\"#bd3786\"],[0.5555555555555556,\"#d8576b\"],[0.6666666666666666,\"#ed7953\"],[0.7777777777777778,\"#fb9f3a\"],[0.8888888888888888,\"#fdca26\"],[1.0,\"#f0f921\"]]}],\"surface\":[{\"type\":\"surface\",\"colorbar\":{\"outlinewidth\":0,\"ticks\":\"\"},\"colorscale\":[[0.0,\"#0d0887\"],[0.1111111111111111,\"#46039f\"],[0.2222222222222222,\"#7201a8\"],[0.3333333333333333,\"#9c179e\"],[0.4444444444444444,\"#bd3786\"],[0.5555555555555556,\"#d8576b\"],[0.6666666666666666,\"#ed7953\"],[0.7777777777777778,\"#fb9f3a\"],[0.8888888888888888,\"#fdca26\"],[1.0,\"#f0f921\"]]}],\"mesh3d\":[{\"type\":\"mesh3d\",\"colorbar\":{\"outlinewidth\":0,\"ticks\":\"\"}}],\"scatter\":[{\"marker\":{\"line\":{\"color\":\"#283442\"}},\"type\":\"scatter\"}],\"parcoords\":[{\"type\":\"parcoords\",\"line\":{\"colorbar\":{\"outlinewidth\":0,\"ticks\":\"\"}}}],\"scatterpolargl\":[{\"type\":\"scatterpolargl\",\"marker\":{\"colorbar\":{\"outlinewidth\":0,\"ticks\":\"\"}}}],\"bar\":[{\"error_x\":{\"color\":\"#f2f5fa\"},\"error_y\":{\"color\":\"#f2f5fa\"},\"marker\":{\"line\":{\"color\":\"rgb(17,17,17)\",\"width\":0.5},\"pattern\":{\"fillmode\":\"overlay\",\"size\":10,\"solidity\":0.2}},\"type\":\"bar\"}],\"scattergeo\":[{\"type\":\"scattergeo\",\"marker\":{\"colorbar\":{\"outlinewidth\":0,\"ticks\":\"\"}}}],\"scatterpolar\":[{\"type\":\"scatterpolar\",\"marker\":{\"colorbar\":{\"outlinewidth\":0,\"ticks\":\"\"}}}],\"histogram\":[{\"marker\":{\"pattern\":{\"fillmode\":\"overlay\",\"size\":10,\"solidity\":0.2}},\"type\":\"histogram\"}],\"scattergl\":[{\"marker\":{\"line\":{\"color\":\"#283442\"}},\"type\":\"scattergl\"}],\"scatter3d\":[{\"type\":\"scatter3d\",\"line\":{\"colorbar\":{\"outlinewidth\":0,\"ticks\":\"\"}},\"marker\":{\"colorbar\":{\"outlinewidth\":0,\"ticks\":\"\"}}}],\"scattermapbox\":[{\"type\":\"scattermapbox\",\"marker\":{\"colorbar\":{\"outlinewidth\":0,\"ticks\":\"\"}}}],\"scatterternary\":[{\"type\":\"scatterternary\",\"marker\":{\"colorbar\":{\"outlinewidth\":0,\"ticks\":\"\"}}}],\"scattercarpet\":[{\"type\":\"scattercarpet\",\"marker\":{\"colorbar\":{\"outlinewidth\":0,\"ticks\":\"\"}}}],\"carpet\":[{\"aaxis\":{\"endlinecolor\":\"#A2B1C6\",\"gridcolor\":\"#506784\",\"linecolor\":\"#506784\",\"minorgridcolor\":\"#506784\",\"startlinecolor\":\"#A2B1C6\"},\"baxis\":{\"endlinecolor\":\"#A2B1C6\",\"gridcolor\":\"#506784\",\"linecolor\":\"#506784\",\"minorgridcolor\":\"#506784\",\"startlinecolor\":\"#A2B1C6\"},\"type\":\"carpet\"}],\"table\":[{\"cells\":{\"fill\":{\"color\":\"#506784\"},\"line\":{\"color\":\"rgb(17,17,17)\"}},\"header\":{\"fill\":{\"color\":\"#2a3f5f\"},\"line\":{\"color\":\"rgb(17,17,17)\"}},\"type\":\"table\"}],\"barpolar\":[{\"marker\":{\"line\":{\"color\":\"rgb(17,17,17)\",\"width\":0.5},\"pattern\":{\"fillmode\":\"overlay\",\"size\":10,\"solidity\":0.2}},\"type\":\"barpolar\"}],\"pie\":[{\"automargin\":true,\"type\":\"pie\"}]},\"layout\":{\"autotypenumbers\":\"strict\",\"colorway\":[\"#636efa\",\"#EF553B\",\"#00cc96\",\"#ab63fa\",\"#FFA15A\",\"#19d3f3\",\"#FF6692\",\"#B6E880\",\"#FF97FF\",\"#FECB52\"],\"font\":{\"color\":\"#f2f5fa\"},\"hovermode\":\"closest\",\"hoverlabel\":{\"align\":\"left\"},\"paper_bgcolor\":\"rgb(17,17,17)\",\"plot_bgcolor\":\"rgb(17,17,17)\",\"polar\":{\"bgcolor\":\"rgb(17,17,17)\",\"angularaxis\":{\"gridcolor\":\"#506784\",\"linecolor\":\"#506784\",\"ticks\":\"\"},\"radialaxis\":{\"gridcolor\":\"#506784\",\"linecolor\":\"#506784\",\"ticks\":\"\"}},\"ternary\":{\"bgcolor\":\"rgb(17,17,17)\",\"aaxis\":{\"gridcolor\":\"#506784\",\"linecolor\":\"#506784\",\"ticks\":\"\"},\"baxis\":{\"gridcolor\":\"#506784\",\"linecolor\":\"#506784\",\"ticks\":\"\"},\"caxis\":{\"gridcolor\":\"#506784\",\"linecolor\":\"#506784\",\"ticks\":\"\"}},\"coloraxis\":{\"colorbar\":{\"outlinewidth\":0,\"ticks\":\"\"}},\"colorscale\":{\"sequential\":[[0.0,\"#0d0887\"],[0.1111111111111111,\"#46039f\"],[0.2222222222222222,\"#7201a8\"],[0.3333333333333333,\"#9c179e\"],[0.4444444444444444,\"#bd3786\"],[0.5555555555555556,\"#d8576b\"],[0.6666666666666666,\"#ed7953\"],[0.7777777777777778,\"#fb9f3a\"],[0.8888888888888888,\"#fdca26\"],[1.0,\"#f0f921\"]],\"sequentialminus\":[[0.0,\"#0d0887\"],[0.1111111111111111,\"#46039f\"],[0.2222222222222222,\"#7201a8\"],[0.3333333333333333,\"#9c179e\"],[0.4444444444444444,\"#bd3786\"],[0.5555555555555556,\"#d8576b\"],[0.6666666666666666,\"#ed7953\"],[0.7777777777777778,\"#fb9f3a\"],[0.8888888888888888,\"#fdca26\"],[1.0,\"#f0f921\"]],\"diverging\":[[0,\"#8e0152\"],[0.1,\"#c51b7d\"],[0.2,\"#de77ae\"],[0.3,\"#f1b6da\"],[0.4,\"#fde0ef\"],[0.5,\"#f7f7f7\"],[0.6,\"#e6f5d0\"],[0.7,\"#b8e186\"],[0.8,\"#7fbc41\"],[0.9,\"#4d9221\"],[1,\"#276419\"]]},\"xaxis\":{\"gridcolor\":\"#283442\",\"linecolor\":\"#506784\",\"ticks\":\"\",\"title\":{\"standoff\":15},\"zerolinecolor\":\"#283442\",\"automargin\":true,\"zerolinewidth\":2},\"yaxis\":{\"gridcolor\":\"#283442\",\"linecolor\":\"#506784\",\"ticks\":\"\",\"title\":{\"standoff\":15},\"zerolinecolor\":\"#283442\",\"automargin\":true,\"zerolinewidth\":2},\"scene\":{\"xaxis\":{\"backgroundcolor\":\"rgb(17,17,17)\",\"gridcolor\":\"#506784\",\"linecolor\":\"#506784\",\"showbackground\":true,\"ticks\":\"\",\"zerolinecolor\":\"#C8D4E3\",\"gridwidth\":2},\"yaxis\":{\"backgroundcolor\":\"rgb(17,17,17)\",\"gridcolor\":\"#506784\",\"linecolor\":\"#506784\",\"showbackground\":true,\"ticks\":\"\",\"zerolinecolor\":\"#C8D4E3\",\"gridwidth\":2},\"zaxis\":{\"backgroundcolor\":\"rgb(17,17,17)\",\"gridcolor\":\"#506784\",\"linecolor\":\"#506784\",\"showbackground\":true,\"ticks\":\"\",\"zerolinecolor\":\"#C8D4E3\",\"gridwidth\":2}},\"shapedefaults\":{\"line\":{\"color\":\"#f2f5fa\"}},\"annotationdefaults\":{\"arrowcolor\":\"#f2f5fa\",\"arrowhead\":0,\"arrowwidth\":1},\"geo\":{\"bgcolor\":\"rgb(17,17,17)\",\"landcolor\":\"rgb(17,17,17)\",\"subunitcolor\":\"#506784\",\"showland\":true,\"showlakes\":true,\"lakecolor\":\"rgb(17,17,17)\"},\"title\":{\"x\":0.05},\"updatemenudefaults\":{\"bgcolor\":\"#506784\",\"borderwidth\":0},\"sliderdefaults\":{\"bgcolor\":\"#C8D4E3\",\"borderwidth\":1,\"bordercolor\":\"rgb(17,17,17)\",\"tickwidth\":0},\"mapbox\":{\"style\":\"dark\"}}},\"xaxis\":{\"anchor\":\"y\",\"domain\":[0.0,1.0],\"title\":{\"text\":\"variable\"},\"categoryorder\":\"array\",\"categoryarray\":[\"Earning99\",\"Unempl\",\"Unempl2\",\"Unempl3\",\"BuyingPower\",\"X.Progre\",\"Enterpr\",\"Lifex\",\"Divorce\",\"Abortion\",\"Pop\",\"Crime\",\"Grow.\",\"Migr\",\"Pop65\"]},\"yaxis\":{\"anchor\":\"x\",\"domain\":[0.0,1.0],\"title\":{\"text\":\"value\"}},\"legend\":{\"title\":{\"text\":\"variable\"},\"tracegroupgap\":0},\"margin\":{\"t\":60},\"violinmode\":\"overlay\"},                        {\"responsive\": true}                    ).then(function(){\n                            \nvar gd = document.getElementById('27fd1897-f322-47a2-b197-6f3e307981dc');\nvar x = new MutationObserver(function (mutations, observer) {{\n        var display = window.getComputedStyle(gd).display;\n        if (!display || display === 'none') {{\n            console.log([gd, 'removed!']);\n            Plotly.purge(gd);\n            observer.disconnect();\n        }}\n}});\n\n// Listen for the removal of the full notebook cells\nvar notebookContainer = gd.closest('#notebook-container');\nif (notebookContainer) {{\n    x.observe(notebookContainer, {childList: true});\n}}\n\n// Listen for the clearing of the current output cell\nvar outputEl = gd.closest('.output');\nif (outputEl) {{\n    x.observe(outputEl, {childList: true});\n}}\n\n                        })                };                });            </script>        </div>"
     },
     "metadata": {},
     "output_type": "display_data"
    }
   ],
   "source": [
    "px.violin(data_ss.reset_index().melt(id_vars='index'), x='variable', y='value', color='variable', points='all', box=True)"
   ],
   "metadata": {
    "collapsed": false,
    "pycharm": {
     "name": "#%%\n"
    }
   }
  },
  {
   "cell_type": "markdown",
   "source": [
    "## III. Canonnical Analysis"
   ],
   "metadata": {
    "collapsed": false,
    "pycharm": {
     "name": "#%% md\n"
    }
   }
  },
  {
   "cell_type": "code",
   "execution_count": 96,
   "outputs": [],
   "source": [
    "ca = CCA(3)\n",
    "ca.fit(data_ss[demo_cols], data_ss[econ_cols])\n",
    "\n",
    "demo_ca_data, econ_ca_data = ca.transform(data[demo_cols], data[econ_cols])"
   ],
   "metadata": {
    "collapsed": false,
    "pycharm": {
     "name": "#%%\n"
    }
   }
  },
  {
   "cell_type": "code",
   "execution_count": 97,
   "outputs": [
    {
     "name": "stdout",
     "output_type": "stream",
     "text": [
      "Earning99: correlation with 2nd cc is 0.99966480669391\n",
      "Unempl: correlation with 2nd cc is -0.10772365852468839\n",
      "Unempl2: correlation with 2nd cc is -0.027671699351285037\n",
      "Unempl3: correlation with 2nd cc is 0.025264209474735788\n",
      "BuyingPower: correlation with 2nd cc is 0.6405648612365543\n",
      "X.Progre: correlation with 2nd cc is 0.5915765124944979\n",
      "Enterpr: correlation with 2nd cc is 0.2512229288733904\n"
     ]
    }
   ],
   "source": [
    "for col in econ_cols:\n",
    "    print(f\"{col}: correlation with 2nd cc is {stats.spearmanr(data[col], econ_ca_data[:,1])[0]}\")"
   ],
   "metadata": {
    "collapsed": false,
    "pycharm": {
     "name": "#%%\n"
    }
   }
  },
  {
   "cell_type": "code",
   "execution_count": 98,
   "outputs": [
    {
     "name": "stdout",
     "output_type": "stream",
     "text": [
      "Earning99: correlation with 1st cc is 0.9995137002333848\n",
      "Unempl: correlation with 1st cc is 0.009964535750057945\n",
      "Unempl2: correlation with 1st cc is 0.0004613935988418339\n",
      "Unempl3: correlation with 1st cc is 0.0010320650317772306\n",
      "BuyingPower: correlation with 1st cc is 0.4091768106495559\n",
      "X.Progre: correlation with 1st cc is 0.3531427455636806\n",
      "Enterpr: correlation with 1st cc is 0.05984627538235315\n",
      "1.8331375262096514\n"
     ]
    }
   ],
   "source": [
    "sum = 0\n",
    "for col in econ_cols:\n",
    "    print(f\"{col}: correlation with 1st cc is {(stats.spearmanr(data[col], econ_ca_data[:,0])[0]**2)}\")\n",
    "    sum += (stats.spearmanr(data[col], econ_ca_data[:,0])[0]**2)\n",
    "\n",
    "print(sum)"
   ],
   "metadata": {
    "collapsed": false,
    "pycharm": {
     "name": "#%%\n"
    }
   }
  },
  {
   "cell_type": "code",
   "execution_count": 99,
   "outputs": [
    {
     "name": "stdout",
     "output_type": "stream",
     "text": [
      "Lifex: correlation with 1st cc is 0.21856891510875817\n",
      "Divorce: correlation with 1st cc is 0.3825909341557127\n",
      "Abortion: correlation with 1st cc is 0.33659749921077053\n",
      "Pop: correlation with 1st cc is 0.4533223720488501\n",
      "Crime: correlation with 1st cc is 0.8048407774547284\n",
      "Grow.: correlation with 1st cc is 0.00010404665029818267\n",
      "Migr: correlation with 1st cc is 0.0003918813578682794\n",
      "Pop65: correlation with 1st cc is 0.02733555156132578\n",
      "2.9318956410372286\n"
     ]
    }
   ],
   "source": [
    "ca.sum = 0\n",
    "for col in demo_cols:\n",
    "    print(f\"{col}: correlation with 1st cc is {(stats.spearmanr(data[col], demo_ca_data[:,0])[0]**2)}\")\n",
    "    sum += (stats.spearmanr(data[col], econ_ca_data[:,0])[0]**2)\n",
    "\n",
    "print(sum)"
   ],
   "metadata": {
    "collapsed": false,
    "pycharm": {
     "name": "#%%\n"
    }
   }
  },
  {
   "cell_type": "code",
   "execution_count": 100,
   "outputs": [
    {
     "data": {
      "text/plain": "          0         1         2         3         4         5         6\n0  0.456786 -0.517786 -0.312351 -0.412871 -0.079972 -0.074367  0.299883\n1 -0.096869  0.298009  0.211318  0.216441 -0.060476  0.026413 -0.153894\n2 -0.182281 -0.186463 -0.184941 -0.091624  0.289762  0.075019  0.096872\n3 -0.223676 -0.128468 -0.112972 -0.115120 -0.221495 -0.278926 -0.085022\n4  0.707787 -0.259445 -0.108664 -0.183850  0.284033  0.359279  0.387728\n5 -0.217776 -0.350623 -0.317068 -0.201778  0.363083  0.057295  0.166697\n6  0.252792  0.026305  0.065665 -0.009088 -0.134307  0.003723  0.027097\n7 -0.515376 -0.617359 -0.593166 -0.319293  0.867646  0.214942  0.320431",
      "text/html": "<div>\n<style scoped>\n    .dataframe tbody tr th:only-of-type {\n        vertical-align: middle;\n    }\n\n    .dataframe tbody tr th {\n        vertical-align: top;\n    }\n\n    .dataframe thead th {\n        text-align: right;\n    }\n</style>\n<table border=\"1\" class=\"dataframe\">\n  <thead>\n    <tr style=\"text-align: right;\">\n      <th></th>\n      <th>0</th>\n      <th>1</th>\n      <th>2</th>\n      <th>3</th>\n      <th>4</th>\n      <th>5</th>\n      <th>6</th>\n    </tr>\n  </thead>\n  <tbody>\n    <tr>\n      <th>0</th>\n      <td>0.456786</td>\n      <td>-0.517786</td>\n      <td>-0.312351</td>\n      <td>-0.412871</td>\n      <td>-0.079972</td>\n      <td>-0.074367</td>\n      <td>0.299883</td>\n    </tr>\n    <tr>\n      <th>1</th>\n      <td>-0.096869</td>\n      <td>0.298009</td>\n      <td>0.211318</td>\n      <td>0.216441</td>\n      <td>-0.060476</td>\n      <td>0.026413</td>\n      <td>-0.153894</td>\n    </tr>\n    <tr>\n      <th>2</th>\n      <td>-0.182281</td>\n      <td>-0.186463</td>\n      <td>-0.184941</td>\n      <td>-0.091624</td>\n      <td>0.289762</td>\n      <td>0.075019</td>\n      <td>0.096872</td>\n    </tr>\n    <tr>\n      <th>3</th>\n      <td>-0.223676</td>\n      <td>-0.128468</td>\n      <td>-0.112972</td>\n      <td>-0.115120</td>\n      <td>-0.221495</td>\n      <td>-0.278926</td>\n      <td>-0.085022</td>\n    </tr>\n    <tr>\n      <th>4</th>\n      <td>0.707787</td>\n      <td>-0.259445</td>\n      <td>-0.108664</td>\n      <td>-0.183850</td>\n      <td>0.284033</td>\n      <td>0.359279</td>\n      <td>0.387728</td>\n    </tr>\n    <tr>\n      <th>5</th>\n      <td>-0.217776</td>\n      <td>-0.350623</td>\n      <td>-0.317068</td>\n      <td>-0.201778</td>\n      <td>0.363083</td>\n      <td>0.057295</td>\n      <td>0.166697</td>\n    </tr>\n    <tr>\n      <th>6</th>\n      <td>0.252792</td>\n      <td>0.026305</td>\n      <td>0.065665</td>\n      <td>-0.009088</td>\n      <td>-0.134307</td>\n      <td>0.003723</td>\n      <td>0.027097</td>\n    </tr>\n    <tr>\n      <th>7</th>\n      <td>-0.515376</td>\n      <td>-0.617359</td>\n      <td>-0.593166</td>\n      <td>-0.319293</td>\n      <td>0.867646</td>\n      <td>0.214942</td>\n      <td>0.320431</td>\n    </tr>\n  </tbody>\n</table>\n</div>"
     },
     "execution_count": 100,
     "metadata": {},
     "output_type": "execute_result"
    }
   ],
   "source": [
    "pd.DataFrame(ca.coef_)"
   ],
   "metadata": {
    "collapsed": false,
    "pycharm": {
     "name": "#%%\n"
    }
   }
  },
  {
   "cell_type": "code",
   "execution_count": 112,
   "outputs": [
    {
     "data": {
      "text/plain": "array([[ 0.07472672,  0.66213204,  0.49740571],\n       [-0.02413034, -0.21101232, -0.30656866],\n       [ 0.09606253, -0.20175284,  0.17723841],\n       [-0.49179212,  0.18846853,  0.3570059 ],\n       [ 0.80506375,  0.26420964, -0.10000459],\n       [ 0.08005889, -0.16151443,  0.36479502],\n       [ 0.07127245,  0.2148902 , -0.07680523],\n       [ 0.28832154, -0.54658844,  0.59225094]])"
     },
     "execution_count": 112,
     "metadata": {},
     "output_type": "execute_result"
    }
   ],
   "source": [
    "ca.x_weights_"
   ],
   "metadata": {
    "collapsed": false,
    "pycharm": {
     "name": "#%%\n"
    }
   }
  },
  {
   "cell_type": "code",
   "execution_count": 113,
   "outputs": [
    {
     "data": {
      "text/plain": "array([[ 0.56126284,  0.56484861, -0.50045383],\n       [ 0.13605297, -0.59542489, -0.71472317],\n       [ 0.14561453,  0.16581723,  0.08743188],\n       [-0.02766951,  0.10847525,  0.05408067],\n       [ 0.72648532, -0.39191171,  0.37583272],\n       [ 0.32837292,  0.1759157 ,  0.23452174],\n       [-0.09431183,  0.32033092, -0.17859737]])"
     },
     "execution_count": 113,
     "metadata": {},
     "output_type": "execute_result"
    }
   ],
   "source": [
    "ca.y_weights_"
   ],
   "metadata": {
    "collapsed": false,
    "pycharm": {
     "name": "#%%\n"
    }
   }
  },
  {
   "cell_type": "code",
   "execution_count": 88,
   "outputs": [
    {
     "data": {
      "text/plain": "-0.8136920511431025"
     },
     "execution_count": 88,
     "metadata": {},
     "output_type": "execute_result"
    }
   ],
   "source": [
    "np.sum(ca.y_weights_[:,:])"
   ],
   "metadata": {
    "collapsed": false,
    "pycharm": {
     "name": "#%%\n"
    }
   }
  },
  {
   "cell_type": "code",
   "execution_count": 95,
   "outputs": [
    {
     "name": "stderr",
     "output_type": "stream",
     "text": [
      "C:\\Users\\A200083283\\Anaconda3\\lib\\site-packages\\sklearn\\cross_decomposition\\_pls.py:526: FutureWarning:\n",
      "\n",
      "Attribute `x_scores_` was deprecated in version 0.24 and will be removed in 1.1 (renaming of 0.26). Use est.transform(X) on the training data instead.\n",
      "\n"
     ]
    },
    {
     "data": {
      "text/plain": "array([[-1.67002571e-01, -3.04623292e-01,  6.33944546e-01,\n         6.25087885e-01,  3.19035147e-01, -4.00464029e-01,\n         1.12067703e-02],\n       [ 7.51902949e-01,  3.16648340e-01,  3.53031717e-01,\n         1.48373166e+00,  1.40079308e+00, -6.21846265e-02,\n         5.04773739e-01],\n       [ 1.15437984e+00, -6.56857885e-01,  8.78873746e-01,\n        -1.59803272e-01,  9.26684806e-01,  1.49013004e-01,\n         2.10075952e-01],\n       [ 8.65360342e-02, -1.14987780e-03,  8.10799836e-01,\n         1.23437954e+00,  4.05265747e-01, -2.64352075e-01,\n         8.23851559e-02],\n       [ 3.73779864e-01, -7.01916809e-02,  4.45619393e-01,\n         1.24747800e+00, -9.49141429e-01, -1.33815308e-01,\n         2.00233025e-01],\n       [ 1.99326274e+00,  3.62632251e-01, -2.29485428e-01,\n         2.10740468e+00, -3.17711837e-01,  6.75697658e-01,\n         4.81043364e-01],\n       [ 2.03565226e+00,  1.11757466e+00, -1.13689964e+00,\n         7.85502453e-01,  7.65419498e-01,  1.52894477e-01,\n        -1.08799385e+00],\n       [ 3.31748355e-01,  1.48939845e-01,  4.57251005e-01,\n         2.94903948e-01,  1.78903417e+00, -4.57782531e-01,\n        -1.10663533e+00],\n       [ 2.35761152e+00,  1.67341521e+00, -5.72778160e-02,\n         1.08880294e+00,  2.19136864e+00,  2.14370958e-01,\n         5.18499134e-01],\n       [ 4.02240570e-01,  1.30317820e-01, -4.94161432e-01,\n         1.13185023e+00, -2.61952247e-01,  1.48260275e-01,\n        -9.16429330e-01],\n       [-3.82808108e-01, -3.36075092e-01, -1.89205588e-01,\n         2.33003900e+00,  6.10806463e-01, -2.97728863e-01,\n        -6.90878947e-01],\n       [ 1.24298025e+00,  1.13888451e+00,  1.09923610e-03,\n        -1.06086185e+00,  5.34502841e-01,  5.10192211e-02,\n         1.58222743e+00],\n       [-5.20633094e-01,  2.62977584e-02, -7.47981469e-01,\n        -3.34007739e-01,  3.69144069e-01,  3.91644811e-01,\n         2.27948545e+00],\n       [-4.22588666e-01, -1.17603831e-01,  1.99291124e-01,\n        -6.11189488e-01,  1.13411417e-02,  4.17675620e-01,\n        -1.14563458e+00],\n       [-1.07942431e+00,  1.59052674e-01,  3.96650122e-01,\n        -2.37724369e-01, -4.40173149e-01, -6.20167054e-02,\n        -8.46417235e-01],\n       [-1.68948403e-01, -4.40311449e-01,  7.96623702e-01,\n         5.11585868e-01, -1.10216248e+00,  1.26629471e-01,\n        -7.90026762e-01],\n       [-1.18685896e+00,  4.24242236e-02, -7.75447358e-01,\n         4.83860718e-01,  4.42195773e-01,  1.30482736e-01,\n         3.22379134e-01],\n       [-5.53118215e-01, -2.31343649e-01, -4.48311980e-01,\n         1.11013273e+00, -5.26054129e-01, -6.69866634e-01,\n        -8.56878396e-01],\n       [ 1.91908312e-01,  4.03619523e-01,  3.55353068e-01,\n        -4.96972909e-01, -7.55838433e-01, -5.00188425e-02,\n        -5.49155610e-01],\n       [-1.32925892e+00,  1.99444166e-01, -4.14697563e-01,\n         4.95967474e-01,  7.41519633e-01, -4.86365794e-01,\n         3.00677985e-01],\n       [ 1.15767497e+00, -6.35962614e-01,  4.30958297e-01,\n        -5.81720187e-01,  2.63497280e-01,  5.40643914e-01,\n        -3.57222577e-01],\n       [-3.19324269e-01, -3.72374701e-01,  9.83065937e-01,\n         7.23593942e-01, -2.56717340e-02, -1.23848589e-01,\n         1.38848257e-01],\n       [ 2.42139880e+00, -6.26079286e-02,  5.26682336e-01,\n        -1.23293762e-01, -3.01822498e+00, -7.42028924e-01,\n         1.22017392e+00],\n       [-3.57564822e-01, -1.20036845e-01,  1.35112555e+00,\n        -2.76859385e-01,  1.35224501e+00, -3.05118793e-01,\n         6.42282726e-01],\n       [-9.99113931e-01, -5.10024950e-02,  2.92328116e-01,\n         6.73799344e-01,  8.22132738e-01, -3.19356050e-01,\n         9.81391535e-01],\n       [-3.11855445e-02, -3.52490448e-01,  9.82181542e-01,\n         1.92621779e-01,  6.81729586e-01, -2.36215154e-01,\n        -7.98134127e-01],\n       [-1.64588502e-01, -1.21214609e+00, -1.15728520e+00,\n        -6.72671849e-01,  2.92140976e-01,  3.60015949e-01,\n         6.26024086e-01],\n       [-5.24387628e-01, -8.20482495e-01, -9.39277487e-01,\n         9.38520673e-01,  3.42134876e-01,  4.67555356e-01,\n         1.30360311e+00],\n       [ 1.22801311e+00,  6.72320950e-02, -1.26462526e+00,\n        -2.98267905e-01,  8.45779943e-01,  4.29827526e-01,\n         1.03661432e+00],\n       [ 4.77463496e-01, -1.75273520e+00,  3.14903879e-02,\n        -4.08448394e-01,  1.34224756e-01,  2.88597539e-01,\n        -1.14224360e+00],\n       [ 5.24106909e-01, -6.82691350e-01, -1.23106936e+00,\n        -1.29569853e+00,  1.05279678e+00, -1.65693018e-01,\n         3.99951389e-01],\n       [ 1.13012103e+00,  1.41318025e-01,  2.43489645e-01,\n        -2.82505217e-01, -4.05184653e-01, -3.13044240e-01,\n         1.77364372e+00],\n       [ 1.19760138e+00, -1.13078753e-01,  5.99093097e-02,\n        -7.97349371e-01, -4.00058286e-01,  5.88542885e-02,\n         1.70319099e-01],\n       [ 6.75179418e-01, -2.84233933e-01, -1.96182570e-01,\n         8.69855865e-01,  9.15609284e-01,  1.52774451e-01,\n        -6.72851376e-01],\n       [-2.28032380e-01, -9.08235340e-01,  4.46378677e-02,\n         1.82990325e-01,  5.57455885e-01, -6.06201270e-02,\n        -2.35945509e-01],\n       [ 2.31960822e+00, -1.32915111e+00,  4.52154359e-01,\n        -9.91063645e-01,  2.48446567e+00, -3.06346918e-01,\n         1.12353236e+00],\n       [ 1.75980097e+00, -6.84860571e-01, -1.54796909e-01,\n        -3.97967617e-01, -6.61927709e-01,  3.01687260e-01,\n         4.30476236e-01],\n       [-1.03858733e+00,  2.89072661e-01,  3.29217074e-01,\n        -3.51080367e-01, -4.01556866e-01, -2.01015348e-01,\n         3.36465309e-01],\n       [ 4.81898482e-01, -2.59379507e-01,  1.58765847e+00,\n        -1.29726321e-01, -2.77832312e+00,  5.14428888e-01,\n         8.38105845e-01],\n       [-7.56515921e-01, -1.10517548e-01,  7.71766841e-01,\n        -5.56544736e-02, -1.52823402e-01,  3.19443145e-01,\n        -2.07252642e-01],\n       [-4.26972064e-01,  3.25578897e-01,  6.91311765e-01,\n         1.07133619e-01, -4.10126228e-01, -9.59162527e-02,\n        -7.42346735e-01],\n       [ 5.51264935e-02,  4.85636352e-01,  6.66212797e-01,\n        -1.30455185e+00, -3.65185766e-01,  3.88323769e-01,\n        -1.16715395e-01],\n       [ 2.07821019e-01,  2.92650183e-01,  2.58666819e-02,\n        -3.28934899e-01, -7.18630870e-01,  2.14143774e-02,\n        -1.43409561e+00],\n       [-6.69542828e-01,  3.65929993e-01, -5.29523654e-02,\n        -2.27494060e-01,  3.24277977e-01,  2.73259950e-01,\n        -1.22877471e+00],\n       [-3.48459464e-01,  2.93540693e-01,  9.02479806e-01,\n        -2.39669385e-02,  2.94966758e-01,  4.01240424e-01,\n        -5.36386051e-01],\n       [-1.32078942e+00,  7.77524248e-02, -7.35051265e-02,\n         5.95579898e-01, -4.19455060e-01,  3.87151055e-01,\n         1.03338431e-01],\n       [-1.79168304e-01, -2.90197560e-01,  1.03358069e-02,\n        -3.21449152e-01, -2.69452134e-01, -2.38765968e-01,\n         9.54724518e-02],\n       [-7.64936627e-01,  2.78477200e-01, -2.61835604e-02,\n        -6.41038829e-01, -1.57434275e-01,  5.33171292e-01,\n        -5.40389883e-01],\n       [-1.46011175e+00,  3.39651326e-01,  1.25597024e-01,\n        -8.01446679e-02, -2.46901531e-02, -7.03596617e-02,\n        -7.35589644e-02],\n       [ 3.18535082e+00,  9.57923100e-01,  2.23404362e-01,\n        -8.02973738e-01, -1.54733731e+00, -2.04511887e-01,\n        -5.80356975e-01],\n       [-5.58238122e-01,  8.10322674e-01,  4.86525738e-01,\n        -2.94886414e-01,  1.08847610e+00,  5.99390360e-01,\n        -8.46638460e-01],\n       [-7.11356991e-01,  2.39217169e-01, -7.40768048e-01,\n         9.19443003e-04,  5.10786252e-01, -1.30522188e-01,\n         1.88115448e-02],\n       [-2.41846034e-01,  6.51703288e-01, -3.28532358e-03,\n        -1.26515008e+00, -7.18306591e-01, -2.67483976e-01,\n         4.90290063e-02],\n       [-6.00091379e-01,  1.84160509e-01, -1.84047008e-01,\n        -1.26820633e+00,  1.33561537e-01, -5.45194217e-01,\n         2.46693861e-01],\n       [-6.24395843e-01,  3.99027395e-01, -1.51707121e-01,\n        -9.91923128e-01, -3.78524449e-01,  5.34402536e-02,\n        -6.66934583e-01],\n       [-3.51207884e-01,  3.00317048e-02,  2.89131679e-01,\n        -7.90116422e-01,  5.30268406e-01, -4.82138107e-01,\n         4.58168615e-01],\n       [-7.25133885e-01, -2.55047083e-01,  6.15632149e-01,\n         6.03626735e-01,  1.53008695e-01, -5.10227455e-01,\n        -2.43050052e-02],\n       [-1.27422886e+00,  8.43233737e-01, -1.98428183e-01,\n         2.75105662e-01, -1.10133640e+00,  1.19313481e-01,\n         6.28378137e-01],\n       [-8.92753842e-01,  5.67881018e-02,  2.03159008e-01,\n        -1.14369522e+00,  1.00086027e+00, -3.23604440e-01,\n        -1.91468858e-01],\n       [-1.13166129e+00,  4.93971405e-01,  4.48886810e-01,\n        -2.49366385e-01,  5.38654263e-01, -2.81466584e-01,\n         6.47355340e-01],\n       [-1.60682676e+00, -4.02645802e-01,  7.62891918e-01,\n         4.89694856e-01,  1.93671131e-01,  6.36749428e-01,\n         8.56733894e-01],\n       [-1.82341032e+00,  1.09764222e+00, -7.97526928e-01,\n         3.32653969e-01, -8.55231640e-01,  3.35895033e-01,\n         5.77904679e-01],\n       [-9.86133014e-01, -1.01993613e+00, -6.53579591e-01,\n         7.35738110e-02, -7.95466617e-01,  5.21744403e-01,\n         2.48413191e-01],\n       [-1.65517115e-01, -3.24746324e-01, -4.50314171e-01,\n        -7.24174454e-01, -7.10742817e-02, -1.81685558e-01,\n        -8.76365292e-01],\n       [-6.31912403e-01, -5.18980729e-02, -1.51417920e+00,\n        -9.48013955e-01,  6.76281113e-01, -3.75440885e-01,\n        -1.04321452e+00],\n       [ 7.43724983e-01,  3.69670680e-01, -1.32871040e-01,\n        -2.63547428e-01,  2.71496501e-01,  2.18591164e-01,\n        -6.12079745e-01],\n       [-5.43345382e-01,  4.38889464e-01, -5.18832840e-01,\n        -5.11496474e-01, -4.29729001e-01, -1.28801339e-01,\n         7.99018341e-01],\n       [ 2.50009700e+00, -6.19013083e-01, -1.43830311e+00,\n         4.52100137e-01, -1.61875493e+00, -2.49817333e-01,\n        -1.69755851e+00],\n       [-3.27646456e-01, -2.07716405e-01, -1.33449323e-01,\n         4.30282736e-01, -7.25166050e-01, -1.38458837e-02,\n        -1.53179513e-01],\n       [-9.02401258e-01, -2.66273072e-01, -6.13670894e-02,\n        -4.91592431e-01, -1.23679677e+00,  2.33859532e-01,\n         1.78415382e-02],\n       [-5.55587443e-01,  3.40307235e-01, -9.51963421e-01,\n        -9.18205217e-01,  1.37707718e-01, -2.18298461e-01,\n        -6.54347709e-01],\n       [-9.33373465e-01, -2.41362301e-01, -1.34667027e+00,\n         1.28101478e+00, -2.06583753e+00, -6.39098304e-01,\n         1.16083832e+00]])"
     },
     "execution_count": 95,
     "metadata": {},
     "output_type": "execute_result"
    }
   ],
   "source": [
    "ca.x_scores_"
   ],
   "metadata": {
    "collapsed": false,
    "pycharm": {
     "name": "#%%\n"
    }
   }
  }
 ],
 "metadata": {
  "kernelspec": {
   "display_name": "Python 3",
   "language": "python",
   "name": "python3"
  },
  "language_info": {
   "codemirror_mode": {
    "name": "ipython",
    "version": 2
   },
   "file_extension": ".py",
   "mimetype": "text/x-python",
   "name": "python",
   "nbconvert_exporter": "python",
   "pygments_lexer": "ipython2",
   "version": "2.7.6"
  }
 },
 "nbformat": 4,
 "nbformat_minor": 0
}