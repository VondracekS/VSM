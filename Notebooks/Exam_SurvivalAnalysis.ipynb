{
 "cells": [
  {
   "cell_type": "markdown",
   "source": [
    "# Final Project: Survival Analysis of the Animal Adoption Dataset"
   ],
   "metadata": {
    "collapsed": false,
    "pycharm": {
     "name": "#%% md\n"
    }
   }
  },
  {
   "cell_type": "markdown",
   "source": [
    "In this project, I will perform the Survival Analysis over the animal adoption data set available [here](https://www.kaggle.com/datasets/aaronschlegel/austin-animal-center-shelter-intakes-and-outcomes).\n",
    "I have to admit that the very first aim of this analysis was to compare predictive abilities of surviaval-analysis vs\n",
    "other regression approaches which do not take into account the censored data. However, I was not able to access the\n",
    "values of neither hazard nor survival function at a given time (and subsequently evaluate the performance between\n",
    "different models because of multiple reasons. For instance, it is complicated to evaluate all models on the very same\n",
    "sets of data where even test set is subject of censoring. Another reason was my own technical incapability to evaluate\n",
    "the hazard or survival function at a given time for a given individual. For this reason, I will perform only the\n",
    "survival analysis and evaluate the\n",
    "results.\n",
    "\n",
    "In this project, I will try to test the following hypotheses:\n",
    "- Does the animal species matter in adoption?\n",
    "- Does the breed of any kind matter?\n",
    "- Does the age of an animal matter?\n",
    "\n",
    "Other goal of this project is to create reproducible functions which allow to perform specific tasks related to the\n",
    "survival analysis\n",
    "\n",
    "Unfortunately, I haven't found any package designed for statistical inference with survival analysis. Therefore I\n",
    "won't be able to evaluate p-values and all my conclusions will be rather subjective."
   ],
   "metadata": {
    "collapsed": false,
    "pycharm": {
     "name": "#%% md\n"
    }
   }
  },
  {
   "cell_type": "markdown",
   "source": [
    "## 1 EDA and Initialization"
   ],
   "metadata": {
    "collapsed": false,
    "pycharm": {
     "name": "#%% md\n"
    }
   }
  },
  {
   "cell_type": "markdown",
   "source": [
    "The first steps in my analysis is a simple Exploratory Data Analysis and a very basic feature engineering"
   ],
   "metadata": {
    "collapsed": false,
    "pycharm": {
     "name": "#%% md\n"
    }
   }
  },
  {
   "cell_type": "markdown",
   "source": [
    "### 1.1 General Steps"
   ],
   "metadata": {
    "collapsed": false,
    "pycharm": {
     "name": "#%% md\n"
    }
   }
  },
  {
   "cell_type": "code",
   "execution_count": 6,
   "outputs": [],
   "source": [
    "# load the full dataset\n",
    "import pandas as pd\n",
    "data_full = pd.read_csv(\"../Data/aac_intakes_outcomes.csv\")"
   ],
   "metadata": {
    "collapsed": false,
    "pycharm": {
     "name": "#%%\n"
    }
   }
  },
  {
   "cell_type": "code",
   "execution_count": 7,
   "outputs": [
    {
     "data": {
      "text/plain": "(79672, 41)"
     },
     "execution_count": 7,
     "metadata": {},
     "output_type": "execute_result"
    }
   ],
   "source": [
    "# dimensions of our dataset\n",
    "data_full.shape"
   ],
   "metadata": {
    "collapsed": false,
    "pycharm": {
     "name": "#%%\n"
    }
   }
  },
  {
   "cell_type": "code",
   "execution_count": 8,
   "outputs": [
    {
     "data": {
      "text/plain": "   age_upon_outcome animal_id_outcome        date_of_birth outcome_subtype  \\\n0          10 years           A006100  2007-07-09 00:00:00             NaN   \n1           7 years           A006100  2007-07-09 00:00:00             NaN   \n2           6 years           A006100  2007-07-09 00:00:00             NaN   \n3          10 years           A047759  2004-04-02 00:00:00         Partner   \n4          16 years           A134067  1997-10-16 00:00:00             NaN   \n5          15 years           A141142  1998-06-01 00:00:00             NaN   \n6          15 years           A163459  1999-10-19 00:00:00             NaN   \n7          15 years           A165752  1999-08-18 00:00:00             NaN   \n8          15 years           A178569  1999-03-17 00:00:00             NaN   \n9          18 years           A189592  1997-08-01 00:00:00             NaN   \n10         16 years           A191351  1999-08-21 00:00:00             NaN   \n11         14 years           A197810  2000-01-21 00:00:00         Partner   \n12         16 years           A200922  1997-10-03 00:00:00          Foster   \n13         14 years           A208755  2000-04-27 00:00:00       Suffering   \n14         17 years           A210457  1999-06-01 00:00:00          Foster   \n\n       outcome_type sex_upon_outcome  age_upon_outcome_(days)  \\\n0   Return to Owner    Neutered Male                     3650   \n1   Return to Owner    Neutered Male                     2555   \n2   Return to Owner    Neutered Male                     2190   \n3          Transfer    Neutered Male                     3650   \n4   Return to Owner    Neutered Male                     5840   \n5   Return to Owner    Spayed Female                     5475   \n6   Return to Owner    Intact Female                     5475   \n7   Return to Owner    Neutered Male                     5475   \n8   Return to Owner    Neutered Male                     5475   \n9   Return to Owner    Spayed Female                     6570   \n10  Return to Owner    Intact Female                     5840   \n11         Transfer    Spayed Female                     5110   \n12         Adoption    Neutered Male                     5840   \n13       Euthanasia    Neutered Male                     5110   \n14         Adoption    Neutered Male                     6205   \n\n    age_upon_outcome_(years) age_upon_outcome_age_group     outcome_datetime  \\\n0                       10.0                (7.5, 10.0]  2017-12-07 14:07:00   \n1                        7.0                 (5.0, 7.5]  2014-12-20 16:35:00   \n2                        6.0                 (5.0, 7.5]  2014-03-08 17:10:00   \n3                       10.0                (7.5, 10.0]  2014-04-07 15:12:00   \n4                       16.0               (15.0, 17.5]  2013-11-16 11:54:00   \n5                       15.0               (12.5, 15.0]  2013-11-17 11:40:00   \n6                       15.0               (12.5, 15.0]  2014-11-14 19:28:00   \n7                       15.0               (12.5, 15.0]  2014-09-15 16:35:00   \n8                       15.0               (12.5, 15.0]  2014-03-23 15:57:00   \n9                       18.0               (17.5, 20.0]  2015-09-18 19:04:00   \n10                      16.0               (15.0, 17.5]  2015-11-17 13:29:00   \n11                      14.0               (12.5, 15.0]  2014-12-22 15:23:00   \n12                      16.0               (15.0, 17.5]  2013-11-22 09:44:00   \n13                      14.0               (12.5, 15.0]  2015-02-17 16:25:00   \n14                      17.0               (15.0, 17.5]  2016-10-07 12:34:00   \n\n    ...  age_upon_intake_age_group      intake_datetime intake_month  \\\n0   ...                (7.5, 10.0]  2017-12-07 00:00:00           12   \n1   ...                 (5.0, 7.5]  2014-12-19 10:21:00           12   \n2   ...                 (5.0, 7.5]  2014-03-07 14:26:00            3   \n3   ...                (7.5, 10.0]  2014-04-02 15:55:00            4   \n4   ...               (15.0, 17.5]  2013-11-16 09:02:00           11   \n5   ...               (12.5, 15.0]  2013-11-16 14:46:00           11   \n6   ...               (12.5, 15.0]  2014-11-14 15:11:00           11   \n7   ...               (12.5, 15.0]  2014-09-15 11:28:00            9   \n8   ...               (12.5, 15.0]  2014-03-17 09:45:00            3   \n9   ...               (17.5, 20.0]  2015-09-18 17:46:00            9   \n10  ...               (15.0, 17.5]  2015-11-13 15:57:00           11   \n11  ...               (12.5, 15.0]  2014-12-08 12:30:00           12   \n12  ...               (15.0, 17.5]  2013-10-03 15:47:00           10   \n13  ...               (12.5, 15.0]  2015-02-17 13:17:00            2   \n14  ...               (15.0, 17.5]  2016-09-28 12:05:00            9   \n\n   intake_year  intake_monthyear  intake_weekday  intake_hour  intake_number  \\\n0         2017           2017-12        Thursday           14            1.0   \n1         2014           2014-12          Friday           10            2.0   \n2         2014           2014-03          Friday           14            3.0   \n3         2014           2014-04       Wednesday           15            1.0   \n4         2013           2013-11        Saturday            9            1.0   \n5         2013           2013-11        Saturday           14            1.0   \n6         2014           2014-11          Friday           15            1.0   \n7         2014           2014-09          Monday           11            1.0   \n8         2014           2014-03          Monday            9            1.0   \n9         2015           2015-09          Friday           17            1.0   \n10        2015           2015-11          Friday           15            1.0   \n11        2014           2014-12          Monday           12            1.0   \n12        2013           2013-10        Thursday           15            1.0   \n13        2015           2015-02         Tuesday           13            1.0   \n14        2016           2016-09       Wednesday           12            1.0   \n\n               time_in_shelter time_in_shelter_days  \n0    0 days 14:07:00.000000000             0.588194  \n1    1 days 06:14:00.000000000             1.259722  \n2    1 days 02:44:00.000000000             1.113889  \n3    4 days 23:17:00.000000000             4.970139  \n4    0 days 02:52:00.000000000             0.119444  \n5    0 days 20:54:00.000000000             0.870833  \n6    0 days 04:17:00.000000000             0.178472  \n7    0 days 05:07:00.000000000             0.213194  \n8    6 days 06:12:00.000000000             6.258333  \n9    0 days 01:18:00.000000000             0.054167  \n10   3 days 21:32:00.000000000             3.897222  \n11  14 days 02:53:00.000000000            14.120139  \n12  49 days 17:57:00.000000000            49.747917  \n13   0 days 03:08:00.000000000             0.130556  \n14   9 days 00:29:00.000000000             9.020139  \n\n[15 rows x 41 columns]",
      "text/html": "<div>\n<style scoped>\n    .dataframe tbody tr th:only-of-type {\n        vertical-align: middle;\n    }\n\n    .dataframe tbody tr th {\n        vertical-align: top;\n    }\n\n    .dataframe thead th {\n        text-align: right;\n    }\n</style>\n<table border=\"1\" class=\"dataframe\">\n  <thead>\n    <tr style=\"text-align: right;\">\n      <th></th>\n      <th>age_upon_outcome</th>\n      <th>animal_id_outcome</th>\n      <th>date_of_birth</th>\n      <th>outcome_subtype</th>\n      <th>outcome_type</th>\n      <th>sex_upon_outcome</th>\n      <th>age_upon_outcome_(days)</th>\n      <th>age_upon_outcome_(years)</th>\n      <th>age_upon_outcome_age_group</th>\n      <th>outcome_datetime</th>\n      <th>...</th>\n      <th>age_upon_intake_age_group</th>\n      <th>intake_datetime</th>\n      <th>intake_month</th>\n      <th>intake_year</th>\n      <th>intake_monthyear</th>\n      <th>intake_weekday</th>\n      <th>intake_hour</th>\n      <th>intake_number</th>\n      <th>time_in_shelter</th>\n      <th>time_in_shelter_days</th>\n    </tr>\n  </thead>\n  <tbody>\n    <tr>\n      <th>0</th>\n      <td>10 years</td>\n      <td>A006100</td>\n      <td>2007-07-09 00:00:00</td>\n      <td>NaN</td>\n      <td>Return to Owner</td>\n      <td>Neutered Male</td>\n      <td>3650</td>\n      <td>10.0</td>\n      <td>(7.5, 10.0]</td>\n      <td>2017-12-07 14:07:00</td>\n      <td>...</td>\n      <td>(7.5, 10.0]</td>\n      <td>2017-12-07 00:00:00</td>\n      <td>12</td>\n      <td>2017</td>\n      <td>2017-12</td>\n      <td>Thursday</td>\n      <td>14</td>\n      <td>1.0</td>\n      <td>0 days 14:07:00.000000000</td>\n      <td>0.588194</td>\n    </tr>\n    <tr>\n      <th>1</th>\n      <td>7 years</td>\n      <td>A006100</td>\n      <td>2007-07-09 00:00:00</td>\n      <td>NaN</td>\n      <td>Return to Owner</td>\n      <td>Neutered Male</td>\n      <td>2555</td>\n      <td>7.0</td>\n      <td>(5.0, 7.5]</td>\n      <td>2014-12-20 16:35:00</td>\n      <td>...</td>\n      <td>(5.0, 7.5]</td>\n      <td>2014-12-19 10:21:00</td>\n      <td>12</td>\n      <td>2014</td>\n      <td>2014-12</td>\n      <td>Friday</td>\n      <td>10</td>\n      <td>2.0</td>\n      <td>1 days 06:14:00.000000000</td>\n      <td>1.259722</td>\n    </tr>\n    <tr>\n      <th>2</th>\n      <td>6 years</td>\n      <td>A006100</td>\n      <td>2007-07-09 00:00:00</td>\n      <td>NaN</td>\n      <td>Return to Owner</td>\n      <td>Neutered Male</td>\n      <td>2190</td>\n      <td>6.0</td>\n      <td>(5.0, 7.5]</td>\n      <td>2014-03-08 17:10:00</td>\n      <td>...</td>\n      <td>(5.0, 7.5]</td>\n      <td>2014-03-07 14:26:00</td>\n      <td>3</td>\n      <td>2014</td>\n      <td>2014-03</td>\n      <td>Friday</td>\n      <td>14</td>\n      <td>3.0</td>\n      <td>1 days 02:44:00.000000000</td>\n      <td>1.113889</td>\n    </tr>\n    <tr>\n      <th>3</th>\n      <td>10 years</td>\n      <td>A047759</td>\n      <td>2004-04-02 00:00:00</td>\n      <td>Partner</td>\n      <td>Transfer</td>\n      <td>Neutered Male</td>\n      <td>3650</td>\n      <td>10.0</td>\n      <td>(7.5, 10.0]</td>\n      <td>2014-04-07 15:12:00</td>\n      <td>...</td>\n      <td>(7.5, 10.0]</td>\n      <td>2014-04-02 15:55:00</td>\n      <td>4</td>\n      <td>2014</td>\n      <td>2014-04</td>\n      <td>Wednesday</td>\n      <td>15</td>\n      <td>1.0</td>\n      <td>4 days 23:17:00.000000000</td>\n      <td>4.970139</td>\n    </tr>\n    <tr>\n      <th>4</th>\n      <td>16 years</td>\n      <td>A134067</td>\n      <td>1997-10-16 00:00:00</td>\n      <td>NaN</td>\n      <td>Return to Owner</td>\n      <td>Neutered Male</td>\n      <td>5840</td>\n      <td>16.0</td>\n      <td>(15.0, 17.5]</td>\n      <td>2013-11-16 11:54:00</td>\n      <td>...</td>\n      <td>(15.0, 17.5]</td>\n      <td>2013-11-16 09:02:00</td>\n      <td>11</td>\n      <td>2013</td>\n      <td>2013-11</td>\n      <td>Saturday</td>\n      <td>9</td>\n      <td>1.0</td>\n      <td>0 days 02:52:00.000000000</td>\n      <td>0.119444</td>\n    </tr>\n    <tr>\n      <th>5</th>\n      <td>15 years</td>\n      <td>A141142</td>\n      <td>1998-06-01 00:00:00</td>\n      <td>NaN</td>\n      <td>Return to Owner</td>\n      <td>Spayed Female</td>\n      <td>5475</td>\n      <td>15.0</td>\n      <td>(12.5, 15.0]</td>\n      <td>2013-11-17 11:40:00</td>\n      <td>...</td>\n      <td>(12.5, 15.0]</td>\n      <td>2013-11-16 14:46:00</td>\n      <td>11</td>\n      <td>2013</td>\n      <td>2013-11</td>\n      <td>Saturday</td>\n      <td>14</td>\n      <td>1.0</td>\n      <td>0 days 20:54:00.000000000</td>\n      <td>0.870833</td>\n    </tr>\n    <tr>\n      <th>6</th>\n      <td>15 years</td>\n      <td>A163459</td>\n      <td>1999-10-19 00:00:00</td>\n      <td>NaN</td>\n      <td>Return to Owner</td>\n      <td>Intact Female</td>\n      <td>5475</td>\n      <td>15.0</td>\n      <td>(12.5, 15.0]</td>\n      <td>2014-11-14 19:28:00</td>\n      <td>...</td>\n      <td>(12.5, 15.0]</td>\n      <td>2014-11-14 15:11:00</td>\n      <td>11</td>\n      <td>2014</td>\n      <td>2014-11</td>\n      <td>Friday</td>\n      <td>15</td>\n      <td>1.0</td>\n      <td>0 days 04:17:00.000000000</td>\n      <td>0.178472</td>\n    </tr>\n    <tr>\n      <th>7</th>\n      <td>15 years</td>\n      <td>A165752</td>\n      <td>1999-08-18 00:00:00</td>\n      <td>NaN</td>\n      <td>Return to Owner</td>\n      <td>Neutered Male</td>\n      <td>5475</td>\n      <td>15.0</td>\n      <td>(12.5, 15.0]</td>\n      <td>2014-09-15 16:35:00</td>\n      <td>...</td>\n      <td>(12.5, 15.0]</td>\n      <td>2014-09-15 11:28:00</td>\n      <td>9</td>\n      <td>2014</td>\n      <td>2014-09</td>\n      <td>Monday</td>\n      <td>11</td>\n      <td>1.0</td>\n      <td>0 days 05:07:00.000000000</td>\n      <td>0.213194</td>\n    </tr>\n    <tr>\n      <th>8</th>\n      <td>15 years</td>\n      <td>A178569</td>\n      <td>1999-03-17 00:00:00</td>\n      <td>NaN</td>\n      <td>Return to Owner</td>\n      <td>Neutered Male</td>\n      <td>5475</td>\n      <td>15.0</td>\n      <td>(12.5, 15.0]</td>\n      <td>2014-03-23 15:57:00</td>\n      <td>...</td>\n      <td>(12.5, 15.0]</td>\n      <td>2014-03-17 09:45:00</td>\n      <td>3</td>\n      <td>2014</td>\n      <td>2014-03</td>\n      <td>Monday</td>\n      <td>9</td>\n      <td>1.0</td>\n      <td>6 days 06:12:00.000000000</td>\n      <td>6.258333</td>\n    </tr>\n    <tr>\n      <th>9</th>\n      <td>18 years</td>\n      <td>A189592</td>\n      <td>1997-08-01 00:00:00</td>\n      <td>NaN</td>\n      <td>Return to Owner</td>\n      <td>Spayed Female</td>\n      <td>6570</td>\n      <td>18.0</td>\n      <td>(17.5, 20.0]</td>\n      <td>2015-09-18 19:04:00</td>\n      <td>...</td>\n      <td>(17.5, 20.0]</td>\n      <td>2015-09-18 17:46:00</td>\n      <td>9</td>\n      <td>2015</td>\n      <td>2015-09</td>\n      <td>Friday</td>\n      <td>17</td>\n      <td>1.0</td>\n      <td>0 days 01:18:00.000000000</td>\n      <td>0.054167</td>\n    </tr>\n    <tr>\n      <th>10</th>\n      <td>16 years</td>\n      <td>A191351</td>\n      <td>1999-08-21 00:00:00</td>\n      <td>NaN</td>\n      <td>Return to Owner</td>\n      <td>Intact Female</td>\n      <td>5840</td>\n      <td>16.0</td>\n      <td>(15.0, 17.5]</td>\n      <td>2015-11-17 13:29:00</td>\n      <td>...</td>\n      <td>(15.0, 17.5]</td>\n      <td>2015-11-13 15:57:00</td>\n      <td>11</td>\n      <td>2015</td>\n      <td>2015-11</td>\n      <td>Friday</td>\n      <td>15</td>\n      <td>1.0</td>\n      <td>3 days 21:32:00.000000000</td>\n      <td>3.897222</td>\n    </tr>\n    <tr>\n      <th>11</th>\n      <td>14 years</td>\n      <td>A197810</td>\n      <td>2000-01-21 00:00:00</td>\n      <td>Partner</td>\n      <td>Transfer</td>\n      <td>Spayed Female</td>\n      <td>5110</td>\n      <td>14.0</td>\n      <td>(12.5, 15.0]</td>\n      <td>2014-12-22 15:23:00</td>\n      <td>...</td>\n      <td>(12.5, 15.0]</td>\n      <td>2014-12-08 12:30:00</td>\n      <td>12</td>\n      <td>2014</td>\n      <td>2014-12</td>\n      <td>Monday</td>\n      <td>12</td>\n      <td>1.0</td>\n      <td>14 days 02:53:00.000000000</td>\n      <td>14.120139</td>\n    </tr>\n    <tr>\n      <th>12</th>\n      <td>16 years</td>\n      <td>A200922</td>\n      <td>1997-10-03 00:00:00</td>\n      <td>Foster</td>\n      <td>Adoption</td>\n      <td>Neutered Male</td>\n      <td>5840</td>\n      <td>16.0</td>\n      <td>(15.0, 17.5]</td>\n      <td>2013-11-22 09:44:00</td>\n      <td>...</td>\n      <td>(15.0, 17.5]</td>\n      <td>2013-10-03 15:47:00</td>\n      <td>10</td>\n      <td>2013</td>\n      <td>2013-10</td>\n      <td>Thursday</td>\n      <td>15</td>\n      <td>1.0</td>\n      <td>49 days 17:57:00.000000000</td>\n      <td>49.747917</td>\n    </tr>\n    <tr>\n      <th>13</th>\n      <td>14 years</td>\n      <td>A208755</td>\n      <td>2000-04-27 00:00:00</td>\n      <td>Suffering</td>\n      <td>Euthanasia</td>\n      <td>Neutered Male</td>\n      <td>5110</td>\n      <td>14.0</td>\n      <td>(12.5, 15.0]</td>\n      <td>2015-02-17 16:25:00</td>\n      <td>...</td>\n      <td>(12.5, 15.0]</td>\n      <td>2015-02-17 13:17:00</td>\n      <td>2</td>\n      <td>2015</td>\n      <td>2015-02</td>\n      <td>Tuesday</td>\n      <td>13</td>\n      <td>1.0</td>\n      <td>0 days 03:08:00.000000000</td>\n      <td>0.130556</td>\n    </tr>\n    <tr>\n      <th>14</th>\n      <td>17 years</td>\n      <td>A210457</td>\n      <td>1999-06-01 00:00:00</td>\n      <td>Foster</td>\n      <td>Adoption</td>\n      <td>Neutered Male</td>\n      <td>6205</td>\n      <td>17.0</td>\n      <td>(15.0, 17.5]</td>\n      <td>2016-10-07 12:34:00</td>\n      <td>...</td>\n      <td>(15.0, 17.5]</td>\n      <td>2016-09-28 12:05:00</td>\n      <td>9</td>\n      <td>2016</td>\n      <td>2016-09</td>\n      <td>Wednesday</td>\n      <td>12</td>\n      <td>1.0</td>\n      <td>9 days 00:29:00.000000000</td>\n      <td>9.020139</td>\n    </tr>\n  </tbody>\n</table>\n<p>15 rows × 41 columns</p>\n</div>"
     },
     "execution_count": 8,
     "metadata": {},
     "output_type": "execute_result"
    }
   ],
   "source": [
    "# first 15 rows\n",
    "data_full.head(15)"
   ],
   "metadata": {
    "collapsed": false,
    "pycharm": {
     "name": "#%%\n"
    }
   }
  },
  {
   "cell_type": "code",
   "execution_count": 9,
   "outputs": [
    {
     "data": {
      "text/plain": "Index(['age_upon_outcome', 'animal_id_outcome', 'date_of_birth',\n       'outcome_subtype', 'outcome_type', 'sex_upon_outcome',\n       'age_upon_outcome_(days)', 'age_upon_outcome_(years)',\n       'age_upon_outcome_age_group', 'outcome_datetime', 'outcome_month',\n       'outcome_year', 'outcome_monthyear', 'outcome_weekday', 'outcome_hour',\n       'outcome_number', 'dob_year', 'dob_month', 'dob_monthyear',\n       'age_upon_intake', 'animal_id_intake', 'animal_type', 'breed', 'color',\n       'found_location', 'intake_condition', 'intake_type', 'sex_upon_intake',\n       'count', 'age_upon_intake_(days)', 'age_upon_intake_(years)',\n       'age_upon_intake_age_group', 'intake_datetime', 'intake_month',\n       'intake_year', 'intake_monthyear', 'intake_weekday', 'intake_hour',\n       'intake_number', 'time_in_shelter', 'time_in_shelter_days'],\n      dtype='object')"
     },
     "execution_count": 9,
     "metadata": {},
     "output_type": "execute_result"
    }
   ],
   "source": [
    "# print all columns\n",
    "data_full.columns"
   ],
   "metadata": {
    "collapsed": false,
    "pycharm": {
     "name": "#%%\n"
    }
   }
  },
  {
   "cell_type": "markdown",
   "source": [
    "Our dataset consists of over 75 000 observations and 41 features. Some of the features are not relevant for our\n",
    "analysis and some need to be e.g. converted to dummy which I'll perform later. There could've been much more effort\n",
    "devoted to this step, however I do not believe it is a key element of the course so I'll dare to perform it only at a\n",
    "just sufficient level."
   ],
   "metadata": {
    "collapsed": false,
    "pycharm": {
     "name": "#%% md\n"
    }
   }
  },
  {
   "cell_type": "markdown",
   "source": [
    "### 1.2 Feature Engineering"
   ],
   "metadata": {
    "collapsed": false,
    "pycharm": {
     "name": "#%% md\n"
    }
   }
  },
  {
   "cell_type": "code",
   "execution_count": 10,
   "outputs": [
    {
     "data": {
      "text/plain": "529"
     },
     "execution_count": 10,
     "metadata": {},
     "output_type": "execute_result"
    }
   ],
   "source": [
    "# n of unique animal colors\n",
    "len(data_full.color.unique())"
   ],
   "metadata": {
    "collapsed": false,
    "pycharm": {
     "name": "#%%\n"
    }
   }
  },
  {
   "cell_type": "markdown",
   "source": [
    "The first transformed feature is the *color* variable. I assume it might be important to our analysis, however we\n",
    "should reduce its dimension by simply removing the 2nd color for multi-colored animals"
   ],
   "metadata": {
    "collapsed": false,
    "pycharm": {
     "name": "#%% md\n"
    }
   }
  },
  {
   "cell_type": "code",
   "execution_count": 11,
   "outputs": [],
   "source": [
    "data_full['color'] = [i.split(\"/\")[0] for i in data_full.color]"
   ],
   "metadata": {
    "collapsed": false,
    "pycharm": {
     "name": "#%%\n"
    }
   }
  },
  {
   "cell_type": "code",
   "execution_count": 8,
   "outputs": [
    {
     "data": {
      "text/plain": "58"
     },
     "execution_count": 8,
     "metadata": {},
     "output_type": "execute_result"
    }
   ],
   "source": [
    "len(data_full.color.unique())"
   ],
   "metadata": {
    "collapsed": false,
    "pycharm": {
     "name": "#%%\n"
    }
   }
  },
  {
   "cell_type": "markdown",
   "source": [
    "Hereby we have reduced the dimension about 10-fold. Unfortunately, the color variable has caused issued during the\n",
    "estimation of a model, hence I will not use it further. Another key feature might be the bread of a particular animal.\n",
    "There are many approaches, howeverthe most simple one is to differentiate between *mix* and *pure* breeds by creating\n",
    "a dummy variable *is_breed*."
   ],
   "metadata": {
    "collapsed": false,
    "pycharm": {
     "name": "#%% md\n"
    }
   }
  },
  {
   "cell_type": "code",
   "execution_count": 24,
   "outputs": [
    {
     "data": {
      "text/plain": "2059"
     },
     "execution_count": 24,
     "metadata": {},
     "output_type": "execute_result"
    }
   ],
   "source": [
    "# all unique categories\n",
    "len(data_full['breed'].unique())"
   ],
   "metadata": {
    "collapsed": false,
    "pycharm": {
     "name": "#%%\n"
    }
   }
  },
  {
   "cell_type": "code",
   "execution_count": 25,
   "outputs": [],
   "source": [
    "import numpy as np\n",
    "data_full['is_mix'] = (list(int('Mix' in k) for k in data_full['breed']))"
   ],
   "metadata": {
    "collapsed": false,
    "pycharm": {
     "name": "#%%\n"
    }
   }
  },
  {
   "cell_type": "code",
   "execution_count": 26,
   "outputs": [
    {
     "data": {
      "text/plain": "1    64032\n0    11212\nName: is_mix, dtype: int64"
     },
     "execution_count": 26,
     "metadata": {},
     "output_type": "execute_result"
    }
   ],
   "source": [
    "# value counts\n",
    "data_full.is_mix.value_counts()"
   ],
   "metadata": {
    "collapsed": false,
    "pycharm": {
     "name": "#%%\n"
    }
   }
  },
  {
   "cell_type": "markdown",
   "source": [
    "Another important feature might refer to the particular animal's age. As we're unable to measure its age in time (we should not leak the\n",
    "information about when did a particular event happen), the year of animal's birth might be a good proxy"
   ],
   "metadata": {
    "collapsed": false,
    "pycharm": {
     "name": "#%% md\n"
    }
   }
  },
  {
   "cell_type": "code",
   "execution_count": 27,
   "outputs": [],
   "source": [
    "# year of birth by extracting first 4 digits from a date\n",
    "data_full['year_born'] = data_full['date_of_birth'].str[:4]"
   ],
   "metadata": {
    "collapsed": false,
    "pycharm": {
     "name": "#%%\n"
    }
   }
  },
  {
   "cell_type": "code",
   "execution_count": 28,
   "outputs": [
    {
     "data": {
      "text/plain": "Dog     45366\nCat     29539\nBird      339\nName: animal_type, dtype: int64"
     },
     "execution_count": 28,
     "metadata": {},
     "output_type": "execute_result"
    }
   ],
   "source": [
    "data_full.animal_type.value_counts()"
   ],
   "metadata": {
    "collapsed": false,
    "pycharm": {
     "name": "#%%\n"
    }
   }
  },
  {
   "cell_type": "markdown",
   "source": [
    "Our dataset contains only 4 categories. I suppose the animal species is a key feature to our analysis and the level 'Other' might cause serious\n",
    "issues. Therefore I'd prefer to drop it in our case"
   ],
   "metadata": {
    "collapsed": false,
    "pycharm": {
     "name": "#%% md\n"
    }
   }
  },
  {
   "cell_type": "code",
   "execution_count": 29,
   "outputs": [],
   "source": [
    "# keep only cats, birds and dogs\n",
    "data_full = data_full.loc[data_full['animal_type'] != 'Other']"
   ],
   "metadata": {
    "collapsed": false,
    "pycharm": {
     "name": "#%%\n"
    }
   }
  },
  {
   "cell_type": "markdown",
   "source": [
    "Our dataset also contains many outcomes for the animal. Therefore I convert these to a simple binary format\n",
    "*adopted-not adopted*."
   ],
   "metadata": {
    "collapsed": false,
    "pycharm": {
     "name": "#%% md\n"
    }
   }
  },
  {
   "cell_type": "code",
   "execution_count": 30,
   "outputs": [
    {
     "data": {
      "text/plain": "adopted        48303\nnot_adopted    26936\nName: outcome_type, dtype: int64"
     },
     "execution_count": 30,
     "metadata": {},
     "output_type": "execute_result"
    }
   ],
   "source": [
    "data_full['outcome_type'].value_counts()"
   ],
   "metadata": {
    "collapsed": false,
    "pycharm": {
     "name": "#%%\n"
    }
   }
  },
  {
   "cell_type": "code",
   "execution_count": 31,
   "outputs": [],
   "source": [
    "outcome_recode = {\n",
    "    'Adoption': 'adopted',\n",
    "    'Return to Owner': 'adopted',\n",
    "    'Rto-Adopt': 'adopted',\n",
    "    'Transfer': 'not_adopted',\n",
    "    'Euthanasia': 'not_adopted',\n",
    "    'Died': 'not_adopted',\n",
    "    'Missing': 'not_adopted',\n",
    "    'Disposal': 'not_adopted',\n",
    "    'Relocate': 'not_adopted'\n",
    "}"
   ],
   "metadata": {
    "collapsed": false,
    "pycharm": {
     "name": "#%%\n"
    }
   }
  },
  {
   "cell_type": "code",
   "execution_count": 32,
   "outputs": [],
   "source": [
    "data_full = data_full.replace({'outcome_type': outcome_recode})"
   ],
   "metadata": {
    "collapsed": false,
    "pycharm": {
     "name": "#%%\n"
    }
   }
  },
  {
   "cell_type": "markdown",
   "source": [
    "For the non-survival analysis, all not adopted cases are irrelevant as they predict only single dependent variable. Therefore it is useful to create\n",
    "a new variable as a combination of time and being adopted."
   ],
   "metadata": {
    "collapsed": false,
    "pycharm": {
     "name": "#%% md\n"
    }
   }
  },
  {
   "cell_type": "code",
   "execution_count": 36,
   "outputs": [],
   "source": [
    "# all features\n",
    "features = ['outcome_type', 'time_in_shelter_days', 'is_mix', 'age_upon_intake_(years)',\n",
    "            'animal_type']\n",
    "# list of numeric features - not to be converted to dummy\n",
    "numeric_features = ['age_upon_intake_(years)',\n",
    "                    'time_in_shelter_days',\n",
    "                    'is_mix']\n",
    "# list of categorical features, to be converted\n",
    "cat_features = list(col for col in features if col not in numeric_features)"
   ],
   "metadata": {
    "collapsed": false,
    "pycharm": {
     "name": "#%%\n"
    }
   }
  },
  {
   "cell_type": "code",
   "execution_count": 37,
   "outputs": [],
   "source": [
    "# convert the categorical variables to dummies\n",
    "data_dummified = pd.get_dummies(data_full[features], columns=cat_features, drop_first=True)"
   ],
   "metadata": {
    "collapsed": false,
    "pycharm": {
     "name": "#%%\n"
    }
   }
  },
  {
   "cell_type": "code",
   "execution_count": 38,
   "outputs": [],
   "source": [
    "data_dummified['outcome_type_not_adopted'] = list(\n",
    "    elem == 1 for elem in data_dummified['outcome_type_not_adopted'])"
   ],
   "metadata": {
    "collapsed": false,
    "pycharm": {
     "name": "#%%\n"
    }
   }
  },
  {
   "cell_type": "markdown",
   "source": [
    "## 2 Modelling"
   ],
   "metadata": {
    "collapsed": false,
    "pycharm": {
     "name": "#%% md\n"
    }
   }
  },
  {
   "cell_type": "markdown",
   "source": [
    "In this section, I will perform the actual modelling. The package I use is not primarily designed for statistical\n",
    "inference, so I will not present many measures of uncertainty for our models. I am aware of this insufficiency.\n",
    "One possible solution could be to use bootstrapping to obtain confidence interval, however the estimate has proved\n",
    "itself to be fairly time-consuming."
   ],
   "metadata": {
    "collapsed": false,
    "pycharm": {
     "name": "#%% md\n"
    }
   }
  },
  {
   "cell_type": "markdown",
   "source": [
    "The following step will perform the basic train/test split of our data and also convert the dependent pair of variables to the structure specifically required by the package"
   ],
   "metadata": {
    "collapsed": false,
    "pycharm": {
     "name": "#%% md\n"
    }
   }
  },
  {
   "cell_type": "code",
   "execution_count": 40,
   "outputs": [],
   "source": [
    "from sklearn.model_selection import train_test_split\n",
    "X_train, X_test, y_train, y_test = train_test_split(data_dummified.drop(['outcome_type_not_adopted',\n",
    "                                                                         'time_in_shelter_days'], axis=1),\n",
    "                                                    data_dummified[['outcome_type_not_adopted',\n",
    "                                                                         'time_in_shelter_days']]\n",
    "                                                    .to_records(index=False))"
   ],
   "metadata": {
    "collapsed": false,
    "pycharm": {
     "name": "#%%\n"
    }
   }
  },
  {
   "cell_type": "markdown",
   "source": [
    "The next function is used to plot survival functions categorized by single variable which may be passed\n",
    "as an argument:"
   ],
   "metadata": {
    "collapsed": false,
    "pycharm": {
     "name": "#%% md\n"
    }
   }
  },
  {
   "cell_type": "code",
   "execution_count": 43,
   "outputs": [],
   "source": [
    "%matplotlib inline\n",
    "import matplotlib.pyplot as plt\n",
    "from sksurv.nonparametric import kaplan_meier_estimator\n",
    "\n",
    "def plot_survival_functions(data, survival, time, categorical=None):\n",
    "    if categorical is not None:\n",
    "        for elem in data[categorical].unique():\n",
    "            data_subset = data.loc[data[categorical] == elem]\n",
    "            time_elapsed, survival_prob = kaplan_meier_estimator(data_subset[survival], data_subset[time])\n",
    "            plt.step(time_elapsed, survival_prob, where=\"post\", label = f\"{categorical}={elem}\")\n",
    "\n",
    "    else:\n",
    "        time_elapsed, survival_prob = kaplan_meier_estimator(data[survival], data[time])\n",
    "        plt.step(time_elapsed, survival_prob, where=\"post\", label = f\"Survival Function\")\n",
    "\n",
    "    plt.ylabel(\"est. probability of not being adopted $\\hat{S}(t)$\")\n",
    "    plt.xlabel(\"time $t$\")\n",
    "    plt.legend(loc=\"upper right\")"
   ],
   "metadata": {
    "collapsed": false,
    "pycharm": {
     "name": "#%%\n"
    }
   }
  },
  {
   "cell_type": "markdown",
   "source": [
    "Hereby we can assess, how does the fact that an animal is a dog, affect the probability of being adopted."
   ],
   "metadata": {
    "collapsed": false,
    "pycharm": {
     "name": "#%% md\n"
    }
   }
  },
  {
   "cell_type": "code",
   "execution_count": 45,
   "outputs": [
    {
     "data": {
      "text/plain": "<Figure size 640x480 with 1 Axes>",
      "image/png": "[encoded data removed]"
     },
     "metadata": {},
     "output_type": "display_data"
    }
   ],
   "source": [
    "plot_survival_functions(data_dummified.loc[X_train.index] ,'outcome_type_not_adopted', 'time_in_shelter_days', 'animal_type_Dog')"
   ],
   "metadata": {
    "collapsed": false,
    "pycharm": {
     "name": "#%%\n"
    }
   }
  },
  {
   "cell_type": "markdown",
   "source": [
    "In the next step, I will construct the model using the Cox Multivariate Model."
   ],
   "metadata": {
    "collapsed": false,
    "pycharm": {
     "name": "#%% md\n"
    }
   }
  },
  {
   "cell_type": "code",
   "execution_count": 47,
   "outputs": [],
   "source": [
    "from sksurv.linear_model import CoxPHSurvivalAnalysis\n",
    "\n",
    "estimator = CoxPHSurvivalAnalysis()\n",
    "estimator = estimator.fit(X_train, y_train)"
   ],
   "metadata": {
    "collapsed": false,
    "pycharm": {
     "name": "#%%\n"
    }
   }
  },
  {
   "cell_type": "markdown",
   "source": [
    "In the next step, I will show how does the particular variable influence the estimate the survival function (i.e. the\n",
    "probability that an animal will not be adopted)."
   ],
   "metadata": {
    "collapsed": false,
    "pycharm": {
     "name": "#%% md\n"
    }
   }
  },
  {
   "cell_type": "code",
   "execution_count": 53,
   "outputs": [
    {
     "name": "stdout",
     "output_type": "stream",
     "text": [
      "Coef IS_MIX .................... est. 0.0315\n",
      "Coef AGE_UPON_INTAKE_(YEARS) .. est. -0.0092\n",
      "Coef ANIMAL_TYPE_CAT .......... est. -0.5445\n",
      "Coef ANIMAL_TYPE_DOG .......... est. -1.1696\n"
     ]
    }
   ],
   "source": [
    "for val, var in sorted(zip(estimator.coef_, estimator.feature_names_in_), reverse=True):\n",
    "    pad = len(f\"Coef {var}, Point est. {val:.4f}\")\n",
    "    print(f\"Coef {var.upper()} {'.'*(50-pad) } est. {(val):.4f}\")"
   ],
   "metadata": {
    "collapsed": false,
    "pycharm": {
     "name": "#%%\n"
    }
   }
  },
  {
   "cell_type": "markdown",
   "source": [
    "The above given coefficients sow the logarithm of an increase in the proportionate hazard function. For better\n",
    "interpretability, I will exponentiate them and subsequently subtract invert to see the direction of their effect"
   ],
   "metadata": {
    "collapsed": false,
    "pycharm": {
     "name": "#%% md\n"
    }
   }
  },
  {
   "cell_type": "code",
   "execution_count": 58,
   "outputs": [
    {
     "name": "stdout",
     "output_type": "stream",
     "text": [
      "Coef IS_MIX .................... est. 0.9690\n",
      "Coef AGE_UPON_INTAKE_(YEARS) .. est. 1.0092\n",
      "Coef ANIMAL_TYPE_CAT .......... est. 1.7238\n",
      "Coef ANIMAL_TYPE_DOG .......... est. 3.2208\n"
     ]
    }
   ],
   "source": [
    "for val, var in sorted(zip(estimator.coef_, estimator.feature_names_in_), reverse=True):\n",
    "    pad = len(f\"Coef {var}, Point est. {val:.4f}\")\n",
    "    print(f\"Coef {var.upper()} {'.'*(50-pad) } est. {1/np.exp(val):.4f}\")"
   ],
   "metadata": {
    "collapsed": false,
    "pycharm": {
     "name": "#%%\n"
    }
   }
  },
  {
   "cell_type": "markdown",
   "source": [
    "The interpretation is following:\n",
    "- Being of a mixed breed increases the probability of being adopted by 4 %\n",
    "- Every year of age diminishes the probability by just less than 1 %\n",
    "- Being a cat (compared to being a bird) increases the probability by 70 %\n",
    "- Being a dog by 220 %\n",
    "\n",
    "It has to be noted that the interpretability is zero. I will try to test the confidence in the following step:"
   ],
   "metadata": {
    "collapsed": false,
    "pycharm": {
     "name": "#%% md\n"
    }
   }
  },
  {
   "cell_type": "markdown",
   "source": [
    "## 2.2 Evaluation"
   ],
   "metadata": {
    "collapsed": false,
    "pycharm": {
     "name": "#%% md\n"
    }
   }
  },
  {
   "cell_type": "markdown",
   "source": [
    "In the next step, I will try to evaluate the model as a whole using the Censored Concordance Index"
   ],
   "metadata": {
    "collapsed": false,
    "pycharm": {
     "name": "#%% md\n"
    }
   }
  },
  {
   "cell_type": "code",
   "execution_count": 43,
   "outputs": [
    {
     "data": {
      "text/plain": "0.650630184786157"
     },
     "execution_count": 43,
     "metadata": {},
     "output_type": "execute_result"
    }
   ],
   "source": [
    "from sksurv.metrics import concordance_index_censored\n",
    "\n",
    "prediction = estimator.predict(X_train)\n",
    "result = concordance_index_censored(y_train[\"outcome_type_not_adopted\"],\n",
    "                                    y_train[\"time_in_shelter_days\"], prediction)\n",
    "result[0]"
   ],
   "metadata": {
    "collapsed": false,
    "pycharm": {
     "name": "#%%\n"
    }
   }
  },
  {
   "cell_type": "markdown",
   "source": [
    "We may conclude that the model performs better than a random estimate according to a mean. However, the 0.65 value\n",
    "hints that the model is not very good. Perhaps more effort could be devoted to feature engineering.\n",
    "\n",
    "In the last step, I will sequentially test whether any of the variables is insignificant compared to the random model:"
   ],
   "metadata": {
    "collapsed": false,
    "pycharm": {
     "name": "#%% md\n"
    }
   }
  },
  {
   "cell_type": "code",
   "execution_count": 44,
   "outputs": [
    {
     "data": {
      "text/plain": "animal_type_Dog            0.621569\nanimal_type_Cat            0.618720\nage_upon_intake_(years)    0.609978\nis_mix                     0.526466\ndtype: float64"
     },
     "execution_count": 44,
     "metadata": {},
     "output_type": "execute_result"
    }
   ],
   "source": [
    "import numpy as np\n",
    "\n",
    "def fit_and_score_features(X, y):\n",
    "    n_features = X.shape[1]\n",
    "    scores = np.empty(n_features)\n",
    "    m = CoxPHSurvivalAnalysis()\n",
    "    for j in range(n_features):\n",
    "        Xj = X[:, j:j+1]\n",
    "        m.fit(Xj, y)\n",
    "        scores[j] = m.score(Xj, y)\n",
    "    return scores\n",
    "\n",
    "scores = fit_and_score_features(X_train.values, y_train)\n",
    "pd.Series(scores, index=X_train.columns).sort_values(ascending=False)"
   ],
   "metadata": {
    "collapsed": false,
    "pycharm": {
     "name": "#%%\n"
    }
   }
  },
  {
   "cell_type": "markdown",
   "source": [
    "The above shown table shows that animal type is the most significant variable in our data set. Age is also\n",
    "significant, however the breed seems to be rather weak covariate."
   ],
   "metadata": {
    "collapsed": false,
    "pycharm": {
     "name": "#%% md\n"
    }
   }
  },
  {
   "cell_type": "markdown",
   "source": [
    "### 2.3 Generating Predictions"
   ],
   "metadata": {
    "collapsed": false,
    "pycharm": {
     "name": "#%% md\n"
    }
   }
  },
  {
   "cell_type": "markdown",
   "source": [
    "The following function can be used to generate survival function for any inidvidual, given our model:"
   ],
   "metadata": {
    "collapsed": false,
    "pycharm": {
     "name": "#%% md\n"
    }
   }
  },
  {
   "cell_type": "code",
   "execution_count": 95,
   "outputs": [],
   "source": [
    "def plot_sample_survival(estimator, X, id):\n",
    "    if id is None:\n",
    "        X_new = X.sample(len(id))\n",
    "    else:\n",
    "        X_new = pd.DataFrame(X.iloc[id,:])\n",
    "\n",
    "    pred_surv = estimator.predict_survival_function(X_new)\n",
    "    time_points = np.arange(1, estimator.event_times_.max())\n",
    "\n",
    "    for i, surv_func in enumerate(pred_surv):\n",
    "        plt.step(time_points, surv_func(time_points), where=\"post\",\n",
    "                 label=f\"ID: {X_new.index[i]}\")\n",
    "    plt.ylabel(\"est. probability of survival $\\hat{S}(t)$\")\n",
    "    plt.xlabel(\"time $t$\")\n",
    "    plt.legend(loc=\"best\")"
   ],
   "metadata": {
    "collapsed": false,
    "pycharm": {
     "name": "#%%\n"
    }
   }
  },
  {
   "cell_type": "code",
   "execution_count": 96,
   "outputs": [
    {
     "data": {
      "text/plain": "<Figure size 640x480 with 1 Axes>",
      "image/png": "[encoded data removed]"
     },
     "metadata": {},
     "output_type": "display_data"
    }
   ],
   "source": [
    "plot_sample_survival(estimator, X_test, [i for i in range(3)])"
   ],
   "metadata": {
    "collapsed": false,
    "pycharm": {
     "name": "#%%\n"
    }
   }
  },
  {
   "cell_type": "markdown",
   "source": [
    "## Conclusion"
   ],
   "metadata": {
    "collapsed": false,
    "pycharm": {
     "name": "#%% md\n"
    }
   }
  },
  {
   "cell_type": "markdown",
   "source": [
    "Using Survival Analysis, I have analyzed the data of animal adoption in Austin, Texas. Our model seems to be working,\n",
    "however the performance could surely be boosted by more extensive and thorough feature engineering. In this project, I\n",
    "have relied heavily on the *sksurv* library and its user guide. The functions I have used are mostly own modification\n",
    "(and generalization) of functions used in the *sksurv* tutorials.\n",
    "\n",
    "[sksurv documentation](https://scikit-survival.readthedocs.io/en/stable/)"
   ],
   "metadata": {
    "collapsed": false,
    "pycharm": {
     "name": "#%% md\n"
    }
   }
  }
 ],
 "metadata": {
  "kernelspec": {
   "display_name": "Python 3",
   "language": "python",
   "name": "python3"
  },
  "language_info": {
   "codemirror_mode": {
    "name": "ipython",
    "version": 2
   },
   "file_extension": ".py",
   "mimetype": "text/x-python",
   "name": "python",
   "nbconvert_exporter": "python",
   "pygments_lexer": "ipython2",
   "version": "2.7.6"
  }
 },
 "nbformat": 4,
 "nbformat_minor": 0
}