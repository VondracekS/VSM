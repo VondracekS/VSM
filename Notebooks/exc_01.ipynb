{
 "cells": [
  {
   "cell_type": "markdown",
   "metadata": {
    "pycharm": {
     "name": "#%% md\n"
    }
   },
   "source": [
    "# Tutorial 01: Descriptive statistics and t-tests"
   ]
  },
  {
   "cell_type": "markdown",
   "metadata": {
    "pycharm": {
     "name": "#%% md\n"
    }
   },
   "source": [
    "## Task 1: Descriptive Statistics of the *Film* data set"
   ]
  },
  {
   "cell_type": "markdown",
   "source": [
    "Using appropriate descriptive statistics, describe the *Film* data set"
   ],
   "metadata": {
    "collapsed": false,
    "pycharm": {
     "name": "#%% md\n"
    }
   }
  },
  {
   "cell_type": "code",
   "execution_count": 2,
   "metadata": {
    "pycharm": {
     "name": "#%%\n"
    }
   },
   "outputs": [],
   "source": [
    "# import pandas library and load the data set\n",
    "import pandas as pd\n",
    "film = pd.read_csv(\"../Data/film.csv\").drop(\"Unnamed: 0\", axis=1)"
   ]
  },
  {
   "cell_type": "code",
   "execution_count": 3,
   "metadata": {
    "pycharm": {
     "name": "#%%\n"
    }
   },
   "outputs": [
    {
     "data": {
      "text/plain": "   Man  Movie   fMan           fMovie\n0    0      5  woman  highly negative\n1    0      5  woman  highly negative\n2    1      2    man         positive\n3    0      2  woman         positive\n4    0      4  woman         negative",
      "text/html": "<div>\n<style scoped>\n    .dataframe tbody tr th:only-of-type {\n        vertical-align: middle;\n    }\n\n    .dataframe tbody tr th {\n        vertical-align: top;\n    }\n\n    .dataframe thead th {\n        text-align: right;\n    }\n</style>\n<table border=\"1\" class=\"dataframe\">\n  <thead>\n    <tr style=\"text-align: right;\">\n      <th></th>\n      <th>Man</th>\n      <th>Movie</th>\n      <th>fMan</th>\n      <th>fMovie</th>\n    </tr>\n  </thead>\n  <tbody>\n    <tr>\n      <th>0</th>\n      <td>0</td>\n      <td>5</td>\n      <td>woman</td>\n      <td>highly negative</td>\n    </tr>\n    <tr>\n      <th>1</th>\n      <td>0</td>\n      <td>5</td>\n      <td>woman</td>\n      <td>highly negative</td>\n    </tr>\n    <tr>\n      <th>2</th>\n      <td>1</td>\n      <td>2</td>\n      <td>man</td>\n      <td>positive</td>\n    </tr>\n    <tr>\n      <th>3</th>\n      <td>0</td>\n      <td>2</td>\n      <td>woman</td>\n      <td>positive</td>\n    </tr>\n    <tr>\n      <th>4</th>\n      <td>0</td>\n      <td>4</td>\n      <td>woman</td>\n      <td>negative</td>\n    </tr>\n  </tbody>\n</table>\n</div>"
     },
     "execution_count": 3,
     "metadata": {},
     "output_type": "execute_result"
    }
   ],
   "source": [
    "# show first 5 obs.\n",
    "film.head()"
   ]
  },
  {
   "cell_type": "markdown",
   "source": [
    "Because all the categorical variables are coded into numeric values, I use only the latter to create the\n",
    "descriptive stats"
   ],
   "metadata": {
    "collapsed": false,
    "pycharm": {
     "name": "#%% md\n"
    }
   }
  },
  {
   "cell_type": "code",
   "execution_count": 4,
   "outputs": [
    {
     "data": {
      "text/plain": "               Man        Movie\ncount  1322.000000  1322.000000\nmean      0.444024     3.149017\nstd       0.497045     1.115456\nmin       0.000000     1.000000\n25%       0.000000     2.000000\n50%       0.000000     3.000000\n75%       1.000000     4.000000\nmax       1.000000     5.000000",
      "text/html": "<div>\n<style scoped>\n    .dataframe tbody tr th:only-of-type {\n        vertical-align: middle;\n    }\n\n    .dataframe tbody tr th {\n        vertical-align: top;\n    }\n\n    .dataframe thead th {\n        text-align: right;\n    }\n</style>\n<table border=\"1\" class=\"dataframe\">\n  <thead>\n    <tr style=\"text-align: right;\">\n      <th></th>\n      <th>Man</th>\n      <th>Movie</th>\n    </tr>\n  </thead>\n  <tbody>\n    <tr>\n      <th>count</th>\n      <td>1322.000000</td>\n      <td>1322.000000</td>\n    </tr>\n    <tr>\n      <th>mean</th>\n      <td>0.444024</td>\n      <td>3.149017</td>\n    </tr>\n    <tr>\n      <th>std</th>\n      <td>0.497045</td>\n      <td>1.115456</td>\n    </tr>\n    <tr>\n      <th>min</th>\n      <td>0.000000</td>\n      <td>1.000000</td>\n    </tr>\n    <tr>\n      <th>25%</th>\n      <td>0.000000</td>\n      <td>2.000000</td>\n    </tr>\n    <tr>\n      <th>50%</th>\n      <td>0.000000</td>\n      <td>3.000000</td>\n    </tr>\n    <tr>\n      <th>75%</th>\n      <td>1.000000</td>\n      <td>4.000000</td>\n    </tr>\n    <tr>\n      <th>max</th>\n      <td>1.000000</td>\n      <td>5.000000</td>\n    </tr>\n  </tbody>\n</table>\n</div>"
     },
     "execution_count": 4,
     "metadata": {},
     "output_type": "execute_result"
    }
   ],
   "source": [
    "# all\n",
    "film.select_dtypes(include=\"number\").describe()"
   ],
   "metadata": {
    "collapsed": false,
    "pycharm": {
     "name": "#%%\n"
    }
   }
  },
  {
   "cell_type": "code",
   "execution_count": 5,
   "outputs": [
    {
     "data": {
      "text/plain": "Man                   0           1\nMovie count  735.000000  587.000000\n      mean     3.251701    3.020443\n      std      1.125888    1.089631\n      min      1.000000    1.000000\n      25%      2.000000    2.000000\n      50%      3.000000    3.000000\n      75%      4.000000    4.000000\n      max      5.000000    5.000000",
      "text/html": "<div>\n<style scoped>\n    .dataframe tbody tr th:only-of-type {\n        vertical-align: middle;\n    }\n\n    .dataframe tbody tr th {\n        vertical-align: top;\n    }\n\n    .dataframe thead th {\n        text-align: right;\n    }\n</style>\n<table border=\"1\" class=\"dataframe\">\n  <thead>\n    <tr style=\"text-align: right;\">\n      <th></th>\n      <th>Man</th>\n      <th>0</th>\n      <th>1</th>\n    </tr>\n  </thead>\n  <tbody>\n    <tr>\n      <th rowspan=\"8\" valign=\"top\">Movie</th>\n      <th>count</th>\n      <td>735.000000</td>\n      <td>587.000000</td>\n    </tr>\n    <tr>\n      <th>mean</th>\n      <td>3.251701</td>\n      <td>3.020443</td>\n    </tr>\n    <tr>\n      <th>std</th>\n      <td>1.125888</td>\n      <td>1.089631</td>\n    </tr>\n    <tr>\n      <th>min</th>\n      <td>1.000000</td>\n      <td>1.000000</td>\n    </tr>\n    <tr>\n      <th>25%</th>\n      <td>2.000000</td>\n      <td>2.000000</td>\n    </tr>\n    <tr>\n      <th>50%</th>\n      <td>3.000000</td>\n      <td>3.000000</td>\n    </tr>\n    <tr>\n      <th>75%</th>\n      <td>4.000000</td>\n      <td>4.000000</td>\n    </tr>\n    <tr>\n      <th>max</th>\n      <td>5.000000</td>\n      <td>5.000000</td>\n    </tr>\n  </tbody>\n</table>\n</div>"
     },
     "execution_count": 5,
     "metadata": {},
     "output_type": "execute_result"
    }
   ],
   "source": [
    "# grouped by Man variable\n",
    "film.groupby(\"Man\").describe().transpose()"
   ],
   "metadata": {
    "collapsed": false,
    "pycharm": {
     "name": "#%%\n"
    }
   }
  },
  {
   "cell_type": "markdown",
   "source": [
    "It might be also useful to visualize the results:"
   ],
   "metadata": {
    "collapsed": false,
    "pycharm": {
     "name": "#%% md\n"
    }
   }
  },
  {
   "cell_type": "code",
   "execution_count": 6,
   "outputs": [
    {
     "data": {
      "text/plain": "<AxesSubplot:xlabel='fMovie', ylabel='Count'>"
     },
     "execution_count": 6,
     "metadata": {},
     "output_type": "execute_result"
    },
    {
     "data": {
      "text/plain": "<Figure size 432x288 with 1 Axes>",
      "image/png": "[encoded data removed]"
     },
     "metadata": {},
     "output_type": "display_data"
    }
   ],
   "source": [
    "import seaborn as sns\n",
    "import matplotlib.pyplot as plt\n",
    "sns.histplot(film.sort_values(\"Movie\"), x=\"fMovie\")"
   ],
   "metadata": {
    "collapsed": false,
    "pycharm": {
     "name": "#%%\n"
    }
   }
  },
  {
   "cell_type": "code",
   "execution_count": 7,
   "metadata": {
    "pycharm": {
     "name": "#%%\n"
    }
   },
   "outputs": [
    {
     "data": {
      "text/plain": "([0, 1, 2, 3, 4],\n [Text(0, 0, ''),\n  Text(0, 0, ''),\n  Text(0, 0, ''),\n  Text(0, 0, ''),\n  Text(0, 0, '')])"
     },
     "execution_count": 7,
     "metadata": {},
     "output_type": "execute_result"
    },
    {
     "data": {
      "text/plain": "<Figure size 432x288 with 1 Axes>",
      "image/png": "[encoded data removed]"
     },
     "metadata": {},
     "output_type": "display_data"
    }
   ],
   "source": [
    "sns.histplot(film.sort_values(\"Movie\"), x=\"fMovie\", hue=\"fMan\", multiple=\"dodge\")\n",
    "plt.xticks(rotation=45)"
   ]
  },
  {
   "cell_type": "markdown",
   "metadata": {
    "pycharm": {
     "name": "#%% md\n"
    }
   },
   "source": [
    "## Task 2 Descriptive Statistics of the *Marriage* data set"
   ]
  },
  {
   "cell_type": "code",
   "execution_count": 8,
   "metadata": {
    "pycharm": {
     "name": "#%%\n"
    }
   },
   "outputs": [],
   "source": [
    "# load the data set\n",
    "marriage = pd.read_csv(\"../Data/h_marriage.csv\").drop(\"Unnamed: 0\", axis=1)"
   ]
  },
  {
   "cell_type": "code",
   "execution_count": 9,
   "metadata": {
    "pycharm": {
     "name": "#%%\n"
    }
   },
   "outputs": [
    {
     "data": {
      "text/plain": "   ownhh  getmar\n0      2       4\n1      2       5\n2      3       3\n3      1       3\n4      2       3",
      "text/html": "<div>\n<style scoped>\n    .dataframe tbody tr th:only-of-type {\n        vertical-align: middle;\n    }\n\n    .dataframe tbody tr th {\n        vertical-align: top;\n    }\n\n    .dataframe thead th {\n        text-align: right;\n    }\n</style>\n<table border=\"1\" class=\"dataframe\">\n  <thead>\n    <tr style=\"text-align: right;\">\n      <th></th>\n      <th>ownhh</th>\n      <th>getmar</th>\n    </tr>\n  </thead>\n  <tbody>\n    <tr>\n      <th>0</th>\n      <td>2</td>\n      <td>4</td>\n    </tr>\n    <tr>\n      <th>1</th>\n      <td>2</td>\n      <td>5</td>\n    </tr>\n    <tr>\n      <th>2</th>\n      <td>3</td>\n      <td>3</td>\n    </tr>\n    <tr>\n      <th>3</th>\n      <td>1</td>\n      <td>3</td>\n    </tr>\n    <tr>\n      <th>4</th>\n      <td>2</td>\n      <td>3</td>\n    </tr>\n  </tbody>\n</table>\n</div>"
     },
     "execution_count": 9,
     "metadata": {},
     "output_type": "execute_result"
    }
   ],
   "source": [
    "# show first 5 rows\n",
    "marriage.head()"
   ]
  },
  {
   "cell_type": "code",
   "execution_count": 10,
   "metadata": {
    "pycharm": {
     "name": "#%%\n"
    }
   },
   "outputs": [
    {
     "data": {
      "text/plain": "             ownhh       getmar\ncount  1346.000000  1346.000000\nmean      2.348440     3.149331\nstd       1.147028     1.407622\nmin       1.000000     1.000000\n25%       1.000000     2.000000\n50%       2.000000     3.000000\n75%       3.000000     4.000000\nmax       5.000000     5.000000",
      "text/html": "<div>\n<style scoped>\n    .dataframe tbody tr th:only-of-type {\n        vertical-align: middle;\n    }\n\n    .dataframe tbody tr th {\n        vertical-align: top;\n    }\n\n    .dataframe thead th {\n        text-align: right;\n    }\n</style>\n<table border=\"1\" class=\"dataframe\">\n  <thead>\n    <tr style=\"text-align: right;\">\n      <th></th>\n      <th>ownhh</th>\n      <th>getmar</th>\n    </tr>\n  </thead>\n  <tbody>\n    <tr>\n      <th>count</th>\n      <td>1346.000000</td>\n      <td>1346.000000</td>\n    </tr>\n    <tr>\n      <th>mean</th>\n      <td>2.348440</td>\n      <td>3.149331</td>\n    </tr>\n    <tr>\n      <th>std</th>\n      <td>1.147028</td>\n      <td>1.407622</td>\n    </tr>\n    <tr>\n      <th>min</th>\n      <td>1.000000</td>\n      <td>1.000000</td>\n    </tr>\n    <tr>\n      <th>25%</th>\n      <td>1.000000</td>\n      <td>2.000000</td>\n    </tr>\n    <tr>\n      <th>50%</th>\n      <td>2.000000</td>\n      <td>3.000000</td>\n    </tr>\n    <tr>\n      <th>75%</th>\n      <td>3.000000</td>\n      <td>4.000000</td>\n    </tr>\n    <tr>\n      <th>max</th>\n      <td>5.000000</td>\n      <td>5.000000</td>\n    </tr>\n  </tbody>\n</table>\n</div>"
     },
     "execution_count": 10,
     "metadata": {},
     "output_type": "execute_result"
    }
   ],
   "source": [
    "# descriptive stats\n",
    "marriage.describe()"
   ]
  },
  {
   "cell_type": "code",
   "execution_count": 11,
   "outputs": [
    {
     "data": {
      "text/plain": "      index variable  value\n0         0    ownhh      2\n1346      0   getmar      4\n1347      1   getmar      5\n1         1    ownhh      2\n2         2    ownhh      3\n1348      2   getmar      3\n3         3    ownhh      1\n1349      3   getmar      3\n4         4    ownhh      2\n1350      4   getmar      3\n1351      5   getmar      5\n5         5    ownhh      4\n1352      6   getmar      2\n6         6    ownhh      2\n1353      7   getmar      3",
      "text/html": "<div>\n<style scoped>\n    .dataframe tbody tr th:only-of-type {\n        vertical-align: middle;\n    }\n\n    .dataframe tbody tr th {\n        vertical-align: top;\n    }\n\n    .dataframe thead th {\n        text-align: right;\n    }\n</style>\n<table border=\"1\" class=\"dataframe\">\n  <thead>\n    <tr style=\"text-align: right;\">\n      <th></th>\n      <th>index</th>\n      <th>variable</th>\n      <th>value</th>\n    </tr>\n  </thead>\n  <tbody>\n    <tr>\n      <th>0</th>\n      <td>0</td>\n      <td>ownhh</td>\n      <td>2</td>\n    </tr>\n    <tr>\n      <th>1346</th>\n      <td>0</td>\n      <td>getmar</td>\n      <td>4</td>\n    </tr>\n    <tr>\n      <th>1347</th>\n      <td>1</td>\n      <td>getmar</td>\n      <td>5</td>\n    </tr>\n    <tr>\n      <th>1</th>\n      <td>1</td>\n      <td>ownhh</td>\n      <td>2</td>\n    </tr>\n    <tr>\n      <th>2</th>\n      <td>2</td>\n      <td>ownhh</td>\n      <td>3</td>\n    </tr>\n    <tr>\n      <th>1348</th>\n      <td>2</td>\n      <td>getmar</td>\n      <td>3</td>\n    </tr>\n    <tr>\n      <th>3</th>\n      <td>3</td>\n      <td>ownhh</td>\n      <td>1</td>\n    </tr>\n    <tr>\n      <th>1349</th>\n      <td>3</td>\n      <td>getmar</td>\n      <td>3</td>\n    </tr>\n    <tr>\n      <th>4</th>\n      <td>4</td>\n      <td>ownhh</td>\n      <td>2</td>\n    </tr>\n    <tr>\n      <th>1350</th>\n      <td>4</td>\n      <td>getmar</td>\n      <td>3</td>\n    </tr>\n    <tr>\n      <th>1351</th>\n      <td>5</td>\n      <td>getmar</td>\n      <td>5</td>\n    </tr>\n    <tr>\n      <th>5</th>\n      <td>5</td>\n      <td>ownhh</td>\n      <td>4</td>\n    </tr>\n    <tr>\n      <th>1352</th>\n      <td>6</td>\n      <td>getmar</td>\n      <td>2</td>\n    </tr>\n    <tr>\n      <th>6</th>\n      <td>6</td>\n      <td>ownhh</td>\n      <td>2</td>\n    </tr>\n    <tr>\n      <th>1353</th>\n      <td>7</td>\n      <td>getmar</td>\n      <td>3</td>\n    </tr>\n  </tbody>\n</table>\n</div>"
     },
     "execution_count": 11,
     "metadata": {},
     "output_type": "execute_result"
    }
   ],
   "source": [
    "# convert the data set to the long format (to plot distributions side by side\n",
    "melt_mar = marriage.reset_index().melt(['index']).sort_values(\"index\")\n",
    "melt_mar.head(15)"
   ],
   "metadata": {
    "collapsed": false,
    "pycharm": {
     "name": "#%%\n"
    }
   }
  },
  {
   "cell_type": "code",
   "execution_count": 12,
   "outputs": [
    {
     "data": {
      "text/plain": "<Figure size 360x360 with 1 Axes>",
      "image/png": "[encoded data removed]"
     },
     "metadata": {},
     "output_type": "display_data"
    },
    {
     "data": {
      "text/plain": "<Figure size 360x360 with 1 Axes>",
      "image/png": "[encoded data removed]"
     },
     "metadata": {},
     "output_type": "display_data"
    }
   ],
   "source": [
    "fig = sns.displot(marriage['ownhh'], color=\"r\")\n",
    "fig = sns.displot(marriage['getmar'], color=\"b\")\n",
    "plt.show()"
   ],
   "metadata": {
    "collapsed": false,
    "pycharm": {
     "name": "#%%\n"
    }
   }
  },
  {
   "cell_type": "code",
   "execution_count": 13,
   "metadata": {
    "pycharm": {
     "name": "#%%\n"
    }
   },
   "outputs": [
    {
     "data": {
      "text/plain": "<seaborn.axisgrid.FacetGrid at 0x1d56e1dc610>"
     },
     "execution_count": 13,
     "metadata": {},
     "output_type": "execute_result"
    },
    {
     "data": {
      "text/plain": "<Figure size 427.375x360 with 1 Axes>",
      "image/png": "[encoded data removed]"
     },
     "metadata": {},
     "output_type": "display_data"
    }
   ],
   "source": [
    "sns.displot(melt_mar, x=\"value\", hue=\"variable\", multiple=\"dodge\")"
   ]
  },
  {
   "cell_type": "markdown",
   "source": [
    "We may see that both distributions differ. It might be interesting to see the correlation of the two variables:"
   ],
   "metadata": {
    "collapsed": false,
    "pycharm": {
     "name": "#%% md\n"
    }
   }
  },
  {
   "cell_type": "code",
   "execution_count": 24,
   "outputs": [],
   "source": [
    "from scipy import stats"
   ],
   "metadata": {
    "collapsed": false,
    "pycharm": {
     "name": "#%%\n"
    }
   }
  },
  {
   "cell_type": "code",
   "execution_count": 25,
   "metadata": {
    "pycharm": {
     "name": "#%%\n"
    }
   },
   "outputs": [
    {
     "name": "stdout",
     "output_type": "stream",
     "text": [
      "Correlation is 0.08056845733470659 \n",
      "P_value of the zero correlation test is  0.0031\n"
     ]
    }
   ],
   "source": [
    "r_pearson, p_val = stats.pearsonr(marriage['ownhh'], marriage['getmar'])\n",
    "print(f\"Correlation is {r_pearson} \\nP_value of the zero correlation test is {p_val: .4f}\")"
   ]
  },
  {
   "cell_type": "markdown",
   "metadata": {
    "pycharm": {
     "name": "#%% md\n"
    }
   },
   "source": [
    "## Task 3: T-tests of the *film* data set"
   ]
  },
  {
   "cell_type": "code",
   "execution_count": 16,
   "metadata": {
    "pycharm": {
     "name": "#%%\n"
    }
   },
   "outputs": [
    {
     "data": {
      "text/plain": "   Man  Movie   fMan           fMovie\n0    0      5  woman  highly negative\n1    0      5  woman  highly negative\n2    1      2    man         positive\n3    0      2  woman         positive\n4    0      4  woman         negative\n5    1      4    man         negative\n6    0      4  woman         negative\n7    0      4  woman         negative\n8    0      3  woman          neutral\n9    0      4  woman         negative",
      "text/html": "<div>\n<style scoped>\n    .dataframe tbody tr th:only-of-type {\n        vertical-align: middle;\n    }\n\n    .dataframe tbody tr th {\n        vertical-align: top;\n    }\n\n    .dataframe thead th {\n        text-align: right;\n    }\n</style>\n<table border=\"1\" class=\"dataframe\">\n  <thead>\n    <tr style=\"text-align: right;\">\n      <th></th>\n      <th>Man</th>\n      <th>Movie</th>\n      <th>fMan</th>\n      <th>fMovie</th>\n    </tr>\n  </thead>\n  <tbody>\n    <tr>\n      <th>0</th>\n      <td>0</td>\n      <td>5</td>\n      <td>woman</td>\n      <td>highly negative</td>\n    </tr>\n    <tr>\n      <th>1</th>\n      <td>0</td>\n      <td>5</td>\n      <td>woman</td>\n      <td>highly negative</td>\n    </tr>\n    <tr>\n      <th>2</th>\n      <td>1</td>\n      <td>2</td>\n      <td>man</td>\n      <td>positive</td>\n    </tr>\n    <tr>\n      <th>3</th>\n      <td>0</td>\n      <td>2</td>\n      <td>woman</td>\n      <td>positive</td>\n    </tr>\n    <tr>\n      <th>4</th>\n      <td>0</td>\n      <td>4</td>\n      <td>woman</td>\n      <td>negative</td>\n    </tr>\n    <tr>\n      <th>5</th>\n      <td>1</td>\n      <td>4</td>\n      <td>man</td>\n      <td>negative</td>\n    </tr>\n    <tr>\n      <th>6</th>\n      <td>0</td>\n      <td>4</td>\n      <td>woman</td>\n      <td>negative</td>\n    </tr>\n    <tr>\n      <th>7</th>\n      <td>0</td>\n      <td>4</td>\n      <td>woman</td>\n      <td>negative</td>\n    </tr>\n    <tr>\n      <th>8</th>\n      <td>0</td>\n      <td>3</td>\n      <td>woman</td>\n      <td>neutral</td>\n    </tr>\n    <tr>\n      <th>9</th>\n      <td>0</td>\n      <td>4</td>\n      <td>woman</td>\n      <td>negative</td>\n    </tr>\n  </tbody>\n</table>\n</div>"
     },
     "execution_count": 16,
     "metadata": {},
     "output_type": "execute_result"
    }
   ],
   "source": [
    "# first 10 obs.\n",
    "film.head(10)"
   ]
  },
  {
   "cell_type": "code",
   "execution_count": 17,
   "outputs": [
    {
     "data": {
      "text/plain": "     Mean rating\nMan             \n0       3.251701\n1       3.020443",
      "text/html": "<div>\n<style scoped>\n    .dataframe tbody tr th:only-of-type {\n        vertical-align: middle;\n    }\n\n    .dataframe tbody tr th {\n        vertical-align: top;\n    }\n\n    .dataframe thead th {\n        text-align: right;\n    }\n</style>\n<table border=\"1\" class=\"dataframe\">\n  <thead>\n    <tr style=\"text-align: right;\">\n      <th></th>\n      <th>Mean rating</th>\n    </tr>\n    <tr>\n      <th>Man</th>\n      <th></th>\n    </tr>\n  </thead>\n  <tbody>\n    <tr>\n      <th>0</th>\n      <td>3.251701</td>\n    </tr>\n    <tr>\n      <th>1</th>\n      <td>3.020443</td>\n    </tr>\n  </tbody>\n</table>\n</div>"
     },
     "execution_count": 17,
     "metadata": {},
     "output_type": "execute_result"
    }
   ],
   "source": [
    "# get mean ratings grouped by Man variable\n",
    "film.select_dtypes('number').groupby('Man').mean().rename(columns={\"Movie\": 'Mean rating'})"
   ],
   "metadata": {
    "collapsed": false,
    "pycharm": {
     "name": "#%%\n"
    }
   }
  },
  {
   "cell_type": "code",
   "execution_count": 31,
   "outputs": [],
   "source": [
    "def compute_ttest(data, var, groupvar, val0, val1):\n",
    "    \"\"\"\n",
    "    Compute t test for two independent samples\n",
    "    :param data: original dat set\n",
    "    :param var: variable to compare the means\n",
    "    :param groupvar: grouping variable\n",
    "    :param val0: value of var for the first category\n",
    "    :param val1: value of var for the second category\n",
    "    :return: tuple of arrays: t satatistic + p value\n",
    "    \"\"\"\n",
    "    t, p_val = stats.ttest_ind(data.loc[data[groupvar]==val0][[var]], data.loc[data[groupvar]==val1][[var]])\n",
    "    print(f't_stat value is: {t[0]: .3f} \\np_value is: {p_val[0]: .5f}')\n",
    "    return t, p_val"
   ],
   "metadata": {
    "collapsed": false,
    "pycharm": {
     "name": "#%%\n"
    }
   }
  },
  {
   "cell_type": "code",
   "execution_count": 32,
   "outputs": [
    {
     "name": "stdout",
     "output_type": "stream",
     "text": [
      "t_stat value is: -3.764 \n",
      "p_value is:  0.00017\n"
     ]
    },
    {
     "data": {
      "text/plain": "(array([-3.76395657]), array([0.00017459]))"
     },
     "execution_count": 32,
     "metadata": {},
     "output_type": "execute_result"
    }
   ],
   "source": [
    "compute_ttest(film, 'Movie', 'Man', 1, 0)"
   ],
   "metadata": {
    "collapsed": false,
    "pycharm": {
     "name": "#%%\n"
    }
   }
  },
  {
   "cell_type": "markdown",
   "source": [
    "We may see that means differ when conditioned on Sex. But are they statistically significant?"
   ],
   "metadata": {
    "collapsed": false,
    "pycharm": {
     "name": "#%% md\n"
    }
   }
  },
  {
   "cell_type": "markdown",
   "source": [
    "The null hypothesis of the equality of means can be rejected. Unfortunately, the none of the standard pyton libraries offers to\n",
    "compute the CI for the Welch's t-test directly. One would have to write his custom implementation which I find unnecessary in\n",
    "this case."
   ],
   "metadata": {
    "collapsed": false,
    "pycharm": {
     "name": "#%% md\n"
    }
   }
  },
  {
   "cell_type": "markdown",
   "metadata": {
    "pycharm": {
     "name": "#%% md\n"
    }
   },
   "source": [
    "## Task 04"
   ]
  },
  {
   "cell_type": "code",
   "execution_count": 33,
   "metadata": {
    "pycharm": {
     "name": "#%%\n"
    }
   },
   "outputs": [
    {
     "data": {
      "text/plain": "   ownhh  degree fdegree fdegree4\n0      1       0     <HS      <HS\n1      1       0     <HS      <HS\n2      1       0     <HS      <HS\n3      1       0     <HS      <HS\n4      1       0     <HS      <HS",
      "text/html": "<div>\n<style scoped>\n    .dataframe tbody tr th:only-of-type {\n        vertical-align: middle;\n    }\n\n    .dataframe tbody tr th {\n        vertical-align: top;\n    }\n\n    .dataframe thead th {\n        text-align: right;\n    }\n</style>\n<table border=\"1\" class=\"dataframe\">\n  <thead>\n    <tr style=\"text-align: right;\">\n      <th></th>\n      <th>ownhh</th>\n      <th>degree</th>\n      <th>fdegree</th>\n      <th>fdegree4</th>\n    </tr>\n  </thead>\n  <tbody>\n    <tr>\n      <th>0</th>\n      <td>1</td>\n      <td>0</td>\n      <td>&lt;HS</td>\n      <td>&lt;HS</td>\n    </tr>\n    <tr>\n      <th>1</th>\n      <td>1</td>\n      <td>0</td>\n      <td>&lt;HS</td>\n      <td>&lt;HS</td>\n    </tr>\n    <tr>\n      <th>2</th>\n      <td>1</td>\n      <td>0</td>\n      <td>&lt;HS</td>\n      <td>&lt;HS</td>\n    </tr>\n    <tr>\n      <th>3</th>\n      <td>1</td>\n      <td>0</td>\n      <td>&lt;HS</td>\n      <td>&lt;HS</td>\n    </tr>\n    <tr>\n      <th>4</th>\n      <td>1</td>\n      <td>0</td>\n      <td>&lt;HS</td>\n      <td>&lt;HS</td>\n    </tr>\n  </tbody>\n</table>\n</div>"
     },
     "execution_count": 33,
     "metadata": {},
     "output_type": "execute_result"
    }
   ],
   "source": [
    "educ = pd.read_csv(\"../Data/h_education.csv\").drop('Unnamed: 0', axis=1)\n",
    "educ.head()"
   ]
  },
  {
   "cell_type": "code",
   "execution_count": 34,
   "outputs": [],
   "source": [
    "educ_levels = educ.fdegree.unique()"
   ],
   "metadata": {
    "collapsed": false,
    "pycharm": {
     "name": "#%%\n"
    }
   }
  },
  {
   "cell_type": "code",
   "execution_count": 41,
   "outputs": [],
   "source": [
    "from itertools import product\n",
    "combinations = [i for i in product(educ_levels, educ_levels)]"
   ],
   "metadata": {
    "collapsed": false,
    "pycharm": {
     "name": "#%%\n"
    }
   }
  },
  {
   "cell_type": "code",
   "execution_count": 42,
   "outputs": [
    {
     "name": "stdout",
     "output_type": "stream",
     "text": [
      "('<HS', 'HS')\n",
      "\n",
      "t_stat value is: -0.558 \n",
      "p_value is:  0.57677\n",
      "\n",
      "('<HS', 'JC')\n",
      "\n",
      "t_stat value is:  1.173 \n",
      "p_value is:  0.24186\n",
      "\n",
      "('<HS', 'BA')\n",
      "\n",
      "t_stat value is:  1.928 \n",
      "p_value is:  0.05455\n",
      "\n",
      "('<HS', 'Grad')\n",
      "\n",
      "t_stat value is:  1.969 \n",
      "p_value is:  0.04993\n",
      "\n",
      "('HS', '<HS')\n",
      "\n",
      "t_stat value is:  0.558 \n",
      "p_value is:  0.57677\n",
      "\n",
      "('HS', 'JC')\n",
      "\n",
      "t_stat value is:  1.791 \n",
      "p_value is:  0.07368\n",
      "\n",
      "('HS', 'BA')\n",
      "\n",
      "t_stat value is:  3.011 \n",
      "p_value is:  0.00267\n",
      "\n",
      "('HS', 'Grad')\n",
      "\n",
      "t_stat value is:  2.672 \n",
      "p_value is:  0.00768\n",
      "\n",
      "('JC', '<HS')\n",
      "\n",
      "t_stat value is: -1.173 \n",
      "p_value is:  0.24186\n",
      "\n",
      "('JC', 'HS')\n",
      "\n",
      "t_stat value is: -1.791 \n",
      "p_value is:  0.07368\n",
      "\n",
      "('JC', 'BA')\n",
      "\n",
      "t_stat value is:  0.433 \n",
      "p_value is:  0.66504\n",
      "\n",
      "('JC', 'Grad')\n",
      "\n",
      "t_stat value is:  0.699 \n",
      "p_value is:  0.48547\n",
      "\n",
      "('BA', '<HS')\n",
      "\n",
      "t_stat value is: -1.928 \n",
      "p_value is:  0.05455\n",
      "\n",
      "('BA', 'HS')\n",
      "\n",
      "t_stat value is: -3.011 \n",
      "p_value is:  0.00267\n",
      "\n",
      "('BA', 'JC')\n",
      "\n",
      "t_stat value is: -0.433 \n",
      "p_value is:  0.66504\n",
      "\n",
      "('BA', 'Grad')\n",
      "\n",
      "t_stat value is:  0.359 \n",
      "p_value is:  0.71970\n",
      "\n",
      "('Grad', '<HS')\n",
      "\n",
      "t_stat value is: -1.969 \n",
      "p_value is:  0.04993\n",
      "\n",
      "('Grad', 'HS')\n",
      "\n",
      "t_stat value is: -2.672 \n",
      "p_value is:  0.00768\n",
      "\n",
      "('Grad', 'JC')\n",
      "\n",
      "t_stat value is: -0.699 \n",
      "p_value is:  0.48547\n",
      "\n",
      "('Grad', 'BA')\n",
      "\n",
      "t_stat value is: -0.359 \n",
      "p_value is:  0.71970\n",
      "\n"
     ]
    }
   ],
   "source": [
    "for elem in combinations:\n",
    "    if elem[0] != elem[1]:\n",
    "        print(f\"{elem}\\n\")\n",
    "        tmp = compute_ttest(educ, 'ownhh', 'fdegree',elem[0], elem[1])\n",
    "        print()\n"
   ],
   "metadata": {
    "collapsed": false,
    "pycharm": {
     "name": "#%%\n"
    }
   }
  },
  {
   "cell_type": "code",
   "execution_count": null,
   "outputs": [],
   "source": [
    "\n",
    "for elem in educ_levels:\n",
    "    print(elem)"
   ],
   "metadata": {
    "collapsed": false,
    "pycharm": {
     "name": "#%%\n"
    }
   }
  },
  {
   "cell_type": "code",
   "execution_count": null,
   "metadata": {
    "pycharm": {
     "name": "#%%\n"
    }
   },
   "outputs": [],
   "source": [
    "import pingouin as pg\n",
    "anova = pg.anova(data=educ, dv=\"ownhh\", between=\"fdegree4\", detailed=True)\n",
    "print(anova)"
   ]
  },
  {
   "cell_type": "code",
   "execution_count": null,
   "metadata": {
    "pycharm": {
     "name": "#%%\n"
    }
   },
   "outputs": [],
   "source": [
    "tukey = pg.pairwise_tukey(data=educ, dv=\"ownhh\", between=\"fdegree4\")"
   ]
  }
 ],
 "metadata": {
  "kernelspec": {
   "display_name": "Python 3.9.7 ('base')",
   "language": "python",
   "name": "python3"
  },
  "language_info": {
   "codemirror_mode": {
    "name": "ipython",
    "version": 3
   },
   "file_extension": ".py",
   "mimetype": "text/x-python",
   "name": "python",
   "nbconvert_exporter": "python",
   "pygments_lexer": "ipython3",
   "version": "3.9.7"
  },
  "orig_nbformat": 4,
  "vscode": {
   "interpreter": {
    "hash": "830b86ea7600a49451940bb09d13c842788ced1af83c77d7f8ac5a5027d43a79"
   }
  }
 },
 "nbformat": 4,
 "nbformat_minor": 2
}