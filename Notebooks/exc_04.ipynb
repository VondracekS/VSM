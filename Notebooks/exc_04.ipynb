{
 "cells": [
  {
   "cell_type": "code",
   "execution_count": 45,
   "metadata": {
    "pycharm": {
     "name": "#%%\n"
    }
   },
   "outputs": [],
   "source": [
    "import pandas as pd\n",
    "import numpy as np\n",
    "import os\n",
    "import seaborn as sns\n",
    "from matplotlib import pyplot as plt\n",
    "import factor_analyzer as fan\n",
    "\n",
    "from sklearn.decomposition import FactorAnalysis as FA\n",
    "from sklearn.decomposition import PCA\n",
    "from sklearn.preprocessing import StandardScaler"
   ]
  },
  {
   "cell_type": "code",
   "execution_count": 13,
   "metadata": {
    "pycharm": {
     "name": "#%%\n"
    }
   },
   "outputs": [],
   "source": [
    "os.getcwd()\n",
    "plt.rcParams['figure.figsize'] = [10, 5]"
   ]
  },
  {
   "cell_type": "code",
   "execution_count": 14,
   "metadata": {
    "pycharm": {
     "name": "#%%\n"
    }
   },
   "outputs": [
    {
     "data": {
      "text/html": [
       "<div>\n",
       "<style scoped>\n",
       "    .dataframe tbody tr th:only-of-type {\n",
       "        vertical-align: middle;\n",
       "    }\n",
       "\n",
       "    .dataframe tbody tr th {\n",
       "        vertical-align: top;\n",
       "    }\n",
       "\n",
       "    .dataframe thead th {\n",
       "        text-align: right;\n",
       "    }\n",
       "</style>\n",
       "<table border=\"1\" class=\"dataframe\">\n",
       "  <thead>\n",
       "    <tr style=\"text-align: right;\">\n",
       "      <th></th>\n",
       "      <th>AtWork1</th>\n",
       "      <th>AtWork2</th>\n",
       "      <th>AtWork3</th>\n",
       "      <th>Hobby1</th>\n",
       "      <th>Hobby2</th>\n",
       "      <th>AtHome1</th>\n",
       "      <th>AtHome2</th>\n",
       "      <th>AtHome3</th>\n",
       "      <th>General1</th>\n",
       "      <th>General2</th>\n",
       "    </tr>\n",
       "  </thead>\n",
       "  <tbody>\n",
       "    <tr>\n",
       "      <th>0</th>\n",
       "      <td>105.126</td>\n",
       "      <td>101.659</td>\n",
       "      <td>115.060</td>\n",
       "      <td>100.998</td>\n",
       "      <td>95.184</td>\n",
       "      <td>100.281</td>\n",
       "      <td>101.667</td>\n",
       "      <td>85.553</td>\n",
       "      <td>104.035</td>\n",
       "      <td>110.278</td>\n",
       "    </tr>\n",
       "    <tr>\n",
       "      <th>1</th>\n",
       "      <td>77.049</td>\n",
       "      <td>72.933</td>\n",
       "      <td>77.485</td>\n",
       "      <td>72.744</td>\n",
       "      <td>61.563</td>\n",
       "      <td>93.854</td>\n",
       "      <td>95.392</td>\n",
       "      <td>88.609</td>\n",
       "      <td>70.115</td>\n",
       "      <td>72.000</td>\n",
       "    </tr>\n",
       "    <tr>\n",
       "      <th>2</th>\n",
       "      <td>86.017</td>\n",
       "      <td>82.206</td>\n",
       "      <td>78.889</td>\n",
       "      <td>77.951</td>\n",
       "      <td>91.705</td>\n",
       "      <td>86.773</td>\n",
       "      <td>108.070</td>\n",
       "      <td>93.348</td>\n",
       "      <td>86.021</td>\n",
       "      <td>70.688</td>\n",
       "    </tr>\n",
       "    <tr>\n",
       "      <th>3</th>\n",
       "      <td>91.425</td>\n",
       "      <td>106.107</td>\n",
       "      <td>95.640</td>\n",
       "      <td>90.901</td>\n",
       "      <td>111.466</td>\n",
       "      <td>100.248</td>\n",
       "      <td>86.080</td>\n",
       "      <td>93.822</td>\n",
       "      <td>101.224</td>\n",
       "      <td>82.665</td>\n",
       "    </tr>\n",
       "    <tr>\n",
       "      <th>4</th>\n",
       "      <td>113.714</td>\n",
       "      <td>92.029</td>\n",
       "      <td>99.079</td>\n",
       "      <td>79.277</td>\n",
       "      <td>98.416</td>\n",
       "      <td>104.013</td>\n",
       "      <td>83.271</td>\n",
       "      <td>69.621</td>\n",
       "      <td>82.820</td>\n",
       "      <td>70.022</td>\n",
       "    </tr>\n",
       "    <tr>\n",
       "      <th>...</th>\n",
       "      <td>...</td>\n",
       "      <td>...</td>\n",
       "      <td>...</td>\n",
       "      <td>...</td>\n",
       "      <td>...</td>\n",
       "      <td>...</td>\n",
       "      <td>...</td>\n",
       "      <td>...</td>\n",
       "      <td>...</td>\n",
       "      <td>...</td>\n",
       "    </tr>\n",
       "    <tr>\n",
       "      <th>95</th>\n",
       "      <td>94.618</td>\n",
       "      <td>117.866</td>\n",
       "      <td>103.155</td>\n",
       "      <td>113.343</td>\n",
       "      <td>122.243</td>\n",
       "      <td>118.594</td>\n",
       "      <td>117.448</td>\n",
       "      <td>109.056</td>\n",
       "      <td>115.109</td>\n",
       "      <td>115.603</td>\n",
       "    </tr>\n",
       "    <tr>\n",
       "      <th>96</th>\n",
       "      <td>84.764</td>\n",
       "      <td>97.653</td>\n",
       "      <td>91.380</td>\n",
       "      <td>99.431</td>\n",
       "      <td>103.378</td>\n",
       "      <td>116.611</td>\n",
       "      <td>116.933</td>\n",
       "      <td>115.453</td>\n",
       "      <td>106.268</td>\n",
       "      <td>109.385</td>\n",
       "    </tr>\n",
       "    <tr>\n",
       "      <th>97</th>\n",
       "      <td>138.876</td>\n",
       "      <td>117.427</td>\n",
       "      <td>112.185</td>\n",
       "      <td>132.825</td>\n",
       "      <td>128.104</td>\n",
       "      <td>99.538</td>\n",
       "      <td>114.693</td>\n",
       "      <td>114.626</td>\n",
       "      <td>138.351</td>\n",
       "      <td>149.032</td>\n",
       "    </tr>\n",
       "    <tr>\n",
       "      <th>98</th>\n",
       "      <td>95.370</td>\n",
       "      <td>89.835</td>\n",
       "      <td>107.429</td>\n",
       "      <td>105.645</td>\n",
       "      <td>106.761</td>\n",
       "      <td>92.319</td>\n",
       "      <td>109.707</td>\n",
       "      <td>110.570</td>\n",
       "      <td>108.448</td>\n",
       "      <td>105.657</td>\n",
       "    </tr>\n",
       "    <tr>\n",
       "      <th>99</th>\n",
       "      <td>106.050</td>\n",
       "      <td>120.708</td>\n",
       "      <td>119.815</td>\n",
       "      <td>101.847</td>\n",
       "      <td>94.961</td>\n",
       "      <td>75.864</td>\n",
       "      <td>93.168</td>\n",
       "      <td>93.385</td>\n",
       "      <td>109.357</td>\n",
       "      <td>83.794</td>\n",
       "    </tr>\n",
       "  </tbody>\n",
       "</table>\n",
       "<p>100 rows × 10 columns</p>\n",
       "</div>"
      ],
      "text/plain": [
       "    AtWork1  AtWork2  AtWork3   Hobby1   Hobby2  AtHome1  AtHome2  AtHome3  \\\n",
       "0   105.126  101.659  115.060  100.998   95.184  100.281  101.667   85.553   \n",
       "1    77.049   72.933   77.485   72.744   61.563   93.854   95.392   88.609   \n",
       "2    86.017   82.206   78.889   77.951   91.705   86.773  108.070   93.348   \n",
       "3    91.425  106.107   95.640   90.901  111.466  100.248   86.080   93.822   \n",
       "4   113.714   92.029   99.079   79.277   98.416  104.013   83.271   69.621   \n",
       "..      ...      ...      ...      ...      ...      ...      ...      ...   \n",
       "95   94.618  117.866  103.155  113.343  122.243  118.594  117.448  109.056   \n",
       "96   84.764   97.653   91.380   99.431  103.378  116.611  116.933  115.453   \n",
       "97  138.876  117.427  112.185  132.825  128.104   99.538  114.693  114.626   \n",
       "98   95.370   89.835  107.429  105.645  106.761   92.319  109.707  110.570   \n",
       "99  106.050  120.708  119.815  101.847   94.961   75.864   93.168   93.385   \n",
       "\n",
       "    General1  General2  \n",
       "0    104.035   110.278  \n",
       "1     70.115    72.000  \n",
       "2     86.021    70.688  \n",
       "3    101.224    82.665  \n",
       "4     82.820    70.022  \n",
       "..       ...       ...  \n",
       "95   115.109   115.603  \n",
       "96   106.268   109.385  \n",
       "97   138.351   149.032  \n",
       "98   108.448   105.657  \n",
       "99   109.357    83.794  \n",
       "\n",
       "[100 rows x 10 columns]"
      ]
     },
     "execution_count": 14,
     "metadata": {},
     "output_type": "execute_result"
    }
   ],
   "source": [
    "data_satisfaction = pd.read_csv(\"../Data/satisfaction.csv\")\n",
    "data_satisfaction"
   ]
  },
  {
   "cell_type": "code",
   "execution_count": 25,
   "metadata": {
    "pycharm": {
     "name": "#%%\n"
    }
   },
   "outputs": [],
   "source": [
    "scaler = StandardScaler()\n",
    "data_std = pd.DataFrame(scaler.fit_transform(data_satisfaction), columns = data_satisfaction.columns)"
   ]
  },
  {
   "cell_type": "code",
   "execution_count": 26,
   "metadata": {
    "pycharm": {
     "name": "#%%\n"
    }
   },
   "outputs": [
    {
     "data": {
      "text/plain": [
       "<AxesSubplot:>"
      ]
     },
     "execution_count": 26,
     "metadata": {},
     "output_type": "execute_result"
    },
    {
     "data": {
      "image/png": "[encoded data removed]",
      "text/plain": [
       "<Figure size 720x360 with 2 Axes>"
      ]
     },
     "metadata": {
      "needs_background": "light"
     },
     "output_type": "display_data"
    }
   ],
   "source": [
    "sns.heatmap(data_std.corr(), cmap=\"viridis\")"
   ]
  },
  {
   "cell_type": "code",
   "execution_count": 28,
   "metadata": {
    "pycharm": {
     "name": "#%%\n"
    }
   },
   "outputs": [],
   "source": [
    "pca_satisfaction = PCA(3).fit(data_std)"
   ]
  },
  {
   "cell_type": "code",
   "execution_count": 37,
   "metadata": {
    "pycharm": {
     "name": "#%%\n"
    }
   },
   "outputs": [
    {
     "data": {
      "text/html": [
       "<div>\n",
       "<style scoped>\n",
       "    .dataframe tbody tr th:only-of-type {\n",
       "        vertical-align: middle;\n",
       "    }\n",
       "\n",
       "    .dataframe tbody tr th {\n",
       "        vertical-align: top;\n",
       "    }\n",
       "\n",
       "    .dataframe thead th {\n",
       "        text-align: right;\n",
       "    }\n",
       "</style>\n",
       "<table border=\"1\" class=\"dataframe\">\n",
       "  <thead>\n",
       "    <tr style=\"text-align: right;\">\n",
       "      <th></th>\n",
       "      <th>pc_1</th>\n",
       "      <th>pc_2</th>\n",
       "      <th>pc_3</th>\n",
       "    </tr>\n",
       "  </thead>\n",
       "  <tbody>\n",
       "    <tr>\n",
       "      <th>0</th>\n",
       "      <td>0.642869</td>\n",
       "      <td>1.272303</td>\n",
       "      <td>0.336014</td>\n",
       "    </tr>\n",
       "    <tr>\n",
       "      <th>1</th>\n",
       "      <td>-4.534313</td>\n",
       "      <td>-1.124683</td>\n",
       "      <td>0.230416</td>\n",
       "    </tr>\n",
       "    <tr>\n",
       "      <th>2</th>\n",
       "      <td>-2.822558</td>\n",
       "      <td>-0.921151</td>\n",
       "      <td>-0.235064</td>\n",
       "    </tr>\n",
       "    <tr>\n",
       "      <th>3</th>\n",
       "      <td>-0.701307</td>\n",
       "      <td>0.909078</td>\n",
       "      <td>0.581521</td>\n",
       "    </tr>\n",
       "    <tr>\n",
       "      <th>4</th>\n",
       "      <td>-2.285649</td>\n",
       "      <td>1.837131</td>\n",
       "      <td>2.452154</td>\n",
       "    </tr>\n",
       "    <tr>\n",
       "      <th>...</th>\n",
       "      <td>...</td>\n",
       "      <td>...</td>\n",
       "      <td>...</td>\n",
       "    </tr>\n",
       "    <tr>\n",
       "      <th>95</th>\n",
       "      <td>2.978300</td>\n",
       "      <td>-0.871453</td>\n",
       "      <td>0.230524</td>\n",
       "    </tr>\n",
       "    <tr>\n",
       "      <th>96</th>\n",
       "      <td>1.060889</td>\n",
       "      <td>-2.262004</td>\n",
       "      <td>-0.049356</td>\n",
       "    </tr>\n",
       "    <tr>\n",
       "      <th>97</th>\n",
       "      <td>5.357021</td>\n",
       "      <td>1.176135</td>\n",
       "      <td>-0.309039</td>\n",
       "    </tr>\n",
       "    <tr>\n",
       "      <th>98</th>\n",
       "      <td>0.853188</td>\n",
       "      <td>-0.435750</td>\n",
       "      <td>-0.983849</td>\n",
       "    </tr>\n",
       "    <tr>\n",
       "      <th>99</th>\n",
       "      <td>0.398375</td>\n",
       "      <td>3.018778</td>\n",
       "      <td>-1.170003</td>\n",
       "    </tr>\n",
       "  </tbody>\n",
       "</table>\n",
       "<p>100 rows × 3 columns</p>\n",
       "</div>"
      ],
      "text/plain": [
       "        pc_1      pc_2      pc_3\n",
       "0   0.642869  1.272303  0.336014\n",
       "1  -4.534313 -1.124683  0.230416\n",
       "2  -2.822558 -0.921151 -0.235064\n",
       "3  -0.701307  0.909078  0.581521\n",
       "4  -2.285649  1.837131  2.452154\n",
       "..       ...       ...       ...\n",
       "95  2.978300 -0.871453  0.230524\n",
       "96  1.060889 -2.262004 -0.049356\n",
       "97  5.357021  1.176135 -0.309039\n",
       "98  0.853188 -0.435750 -0.983849\n",
       "99  0.398375  3.018778 -1.170003\n",
       "\n",
       "[100 rows x 3 columns]"
      ]
     },
     "execution_count": 37,
     "metadata": {},
     "output_type": "execute_result"
    }
   ],
   "source": [
    "pca_df = pd.DataFrame(pca_satisfaction.fit_transform(data_std), columns = [f\"pc_{i+1}\" for i in range(3)])\n",
    "pca_df"
   ]
  },
  {
   "cell_type": "code",
   "execution_count": 76,
   "metadata": {
    "pycharm": {
     "name": "#%%\n"
    }
   },
   "outputs": [
    {
     "data": {
      "text/html": [
       "<div>\n",
       "<style scoped>\n",
       "    .dataframe tbody tr th:only-of-type {\n",
       "        vertical-align: middle;\n",
       "    }\n",
       "\n",
       "    .dataframe tbody tr th {\n",
       "        vertical-align: top;\n",
       "    }\n",
       "\n",
       "    .dataframe thead th {\n",
       "        text-align: right;\n",
       "    }\n",
       "</style>\n",
       "<table border=\"1\" class=\"dataframe\">\n",
       "  <thead>\n",
       "    <tr style=\"text-align: right;\">\n",
       "      <th></th>\n",
       "      <th>fc_1</th>\n",
       "      <th>fc_2</th>\n",
       "    </tr>\n",
       "  </thead>\n",
       "  <tbody>\n",
       "    <tr>\n",
       "      <th>0</th>\n",
       "      <td>0.265112</td>\n",
       "      <td>0.683961</td>\n",
       "    </tr>\n",
       "    <tr>\n",
       "      <th>1</th>\n",
       "      <td>-1.762780</td>\n",
       "      <td>-0.932220</td>\n",
       "    </tr>\n",
       "    <tr>\n",
       "      <th>2</th>\n",
       "      <td>-1.016817</td>\n",
       "      <td>-1.056383</td>\n",
       "    </tr>\n",
       "    <tr>\n",
       "      <th>3</th>\n",
       "      <td>-0.265599</td>\n",
       "      <td>1.063755</td>\n",
       "    </tr>\n",
       "    <tr>\n",
       "      <th>4</th>\n",
       "      <td>-1.077642</td>\n",
       "      <td>1.266070</td>\n",
       "    </tr>\n",
       "    <tr>\n",
       "      <th>...</th>\n",
       "      <td>...</td>\n",
       "      <td>...</td>\n",
       "    </tr>\n",
       "    <tr>\n",
       "      <th>95</th>\n",
       "      <td>1.169729</td>\n",
       "      <td>-0.401264</td>\n",
       "    </tr>\n",
       "    <tr>\n",
       "      <th>96</th>\n",
       "      <td>0.426248</td>\n",
       "      <td>-1.439739</td>\n",
       "    </tr>\n",
       "    <tr>\n",
       "      <th>97</th>\n",
       "      <td>2.224841</td>\n",
       "      <td>0.573307</td>\n",
       "    </tr>\n",
       "    <tr>\n",
       "      <th>98</th>\n",
       "      <td>0.427926</td>\n",
       "      <td>-0.572642</td>\n",
       "    </tr>\n",
       "    <tr>\n",
       "      <th>99</th>\n",
       "      <td>0.276852</td>\n",
       "      <td>1.972414</td>\n",
       "    </tr>\n",
       "  </tbody>\n",
       "</table>\n",
       "<p>100 rows × 2 columns</p>\n",
       "</div>"
      ],
      "text/plain": [
       "        fc_1      fc_2\n",
       "0   0.265112  0.683961\n",
       "1  -1.762780 -0.932220\n",
       "2  -1.016817 -1.056383\n",
       "3  -0.265599  1.063755\n",
       "4  -1.077642  1.266070\n",
       "..       ...       ...\n",
       "95  1.169729 -0.401264\n",
       "96  0.426248 -1.439739\n",
       "97  2.224841  0.573307\n",
       "98  0.427926 -0.572642\n",
       "99  0.276852  1.972414\n",
       "\n",
       "[100 rows x 2 columns]"
      ]
     },
     "execution_count": 76,
     "metadata": {},
     "output_type": "execute_result"
    }
   ],
   "source": [
    "transformer = FA(n_components=2, random_state=0)\n",
    "data_fa = pd.DataFrame(transformer.fit_transform(data_std), columns = [f\"fc_{i+1}\" for i in range(2)])\n",
    "data_fa"
   ]
  },
  {
   "cell_type": "code",
   "execution_count": 80,
   "metadata": {
    "pycharm": {
     "name": "#%%\n"
    }
   },
   "outputs": [
    {
     "data": {
      "text/plain": [
       "FactorAnalyzer(n_factors=2, rotation=None, rotation_kwargs={})"
      ]
     },
     "execution_count": 80,
     "metadata": {},
     "output_type": "execute_result"
    }
   ],
   "source": [
    "fa = fan.FactorAnalyzer(n_factors=2,rotation=None)\n",
    "fa.fit(data_std)\n"
   ]
  },
  {
   "cell_type": "code",
   "execution_count": 81,
   "metadata": {
    "pycharm": {
     "name": "#%%\n"
    }
   },
   "outputs": [
    {
     "data": {
      "text/html": [
       "<div>\n",
       "<style scoped>\n",
       "    .dataframe tbody tr th:only-of-type {\n",
       "        vertical-align: middle;\n",
       "    }\n",
       "\n",
       "    .dataframe tbody tr th {\n",
       "        vertical-align: top;\n",
       "    }\n",
       "\n",
       "    .dataframe thead th {\n",
       "        text-align: right;\n",
       "    }\n",
       "</style>\n",
       "<table border=\"1\" class=\"dataframe\">\n",
       "  <thead>\n",
       "    <tr style=\"text-align: right;\">\n",
       "      <th></th>\n",
       "      <th>0</th>\n",
       "      <th>1</th>\n",
       "    </tr>\n",
       "  </thead>\n",
       "  <tbody>\n",
       "    <tr>\n",
       "      <th>0</th>\n",
       "      <td>0.618518</td>\n",
       "      <td>-0.430270</td>\n",
       "    </tr>\n",
       "    <tr>\n",
       "      <th>1</th>\n",
       "      <td>0.744904</td>\n",
       "      <td>-0.480985</td>\n",
       "    </tr>\n",
       "    <tr>\n",
       "      <th>2</th>\n",
       "      <td>0.722218</td>\n",
       "      <td>-0.415638</td>\n",
       "    </tr>\n",
       "    <tr>\n",
       "      <th>3</th>\n",
       "      <td>0.942383</td>\n",
       "      <td>0.024757</td>\n",
       "    </tr>\n",
       "    <tr>\n",
       "      <th>4</th>\n",
       "      <td>0.853200</td>\n",
       "      <td>-0.051761</td>\n",
       "    </tr>\n",
       "    <tr>\n",
       "      <th>5</th>\n",
       "      <td>0.543375</td>\n",
       "      <td>0.501578</td>\n",
       "    </tr>\n",
       "    <tr>\n",
       "      <th>6</th>\n",
       "      <td>0.664396</td>\n",
       "      <td>0.617881</td>\n",
       "    </tr>\n",
       "    <tr>\n",
       "      <th>7</th>\n",
       "      <td>0.614670</td>\n",
       "      <td>0.505499</td>\n",
       "    </tr>\n",
       "    <tr>\n",
       "      <th>8</th>\n",
       "      <td>0.956548</td>\n",
       "      <td>-0.010569</td>\n",
       "    </tr>\n",
       "    <tr>\n",
       "      <th>9</th>\n",
       "      <td>0.886109</td>\n",
       "      <td>-0.043153</td>\n",
       "    </tr>\n",
       "  </tbody>\n",
       "</table>\n",
       "</div>"
      ],
      "text/plain": [
       "          0         1\n",
       "0  0.618518 -0.430270\n",
       "1  0.744904 -0.480985\n",
       "2  0.722218 -0.415638\n",
       "3  0.942383  0.024757\n",
       "4  0.853200 -0.051761\n",
       "5  0.543375  0.501578\n",
       "6  0.664396  0.617881\n",
       "7  0.614670  0.505499\n",
       "8  0.956548 -0.010569\n",
       "9  0.886109 -0.043153"
      ]
     },
     "execution_count": 81,
     "metadata": {},
     "output_type": "execute_result"
    }
   ],
   "source": [
    "fa_df = pd.DataFrame(fa.loadings_)\n",
    "fa_df"
   ]
  },
  {
   "cell_type": "code",
   "execution_count": 83,
   "metadata": {
    "pycharm": {
     "name": "#%%\n"
    }
   },
   "outputs": [
    {
     "data": {
      "text/html": [
       "<div>\n",
       "<style scoped>\n",
       "    .dataframe tbody tr th:only-of-type {\n",
       "        vertical-align: middle;\n",
       "    }\n",
       "\n",
       "    .dataframe tbody tr th {\n",
       "        vertical-align: top;\n",
       "    }\n",
       "\n",
       "    .dataframe thead th {\n",
       "        text-align: right;\n",
       "    }\n",
       "</style>\n",
       "<table border=\"1\" class=\"dataframe\">\n",
       "  <thead>\n",
       "    <tr style=\"text-align: right;\">\n",
       "      <th></th>\n",
       "      <th>fc_1</th>\n",
       "      <th>fc_2</th>\n",
       "    </tr>\n",
       "  </thead>\n",
       "  <tbody>\n",
       "    <tr>\n",
       "      <th>AtWork1</th>\n",
       "      <td>0.618518</td>\n",
       "      <td>-0.430270</td>\n",
       "    </tr>\n",
       "    <tr>\n",
       "      <th>AtWork2</th>\n",
       "      <td>0.744904</td>\n",
       "      <td>-0.480985</td>\n",
       "    </tr>\n",
       "    <tr>\n",
       "      <th>AtWork3</th>\n",
       "      <td>0.722218</td>\n",
       "      <td>-0.415638</td>\n",
       "    </tr>\n",
       "    <tr>\n",
       "      <th>Hobby1</th>\n",
       "      <td>0.942383</td>\n",
       "      <td>0.024757</td>\n",
       "    </tr>\n",
       "    <tr>\n",
       "      <th>Hobby2</th>\n",
       "      <td>0.853200</td>\n",
       "      <td>-0.051761</td>\n",
       "    </tr>\n",
       "    <tr>\n",
       "      <th>AtHome1</th>\n",
       "      <td>0.543375</td>\n",
       "      <td>0.501578</td>\n",
       "    </tr>\n",
       "    <tr>\n",
       "      <th>AtHome2</th>\n",
       "      <td>0.664396</td>\n",
       "      <td>0.617881</td>\n",
       "    </tr>\n",
       "    <tr>\n",
       "      <th>AtHome3</th>\n",
       "      <td>0.614670</td>\n",
       "      <td>0.505499</td>\n",
       "    </tr>\n",
       "    <tr>\n",
       "      <th>General1</th>\n",
       "      <td>0.956548</td>\n",
       "      <td>-0.010569</td>\n",
       "    </tr>\n",
       "    <tr>\n",
       "      <th>General2</th>\n",
       "      <td>0.886109</td>\n",
       "      <td>-0.043153</td>\n",
       "    </tr>\n",
       "  </tbody>\n",
       "</table>\n",
       "</div>"
      ],
      "text/plain": [
       "              fc_1      fc_2\n",
       "AtWork1   0.618518 -0.430270\n",
       "AtWork2   0.744904 -0.480985\n",
       "AtWork3   0.722218 -0.415638\n",
       "Hobby1    0.942383  0.024757\n",
       "Hobby2    0.853200 -0.051761\n",
       "AtHome1   0.543375  0.501578\n",
       "AtHome2   0.664396  0.617881\n",
       "AtHome3   0.614670  0.505499\n",
       "General1  0.956548 -0.010569\n",
       "General2  0.886109 -0.043153"
      ]
     },
     "execution_count": 83,
     "metadata": {},
     "output_type": "execute_result"
    }
   ],
   "source": [
    "fa_df = pd.DataFrame(fa.loadings_, columns=[f\"fc_{i+1}\" for i in range(2)])\n",
    "fa_df = fa_df.set_index(data_std.columns)\n",
    "fa_df"
   ]
  },
  {
   "cell_type": "code",
   "execution_count": 85,
   "metadata": {
    "pycharm": {
     "name": "#%%\n"
    }
   },
   "outputs": [
    {
     "data": {
      "text/plain": [
       "<AxesSubplot:xlabel='fc_1', ylabel='fc_2'>"
      ]
     },
     "execution_count": 85,
     "metadata": {},
     "output_type": "execute_result"
    },
    {
     "data": {
      "image/png": "[encoded data removed]",
      "text/plain": [
       "<Figure size 720x360 with 1 Axes>"
      ]
     },
     "metadata": {
      "needs_background": "light"
     },
     "output_type": "display_data"
    }
   ],
   "source": [
    "sns.scatterplot(x = fa_df['fc_1'], y=fa_df['fc_2'], hue = fa_df.index.get_level_values(level=0))"
   ]
  },
  {
   "cell_type": "code",
   "execution_count": 88,
   "metadata": {
    "pycharm": {
     "name": "#%%\n"
    }
   },
   "outputs": [
    {
     "data": {
      "text/html": [
       "<div>\n",
       "<style scoped>\n",
       "    .dataframe tbody tr th:only-of-type {\n",
       "        vertical-align: middle;\n",
       "    }\n",
       "\n",
       "    .dataframe tbody tr th {\n",
       "        vertical-align: top;\n",
       "    }\n",
       "\n",
       "    .dataframe thead th {\n",
       "        text-align: right;\n",
       "    }\n",
       "</style>\n",
       "<table border=\"1\" class=\"dataframe\">\n",
       "  <thead>\n",
       "    <tr style=\"text-align: right;\">\n",
       "      <th></th>\n",
       "      <th>rot_fc_1</th>\n",
       "      <th>rot_fc_2</th>\n",
       "    </tr>\n",
       "  </thead>\n",
       "  <tbody>\n",
       "    <tr>\n",
       "      <th>AtWork1</th>\n",
       "      <td>0.752152</td>\n",
       "      <td>0.044318</td>\n",
       "    </tr>\n",
       "    <tr>\n",
       "      <th>AtWork2</th>\n",
       "      <td>0.882838</td>\n",
       "      <td>0.082614</td>\n",
       "    </tr>\n",
       "    <tr>\n",
       "      <th>AtWork3</th>\n",
       "      <td>0.824601</td>\n",
       "      <td>0.119942</td>\n",
       "    </tr>\n",
       "    <tr>\n",
       "      <th>Hobby1</th>\n",
       "      <td>0.725306</td>\n",
       "      <td>0.602187</td>\n",
       "    </tr>\n",
       "    <tr>\n",
       "      <th>Hobby2</th>\n",
       "      <td>0.702533</td>\n",
       "      <td>0.486905</td>\n",
       "    </tr>\n",
       "    <tr>\n",
       "      <th>AtHome1</th>\n",
       "      <td>0.116882</td>\n",
       "      <td>0.730189</td>\n",
       "    </tr>\n",
       "    <tr>\n",
       "      <th>AtHome2</th>\n",
       "      <td>0.140074</td>\n",
       "      <td>0.896425</td>\n",
       "    </tr>\n",
       "    <tr>\n",
       "      <th>AtHome3</th>\n",
       "      <td>0.170487</td>\n",
       "      <td>0.777357</td>\n",
       "    </tr>\n",
       "    <tr>\n",
       "      <th>General1</th>\n",
       "      <td>0.758283</td>\n",
       "      <td>0.583183</td>\n",
       "    </tr>\n",
       "    <tr>\n",
       "      <th>General2</th>\n",
       "      <td>0.723074</td>\n",
       "      <td>0.514019</td>\n",
       "    </tr>\n",
       "  </tbody>\n",
       "</table>\n",
       "</div>"
      ],
      "text/plain": [
       "          rot_fc_1  rot_fc_2\n",
       "AtWork1   0.752152  0.044318\n",
       "AtWork2   0.882838  0.082614\n",
       "AtWork3   0.824601  0.119942\n",
       "Hobby1    0.725306  0.602187\n",
       "Hobby2    0.702533  0.486905\n",
       "AtHome1   0.116882  0.730189\n",
       "AtHome2   0.140074  0.896425\n",
       "AtHome3   0.170487  0.777357\n",
       "General1  0.758283  0.583183\n",
       "General2  0.723074  0.514019"
      ]
     },
     "execution_count": 88,
     "metadata": {},
     "output_type": "execute_result"
    }
   ],
   "source": [
    "rotator = fan.Rotator()\n",
    "rot_fa_df = pd.DataFrame(rotator.fit_transform(fa_df), columns=[f\"rot_fc_{i+1}\" for i in range(2)]).set_index(data_std.columns)\n",
    "rot_fa_df"
   ]
  },
  {
   "cell_type": "code",
   "execution_count": 90,
   "metadata": {
    "pycharm": {
     "name": "#%%\n"
    }
   },
   "outputs": [
    {
     "data": {
      "text/plain": [
       "<AxesSubplot:xlabel='rot_fc_1', ylabel='rot_fc_2'>"
      ]
     },
     "execution_count": 90,
     "metadata": {},
     "output_type": "execute_result"
    },
    {
     "data": {
      "image/png": "[encoded data removed]",
      "text/plain": [
       "<Figure size 720x360 with 1 Axes>"
      ]
     },
     "metadata": {
      "needs_background": "light"
     },
     "output_type": "display_data"
    }
   ],
   "source": [
    "sns.scatterplot(x=rot_fa_df['rot_fc_1'], y=rot_fa_df['rot_fc_2'], hue = fa_df.index.get_level_values(level=0))"
   ]
  },
  {
   "cell_type": "code",
   "execution_count": 95,
   "metadata": {
    "pycharm": {
     "name": "#%%\n"
    }
   },
   "outputs": [
    {
     "data": {
      "text/plain": [
       "(100, 10)"
      ]
     },
     "execution_count": 95,
     "metadata": {},
     "output_type": "execute_result"
    }
   ],
   "source": [
    "rotator.fit_transform(data_std).shape"
   ]
  }
 ],
 "metadata": {
  "kernelspec": {
   "display_name": "Python 3.9.7 ('base')",
   "language": "python",
   "name": "python3"
  },
  "language_info": {
   "codemirror_mode": {
    "name": "ipython",
    "version": 3
   },
   "file_extension": ".py",
   "mimetype": "text/x-python",
   "name": "python",
   "nbconvert_exporter": "python",
   "pygments_lexer": "ipython3",
   "version": "3.9.7"
  },
  "orig_nbformat": 4,
  "vscode": {
   "interpreter": {
    "hash": "830b86ea7600a49451940bb09d13c842788ced1af83c77d7f8ac5a5027d43a79"
   }
  }
 },
 "nbformat": 4,
 "nbformat_minor": 2
}