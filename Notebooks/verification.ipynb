{
 "cells": [
  {
   "cell_type": "markdown",
   "source": [
    "# MAMO Projekt - Data Wrangling"
   ],
   "metadata": {
    "collapsed": false
   }
  },
  {
   "cell_type": "code",
   "execution_count": 102,
   "outputs": [],
   "source": [
    "# loading the libraries\n",
    "import pandas as pd\n",
    "from scipy import io\n",
    "import numpy as np"
   ],
   "metadata": {
    "collapsed": false
   }
  },
  {
   "cell_type": "code",
   "execution_count": 103,
   "outputs": [],
   "source": [
    "# load simulatons for each model\n",
    "data_dict = {}\n",
    "for elem in ['IM1', 'IM2', 'IM3', 'IM0']:\n",
    "    data_dict[elem] = io.matlab.loadmat(f\"../Data/verifikace/simul_results_{elem}.mat\")"
   ],
   "metadata": {
    "collapsed": false
   }
  },
  {
   "cell_type": "code",
   "execution_count": 104,
   "outputs": [
    {
     "data": {
      "text/plain": "        Yhat      Chat      Ihat      qhat      Rhat     pihat\n0   0.024378  0.011791  0.039947  0.056197  0.005926  0.006924\n1   0.008916  0.007314  0.007435 -0.009764  0.003159 -0.000441\n2   0.000361 -0.006465  0.003276 -0.021206  0.000654 -0.013810\n3   0.006097 -0.005752  0.003605 -0.027877 -0.000193 -0.011187\n4  -0.002412  0.001836 -0.027888 -0.011065 -0.001822 -0.008569\n5   0.009639  0.003462 -0.006922  0.014308 -0.002673 -0.003942\n6   0.009700  0.002962  0.039710  0.010851 -0.002450  0.002709\n7   0.001745  0.005979  0.027927  0.015742 -0.001623  0.004405\n8   0.001735  0.008306 -0.002724  0.018249 -0.000728  0.000162\n9   0.006518  0.008952  0.013066  0.019080  0.000237  0.000996\n10  0.007944  0.006743  0.013275  0.013178  0.000869  0.000921\n11  0.008892  0.009615  0.027215 -0.005270  0.001503  0.006952\n12  0.002267  0.009689  0.010535 -0.027172  0.002737  0.020103\n13 -0.003872  0.000938  0.009215 -0.031772  0.003836  0.017382\n14 -0.009912 -0.000890 -0.016574 -0.030233  0.002064  0.016787\n15 -0.014592 -0.004584 -0.030049 -0.022142 -0.001153  0.012304\n16 -0.025309 -0.001981 -0.038233 -0.011944 -0.001354  0.002907\n17 -0.025578 -0.002325 -0.053074 -0.009297 -0.001080  0.000564\n18 -0.023548 -0.007465 -0.042701 -0.010055 -0.000602 -0.001758\n19 -0.008846 -0.007904 -0.021321 -0.014759 -0.000592 -0.002095\n20 -0.017464 -0.010511 -0.008897  0.004073 -0.000589 -0.010479\n21 -0.011575 -0.012064 -0.026121  0.002286 -0.000330 -0.009942\n22 -0.005904 -0.010008 -0.018889  0.002473 -0.000218 -0.005511\n23 -0.002937 -0.009802 -0.015171  0.008865 -0.000124 -0.006204\n24  0.007000 -0.008479  0.035139  0.004893 -0.000218 -0.010038\n25  0.010556 -0.005998  0.056744 -0.002895 -0.000404 -0.004024\n26  0.012567 -0.008701  0.057671 -0.000620 -0.000551 -0.007168\n27  0.005795 -0.007193  0.044264  0.001494 -0.000929 -0.010473\n28  0.005412 -0.009135 -0.000305 -0.003993 -0.001274 -0.006938\n29 -0.005493 -0.013287 -0.035851  0.003633 -0.001654 -0.010555\n30 -0.009231 -0.012100 -0.032659  0.010317 -0.002172 -0.008312\n31 -0.015652 -0.007321 -0.048549  0.035130 -0.002794 -0.000191\n32 -0.008881 -0.001101 -0.026930  0.040487 -0.003619  0.008834\n33  0.007278  0.001503 -0.020047  0.045113 -0.004277  0.005785\n34  0.007834  0.004845 -0.023341  0.031697 -0.004197  0.007682\n35  0.005478  0.007465 -0.040559 -0.010848 -0.002605  0.007539\n36  0.005052  0.010177 -0.012231 -0.012999 -0.001689 -0.000634\n37  0.001814  0.007864  0.007322 -0.013920 -0.002304  0.002169\n38  0.000989  0.011678  0.027752 -0.008860  0.001295  0.001955\n39 -0.002365  0.002382  0.015849  0.003623  0.005357 -0.002274\n40  0.012695  0.011123  0.017905 -0.005206  0.005063  0.002486\n41  0.010705  0.011017  0.009676 -0.012247  0.004888  0.002241\n42  0.009471  0.009226  0.033099 -0.018415  0.003808  0.000993\n43  0.002733 -0.001800  0.048407 -0.019127  0.002826  0.001744",
      "text/html": "<div>\n<style scoped>\n    .dataframe tbody tr th:only-of-type {\n        vertical-align: middle;\n    }\n\n    .dataframe tbody tr th {\n        vertical-align: top;\n    }\n\n    .dataframe thead th {\n        text-align: right;\n    }\n</style>\n<table border=\"1\" class=\"dataframe\">\n  <thead>\n    <tr style=\"text-align: right;\">\n      <th></th>\n      <th>Yhat</th>\n      <th>Chat</th>\n      <th>Ihat</th>\n      <th>qhat</th>\n      <th>Rhat</th>\n      <th>pihat</th>\n    </tr>\n  </thead>\n  <tbody>\n    <tr>\n      <th>0</th>\n      <td>0.024378</td>\n      <td>0.011791</td>\n      <td>0.039947</td>\n      <td>0.056197</td>\n      <td>0.005926</td>\n      <td>0.006924</td>\n    </tr>\n    <tr>\n      <th>1</th>\n      <td>0.008916</td>\n      <td>0.007314</td>\n      <td>0.007435</td>\n      <td>-0.009764</td>\n      <td>0.003159</td>\n      <td>-0.000441</td>\n    </tr>\n    <tr>\n      <th>2</th>\n      <td>0.000361</td>\n      <td>-0.006465</td>\n      <td>0.003276</td>\n      <td>-0.021206</td>\n      <td>0.000654</td>\n      <td>-0.013810</td>\n    </tr>\n    <tr>\n      <th>3</th>\n      <td>0.006097</td>\n      <td>-0.005752</td>\n      <td>0.003605</td>\n      <td>-0.027877</td>\n      <td>-0.000193</td>\n      <td>-0.011187</td>\n    </tr>\n    <tr>\n      <th>4</th>\n      <td>-0.002412</td>\n      <td>0.001836</td>\n      <td>-0.027888</td>\n      <td>-0.011065</td>\n      <td>-0.001822</td>\n      <td>-0.008569</td>\n    </tr>\n    <tr>\n      <th>5</th>\n      <td>0.009639</td>\n      <td>0.003462</td>\n      <td>-0.006922</td>\n      <td>0.014308</td>\n      <td>-0.002673</td>\n      <td>-0.003942</td>\n    </tr>\n    <tr>\n      <th>6</th>\n      <td>0.009700</td>\n      <td>0.002962</td>\n      <td>0.039710</td>\n      <td>0.010851</td>\n      <td>-0.002450</td>\n      <td>0.002709</td>\n    </tr>\n    <tr>\n      <th>7</th>\n      <td>0.001745</td>\n      <td>0.005979</td>\n      <td>0.027927</td>\n      <td>0.015742</td>\n      <td>-0.001623</td>\n      <td>0.004405</td>\n    </tr>\n    <tr>\n      <th>8</th>\n      <td>0.001735</td>\n      <td>0.008306</td>\n      <td>-0.002724</td>\n      <td>0.018249</td>\n      <td>-0.000728</td>\n      <td>0.000162</td>\n    </tr>\n    <tr>\n      <th>9</th>\n      <td>0.006518</td>\n      <td>0.008952</td>\n      <td>0.013066</td>\n      <td>0.019080</td>\n      <td>0.000237</td>\n      <td>0.000996</td>\n    </tr>\n    <tr>\n      <th>10</th>\n      <td>0.007944</td>\n      <td>0.006743</td>\n      <td>0.013275</td>\n      <td>0.013178</td>\n      <td>0.000869</td>\n      <td>0.000921</td>\n    </tr>\n    <tr>\n      <th>11</th>\n      <td>0.008892</td>\n      <td>0.009615</td>\n      <td>0.027215</td>\n      <td>-0.005270</td>\n      <td>0.001503</td>\n      <td>0.006952</td>\n    </tr>\n    <tr>\n      <th>12</th>\n      <td>0.002267</td>\n      <td>0.009689</td>\n      <td>0.010535</td>\n      <td>-0.027172</td>\n      <td>0.002737</td>\n      <td>0.020103</td>\n    </tr>\n    <tr>\n      <th>13</th>\n      <td>-0.003872</td>\n      <td>0.000938</td>\n      <td>0.009215</td>\n      <td>-0.031772</td>\n      <td>0.003836</td>\n      <td>0.017382</td>\n    </tr>\n    <tr>\n      <th>14</th>\n      <td>-0.009912</td>\n      <td>-0.000890</td>\n      <td>-0.016574</td>\n      <td>-0.030233</td>\n      <td>0.002064</td>\n      <td>0.016787</td>\n    </tr>\n    <tr>\n      <th>15</th>\n      <td>-0.014592</td>\n      <td>-0.004584</td>\n      <td>-0.030049</td>\n      <td>-0.022142</td>\n      <td>-0.001153</td>\n      <td>0.012304</td>\n    </tr>\n    <tr>\n      <th>16</th>\n      <td>-0.025309</td>\n      <td>-0.001981</td>\n      <td>-0.038233</td>\n      <td>-0.011944</td>\n      <td>-0.001354</td>\n      <td>0.002907</td>\n    </tr>\n    <tr>\n      <th>17</th>\n      <td>-0.025578</td>\n      <td>-0.002325</td>\n      <td>-0.053074</td>\n      <td>-0.009297</td>\n      <td>-0.001080</td>\n      <td>0.000564</td>\n    </tr>\n    <tr>\n      <th>18</th>\n      <td>-0.023548</td>\n      <td>-0.007465</td>\n      <td>-0.042701</td>\n      <td>-0.010055</td>\n      <td>-0.000602</td>\n      <td>-0.001758</td>\n    </tr>\n    <tr>\n      <th>19</th>\n      <td>-0.008846</td>\n      <td>-0.007904</td>\n      <td>-0.021321</td>\n      <td>-0.014759</td>\n      <td>-0.000592</td>\n      <td>-0.002095</td>\n    </tr>\n    <tr>\n      <th>20</th>\n      <td>-0.017464</td>\n      <td>-0.010511</td>\n      <td>-0.008897</td>\n      <td>0.004073</td>\n      <td>-0.000589</td>\n      <td>-0.010479</td>\n    </tr>\n    <tr>\n      <th>21</th>\n      <td>-0.011575</td>\n      <td>-0.012064</td>\n      <td>-0.026121</td>\n      <td>0.002286</td>\n      <td>-0.000330</td>\n      <td>-0.009942</td>\n    </tr>\n    <tr>\n      <th>22</th>\n      <td>-0.005904</td>\n      <td>-0.010008</td>\n      <td>-0.018889</td>\n      <td>0.002473</td>\n      <td>-0.000218</td>\n      <td>-0.005511</td>\n    </tr>\n    <tr>\n      <th>23</th>\n      <td>-0.002937</td>\n      <td>-0.009802</td>\n      <td>-0.015171</td>\n      <td>0.008865</td>\n      <td>-0.000124</td>\n      <td>-0.006204</td>\n    </tr>\n    <tr>\n      <th>24</th>\n      <td>0.007000</td>\n      <td>-0.008479</td>\n      <td>0.035139</td>\n      <td>0.004893</td>\n      <td>-0.000218</td>\n      <td>-0.010038</td>\n    </tr>\n    <tr>\n      <th>25</th>\n      <td>0.010556</td>\n      <td>-0.005998</td>\n      <td>0.056744</td>\n      <td>-0.002895</td>\n      <td>-0.000404</td>\n      <td>-0.004024</td>\n    </tr>\n    <tr>\n      <th>26</th>\n      <td>0.012567</td>\n      <td>-0.008701</td>\n      <td>0.057671</td>\n      <td>-0.000620</td>\n      <td>-0.000551</td>\n      <td>-0.007168</td>\n    </tr>\n    <tr>\n      <th>27</th>\n      <td>0.005795</td>\n      <td>-0.007193</td>\n      <td>0.044264</td>\n      <td>0.001494</td>\n      <td>-0.000929</td>\n      <td>-0.010473</td>\n    </tr>\n    <tr>\n      <th>28</th>\n      <td>0.005412</td>\n      <td>-0.009135</td>\n      <td>-0.000305</td>\n      <td>-0.003993</td>\n      <td>-0.001274</td>\n      <td>-0.006938</td>\n    </tr>\n    <tr>\n      <th>29</th>\n      <td>-0.005493</td>\n      <td>-0.013287</td>\n      <td>-0.035851</td>\n      <td>0.003633</td>\n      <td>-0.001654</td>\n      <td>-0.010555</td>\n    </tr>\n    <tr>\n      <th>30</th>\n      <td>-0.009231</td>\n      <td>-0.012100</td>\n      <td>-0.032659</td>\n      <td>0.010317</td>\n      <td>-0.002172</td>\n      <td>-0.008312</td>\n    </tr>\n    <tr>\n      <th>31</th>\n      <td>-0.015652</td>\n      <td>-0.007321</td>\n      <td>-0.048549</td>\n      <td>0.035130</td>\n      <td>-0.002794</td>\n      <td>-0.000191</td>\n    </tr>\n    <tr>\n      <th>32</th>\n      <td>-0.008881</td>\n      <td>-0.001101</td>\n      <td>-0.026930</td>\n      <td>0.040487</td>\n      <td>-0.003619</td>\n      <td>0.008834</td>\n    </tr>\n    <tr>\n      <th>33</th>\n      <td>0.007278</td>\n      <td>0.001503</td>\n      <td>-0.020047</td>\n      <td>0.045113</td>\n      <td>-0.004277</td>\n      <td>0.005785</td>\n    </tr>\n    <tr>\n      <th>34</th>\n      <td>0.007834</td>\n      <td>0.004845</td>\n      <td>-0.023341</td>\n      <td>0.031697</td>\n      <td>-0.004197</td>\n      <td>0.007682</td>\n    </tr>\n    <tr>\n      <th>35</th>\n      <td>0.005478</td>\n      <td>0.007465</td>\n      <td>-0.040559</td>\n      <td>-0.010848</td>\n      <td>-0.002605</td>\n      <td>0.007539</td>\n    </tr>\n    <tr>\n      <th>36</th>\n      <td>0.005052</td>\n      <td>0.010177</td>\n      <td>-0.012231</td>\n      <td>-0.012999</td>\n      <td>-0.001689</td>\n      <td>-0.000634</td>\n    </tr>\n    <tr>\n      <th>37</th>\n      <td>0.001814</td>\n      <td>0.007864</td>\n      <td>0.007322</td>\n      <td>-0.013920</td>\n      <td>-0.002304</td>\n      <td>0.002169</td>\n    </tr>\n    <tr>\n      <th>38</th>\n      <td>0.000989</td>\n      <td>0.011678</td>\n      <td>0.027752</td>\n      <td>-0.008860</td>\n      <td>0.001295</td>\n      <td>0.001955</td>\n    </tr>\n    <tr>\n      <th>39</th>\n      <td>-0.002365</td>\n      <td>0.002382</td>\n      <td>0.015849</td>\n      <td>0.003623</td>\n      <td>0.005357</td>\n      <td>-0.002274</td>\n    </tr>\n    <tr>\n      <th>40</th>\n      <td>0.012695</td>\n      <td>0.011123</td>\n      <td>0.017905</td>\n      <td>-0.005206</td>\n      <td>0.005063</td>\n      <td>0.002486</td>\n    </tr>\n    <tr>\n      <th>41</th>\n      <td>0.010705</td>\n      <td>0.011017</td>\n      <td>0.009676</td>\n      <td>-0.012247</td>\n      <td>0.004888</td>\n      <td>0.002241</td>\n    </tr>\n    <tr>\n      <th>42</th>\n      <td>0.009471</td>\n      <td>0.009226</td>\n      <td>0.033099</td>\n      <td>-0.018415</td>\n      <td>0.003808</td>\n      <td>0.000993</td>\n    </tr>\n    <tr>\n      <th>43</th>\n      <td>0.002733</td>\n      <td>-0.001800</td>\n      <td>0.048407</td>\n      <td>-0.019127</td>\n      <td>0.002826</td>\n      <td>0.001744</td>\n    </tr>\n  </tbody>\n</table>\n</div>"
     },
     "execution_count": 104,
     "metadata": {},
     "output_type": "execute_result"
    }
   ],
   "source": [
    "#  load observed data\n",
    "data_observed = pd.read_csv(\"../Data/verifikace/data_orig.csv\").drop(\"Unnamed: 0\", axis=1)\n",
    "data_observed"
   ],
   "metadata": {
    "collapsed": false
   }
  },
  {
   "cell_type": "markdown",
   "source": [
    "# 1 Standard Errors on Variables"
   ],
   "metadata": {
    "collapsed": false
   }
  },
  {
   "cell_type": "code",
   "execution_count": 133,
   "outputs": [
    {
     "name": "stdout",
     "output_type": "stream",
     "text": [
      "\\begin{tabular}{lrrrr}\n",
      "\\toprule\n",
      "{} &        M1 &        M2 &        M3 &        M0 \\\\\n",
      "\\midrule\n",
      "Yhat  &  0.183233 &  0.017557 &  0.031303 &  0.065100 \\\\\n",
      "Chat  &  0.107606 &  0.020537 &  0.015315 &  0.058421 \\\\\n",
      "pihat &  0.092172 &  0.008194 &  0.051572 &  0.038937 \\\\\n",
      "qhat  &  0.003686 &  0.015774 &  0.042055 &  0.075616 \\\\\n",
      "Rhat  &  0.026045 &  0.047620 &  0.002872 &  0.006538 \\\\\n",
      "Ihat  &       NaN &  0.001529 &  0.012544 &  0.023978 \\\\\n",
      "\\bottomrule\n",
      "\\end{tabular}\n",
      "\n"
     ]
    },
    {
     "name": "stderr",
     "output_type": "stream",
     "text": [
      "C:\\Users\\A200083283\\AppData\\Local\\Temp\\ipykernel_22864\\1073899264.py:7: FutureWarning: In future versions `DataFrame.to_latex` is expected to utilise the base implementation of `Styler.to_latex` for formatting and rendering. The arguments signature may therefore change. It is recommended instead to use `DataFrame.style.to_latex` which also contains additional functionality.\n",
      "  print(std_err.to_latex())\n"
     ]
    }
   ],
   "source": [
    "\n",
    "std_err = pd.concat([pd.Series(np.mean(data_dict['IM1']['sim_std'], axis=1)),\n",
    "                     pd.Series(np.mean(data_dict['IM2']['sim_std'], axis=1)),\n",
    "                     pd.Series(np.mean(data_dict['IM3']['sim_std'], axis=1)),\n",
    "                     pd.Series(np.mean(data_dict['IM0']['sim_std'], axis=1))], axis=1)\n",
    "std_err.columns = ['M1', 'M2', 'M3', 'M0']\n",
    "std_err.index = ['Yhat', 'Chat', 'pihat', 'qhat', 'Rhat', 'Ihat']\n",
    "print(std_err.to_latex())"
   ],
   "metadata": {
    "collapsed": false
   }
  },
  {
   "cell_type": "code",
   "execution_count": 134,
   "outputs": [
    {
     "name": "stdout",
     "output_type": "stream",
     "text": [
      "\\begin{tabular}{lrrrr}\n",
      "\\toprule\n",
      "{} &        M1 &        M2 &        M3 &        M0 \\\\\n",
      "\\midrule\n",
      "Mean\\_StdErr &  0.082548 &  0.018535 &  0.025943 &  0.044765 \\\\\n",
      "\\bottomrule\n",
      "\\end{tabular}\n",
      "\n"
     ]
    },
    {
     "name": "stderr",
     "output_type": "stream",
     "text": [
      "C:\\Users\\A200083283\\AppData\\Local\\Temp\\ipykernel_22864\\3064112100.py:7: FutureWarning: In future versions `DataFrame.to_latex` is expected to utilise the base implementation of `Styler.to_latex` for formatting and rendering. The arguments signature may therefore change. It is recommended instead to use `DataFrame.style.to_latex` which also contains additional functionality.\n",
      "  print(std_err.to_latex())\n"
     ]
    }
   ],
   "source": [
    "std_err = pd.concat([pd.Series(np.mean(data_dict['IM1']['sim_std'])),\n",
    "                     pd.Series(np.mean(data_dict['IM2']['sim_std'])),\n",
    "                     pd.Series(np.mean(data_dict['IM3']['sim_std'])),\n",
    "                     pd.Series(np.mean(data_dict['IM0']['sim_std']))], axis=1)\n",
    "std_err.columns = ['M1', 'M2', 'M3', 'M0']\n",
    "std_err.index = ['Mean_StdErr']\n",
    "print(std_err.to_latex())"
   ],
   "metadata": {
    "collapsed": false
   }
  },
  {
   "cell_type": "markdown",
   "source": [
    "# 2 Autocorrelations"
   ],
   "metadata": {
    "collapsed": false
   }
  },
  {
   "cell_type": "code",
   "execution_count": 108,
   "outputs": [
    {
     "data": {
      "text/plain": "       Yhat      Chat      Ihat      qhat      Rhat     pihat\n1  0.728603  0.812631  0.701256  0.606004  0.791582  0.781387\n2  0.499782  0.636246  0.359306  0.274435  0.502886  0.515172\n3  0.289927  0.530470  0.103021 -0.024391  0.247092  0.318639\n4  0.098083  0.464438 -0.079851 -0.161415 -0.008164  0.090391\n5  0.022489  0.320832 -0.174992 -0.125157 -0.218318 -0.005011",
      "text/html": "<div>\n<style scoped>\n    .dataframe tbody tr th:only-of-type {\n        vertical-align: middle;\n    }\n\n    .dataframe tbody tr th {\n        vertical-align: top;\n    }\n\n    .dataframe thead th {\n        text-align: right;\n    }\n</style>\n<table border=\"1\" class=\"dataframe\">\n  <thead>\n    <tr style=\"text-align: right;\">\n      <th></th>\n      <th>Yhat</th>\n      <th>Chat</th>\n      <th>Ihat</th>\n      <th>qhat</th>\n      <th>Rhat</th>\n      <th>pihat</th>\n    </tr>\n  </thead>\n  <tbody>\n    <tr>\n      <th>1</th>\n      <td>0.728603</td>\n      <td>0.812631</td>\n      <td>0.701256</td>\n      <td>0.606004</td>\n      <td>0.791582</td>\n      <td>0.781387</td>\n    </tr>\n    <tr>\n      <th>2</th>\n      <td>0.499782</td>\n      <td>0.636246</td>\n      <td>0.359306</td>\n      <td>0.274435</td>\n      <td>0.502886</td>\n      <td>0.515172</td>\n    </tr>\n    <tr>\n      <th>3</th>\n      <td>0.289927</td>\n      <td>0.530470</td>\n      <td>0.103021</td>\n      <td>-0.024391</td>\n      <td>0.247092</td>\n      <td>0.318639</td>\n    </tr>\n    <tr>\n      <th>4</th>\n      <td>0.098083</td>\n      <td>0.464438</td>\n      <td>-0.079851</td>\n      <td>-0.161415</td>\n      <td>-0.008164</td>\n      <td>0.090391</td>\n    </tr>\n    <tr>\n      <th>5</th>\n      <td>0.022489</td>\n      <td>0.320832</td>\n      <td>-0.174992</td>\n      <td>-0.125157</td>\n      <td>-0.218318</td>\n      <td>-0.005011</td>\n    </tr>\n  </tbody>\n</table>\n</div>"
     },
     "execution_count": 108,
     "metadata": {},
     "output_type": "execute_result"
    }
   ],
   "source": [
    "import statsmodels.api as sm\n",
    "df_acf = pd.DataFrame()\n",
    "for col in data_observed.columns:\n",
    "    df_acf = pd.concat([df_acf, pd.Series(sm.tsa.acf(data_observed[col], nlags=5))], axis=1)\n",
    "df_acf.columns = data_observed.columns\n",
    "df_acf = df_acf.drop(index=0)\n",
    "df_acf"
   ],
   "metadata": {
    "collapsed": false
   }
  },
  {
   "cell_type": "code",
   "execution_count": 141,
   "outputs": [],
   "source": [
    "squared_dev = {}\n",
    "for element in ['IM0', 'IM2', 'IM3']:\n",
    "    squared_dev[element] = (np.mean(data_dict[element]['sim_auto'], axis=2).transpose() - df_acf)**2\n",
    "    squared_dev[element] = squared_dev[element]"
   ],
   "metadata": {
    "collapsed": false
   }
  },
  {
   "cell_type": "code",
   "execution_count": 142,
   "outputs": [
    {
     "data": {
      "text/plain": "       Yhat      Chat      Ihat      qhat      Rhat     pihat\n1  1.597495  1.644391  0.520665  1.337559  1.732645  1.499434\n2  0.367542  0.682594  0.982848  0.101273  0.448447  0.483658\n3  0.025119  0.105118  0.049757  0.009566  0.000107  0.006985\n4  0.010795  0.079214  0.169603  0.049155  0.032911  0.001304\n5  0.133321  0.594393  0.019319  0.006004  0.046100  0.157223",
      "text/html": "<div>\n<style scoped>\n    .dataframe tbody tr th:only-of-type {\n        vertical-align: middle;\n    }\n\n    .dataframe tbody tr th {\n        vertical-align: top;\n    }\n\n    .dataframe thead th {\n        text-align: right;\n    }\n</style>\n<table border=\"1\" class=\"dataframe\">\n  <thead>\n    <tr style=\"text-align: right;\">\n      <th></th>\n      <th>Yhat</th>\n      <th>Chat</th>\n      <th>Ihat</th>\n      <th>qhat</th>\n      <th>Rhat</th>\n      <th>pihat</th>\n    </tr>\n  </thead>\n  <tbody>\n    <tr>\n      <th>1</th>\n      <td>1.597495</td>\n      <td>1.644391</td>\n      <td>0.520665</td>\n      <td>1.337559</td>\n      <td>1.732645</td>\n      <td>1.499434</td>\n    </tr>\n    <tr>\n      <th>2</th>\n      <td>0.367542</td>\n      <td>0.682594</td>\n      <td>0.982848</td>\n      <td>0.101273</td>\n      <td>0.448447</td>\n      <td>0.483658</td>\n    </tr>\n    <tr>\n      <th>3</th>\n      <td>0.025119</td>\n      <td>0.105118</td>\n      <td>0.049757</td>\n      <td>0.009566</td>\n      <td>0.000107</td>\n      <td>0.006985</td>\n    </tr>\n    <tr>\n      <th>4</th>\n      <td>0.010795</td>\n      <td>0.079214</td>\n      <td>0.169603</td>\n      <td>0.049155</td>\n      <td>0.032911</td>\n      <td>0.001304</td>\n    </tr>\n    <tr>\n      <th>5</th>\n      <td>0.133321</td>\n      <td>0.594393</td>\n      <td>0.019319</td>\n      <td>0.006004</td>\n      <td>0.046100</td>\n      <td>0.157223</td>\n    </tr>\n  </tbody>\n</table>\n</div>"
     },
     "execution_count": 142,
     "metadata": {},
     "output_type": "execute_result"
    }
   ],
   "source": [
    "squared_dev['IM2']"
   ],
   "metadata": {
    "collapsed": false
   }
  },
  {
   "cell_type": "code",
   "execution_count": 135,
   "outputs": [
    {
     "name": "stdout",
     "output_type": "stream",
     "text": [
      "\\begin{tabular}{lrrr}\n",
      "\\toprule\n",
      "{} &       IM0 &       IM2 &       IM3 \\\\\n",
      "\\midrule\n",
      "Autocorrelation &  0.292506 &  2.578909 &  0.466051 \\\\\n",
      "\\bottomrule\n",
      "\\end{tabular}\n",
      "\n"
     ]
    },
    {
     "name": "stderr",
     "output_type": "stream",
     "text": [
      "C:\\Users\\A200083283\\AppData\\Local\\Temp\\ipykernel_22864\\143868621.py:1: FutureWarning: In future versions `DataFrame.to_latex` is expected to utilise the base implementation of `Styler.to_latex` for formatting and rendering. The arguments signature may therefore change. It is recommended instead to use `DataFrame.style.to_latex` which also contains additional functionality.\n",
      "  print(pd.DataFrame(squared_dev, index=['Autocorrelation']).to_latex())\n"
     ]
    }
   ],
   "source": [
    "print(pd.DataFrame(squared_dev, index=['Autocorrelation']).to_latex())"
   ],
   "metadata": {
    "collapsed": false
   }
  },
  {
   "cell_type": "markdown",
   "source": [
    "# 3 Correlations"
   ],
   "metadata": {
    "collapsed": false
   }
  },
  {
   "cell_type": "code",
   "execution_count": 154,
   "outputs": [
    {
     "data": {
      "text/plain": "           Yhat      Chat      Ihat      qhat      Rhat     pihat\nYhat   1.000000  0.913159  0.939796  0.884552 -0.523456  0.051851\nChat   0.913159  1.000000  0.721554  0.767831 -0.718500  0.092616\nIhat   0.939796  0.721554  1.000000  0.865783 -0.293986  0.005068\nqhat   0.884552  0.767831  0.865783  1.000000 -0.450284 -0.144559\nRhat  -0.523456 -0.718500 -0.293986 -0.450284  1.000000 -0.591430\npihat  0.051851  0.092616  0.005068 -0.144559 -0.591430  1.000000",
      "text/html": "<div>\n<style scoped>\n    .dataframe tbody tr th:only-of-type {\n        vertical-align: middle;\n    }\n\n    .dataframe tbody tr th {\n        vertical-align: top;\n    }\n\n    .dataframe thead th {\n        text-align: right;\n    }\n</style>\n<table border=\"1\" class=\"dataframe\">\n  <thead>\n    <tr style=\"text-align: right;\">\n      <th></th>\n      <th>Yhat</th>\n      <th>Chat</th>\n      <th>Ihat</th>\n      <th>qhat</th>\n      <th>Rhat</th>\n      <th>pihat</th>\n    </tr>\n  </thead>\n  <tbody>\n    <tr>\n      <th>Yhat</th>\n      <td>1.000000</td>\n      <td>0.913159</td>\n      <td>0.939796</td>\n      <td>0.884552</td>\n      <td>-0.523456</td>\n      <td>0.051851</td>\n    </tr>\n    <tr>\n      <th>Chat</th>\n      <td>0.913159</td>\n      <td>1.000000</td>\n      <td>0.721554</td>\n      <td>0.767831</td>\n      <td>-0.718500</td>\n      <td>0.092616</td>\n    </tr>\n    <tr>\n      <th>Ihat</th>\n      <td>0.939796</td>\n      <td>0.721554</td>\n      <td>1.000000</td>\n      <td>0.865783</td>\n      <td>-0.293986</td>\n      <td>0.005068</td>\n    </tr>\n    <tr>\n      <th>qhat</th>\n      <td>0.884552</td>\n      <td>0.767831</td>\n      <td>0.865783</td>\n      <td>1.000000</td>\n      <td>-0.450284</td>\n      <td>-0.144559</td>\n    </tr>\n    <tr>\n      <th>Rhat</th>\n      <td>-0.523456</td>\n      <td>-0.718500</td>\n      <td>-0.293986</td>\n      <td>-0.450284</td>\n      <td>1.000000</td>\n      <td>-0.591430</td>\n    </tr>\n    <tr>\n      <th>pihat</th>\n      <td>0.051851</td>\n      <td>0.092616</td>\n      <td>0.005068</td>\n      <td>-0.144559</td>\n      <td>-0.591430</td>\n      <td>1.000000</td>\n    </tr>\n  </tbody>\n</table>\n</div>"
     },
     "execution_count": 154,
     "metadata": {},
     "output_type": "execute_result"
    }
   ],
   "source": [
    "mean_corr = {}\n",
    "for element in ['IM0', 'IM3']:\n",
    "    mean_corr[element] = pd.DataFrame(np.mean(data_dict[element]['sim_corr'], axis=2),\n",
    "                                      columns=data_observed.columns,\n",
    "                                      index=data_observed.columns)\n",
    "mean_corr['IM3']"
   ],
   "metadata": {
    "collapsed": false
   }
  },
  {
   "cell_type": "code",
   "execution_count": 155,
   "outputs": [
    {
     "data": {
      "text/plain": "           Yhat      Chat      Ihat      qhat      Rhat     pihat\nYhat   1.000000  0.515691  0.719940  0.211371  0.301331  0.031011\nChat   0.515691  1.000000  0.295096  0.043896  0.368363  0.571885\nIhat   0.719940  0.295096  1.000000 -0.038400  0.471488 -0.025316\nqhat   0.211371  0.043896 -0.038400  1.000000 -0.311476 -0.055458\nRhat   0.301331  0.368363  0.471488 -0.311476  1.000000  0.204541\npihat  0.031011  0.571885 -0.025316 -0.055458  0.204541  1.000000",
      "text/html": "<div>\n<style scoped>\n    .dataframe tbody tr th:only-of-type {\n        vertical-align: middle;\n    }\n\n    .dataframe tbody tr th {\n        vertical-align: top;\n    }\n\n    .dataframe thead th {\n        text-align: right;\n    }\n</style>\n<table border=\"1\" class=\"dataframe\">\n  <thead>\n    <tr style=\"text-align: right;\">\n      <th></th>\n      <th>Yhat</th>\n      <th>Chat</th>\n      <th>Ihat</th>\n      <th>qhat</th>\n      <th>Rhat</th>\n      <th>pihat</th>\n    </tr>\n  </thead>\n  <tbody>\n    <tr>\n      <th>Yhat</th>\n      <td>1.000000</td>\n      <td>0.515691</td>\n      <td>0.719940</td>\n      <td>0.211371</td>\n      <td>0.301331</td>\n      <td>0.031011</td>\n    </tr>\n    <tr>\n      <th>Chat</th>\n      <td>0.515691</td>\n      <td>1.000000</td>\n      <td>0.295096</td>\n      <td>0.043896</td>\n      <td>0.368363</td>\n      <td>0.571885</td>\n    </tr>\n    <tr>\n      <th>Ihat</th>\n      <td>0.719940</td>\n      <td>0.295096</td>\n      <td>1.000000</td>\n      <td>-0.038400</td>\n      <td>0.471488</td>\n      <td>-0.025316</td>\n    </tr>\n    <tr>\n      <th>qhat</th>\n      <td>0.211371</td>\n      <td>0.043896</td>\n      <td>-0.038400</td>\n      <td>1.000000</td>\n      <td>-0.311476</td>\n      <td>-0.055458</td>\n    </tr>\n    <tr>\n      <th>Rhat</th>\n      <td>0.301331</td>\n      <td>0.368363</td>\n      <td>0.471488</td>\n      <td>-0.311476</td>\n      <td>1.000000</td>\n      <td>0.204541</td>\n    </tr>\n    <tr>\n      <th>pihat</th>\n      <td>0.031011</td>\n      <td>0.571885</td>\n      <td>-0.025316</td>\n      <td>-0.055458</td>\n      <td>0.204541</td>\n      <td>1.000000</td>\n    </tr>\n  </tbody>\n</table>\n</div>"
     },
     "execution_count": 155,
     "metadata": {},
     "output_type": "execute_result"
    }
   ],
   "source": [
    "data_observed.corr()"
   ],
   "metadata": {
    "collapsed": false
   }
  },
  {
   "cell_type": "code",
   "execution_count": 162,
   "outputs": [],
   "source": [
    "corr_dict = {}\n",
    "for k, v in mean_corr.items():\n",
    "    corr_dict[k] = np.mean((mean_corr[k] - data_observed.corr())**2).mean()"
   ],
   "metadata": {
    "collapsed": false
   }
  },
  {
   "cell_type": "code",
   "execution_count": 171,
   "outputs": [
    {
     "name": "stdout",
     "output_type": "stream",
     "text": [
      "\\begin{tabular}{lrr}\n",
      "\\toprule\n",
      "{} &       IM0 &       IM3 \\\\\n",
      "\\midrule\n",
      "MSE &  0.405589 &  0.306795 \\\\\n",
      "\\bottomrule\n",
      "\\end{tabular}\n",
      "\n"
     ]
    },
    {
     "name": "stderr",
     "output_type": "stream",
     "text": [
      "C:\\Users\\A200083283\\AppData\\Local\\Temp\\ipykernel_22864\\389870599.py:1: FutureWarning: In future versions `DataFrame.to_latex` is expected to utilise the base implementation of `Styler.to_latex` for formatting and rendering. The arguments signature may therefore change. It is recommended instead to use `DataFrame.style.to_latex` which also contains additional functionality.\n",
      "  print(pd.DataFrame(corr_dict, index=['MSE']).to_latex())\n"
     ]
    }
   ],
   "source": [
    "print(pd.DataFrame(corr_dict, index=['MSE']).to_latex())"
   ],
   "metadata": {
    "collapsed": false
   }
  },
  {
   "cell_type": "code",
   "execution_count": null,
   "outputs": [],
   "source": [],
   "metadata": {
    "collapsed": false
   }
  },
  {
   "cell_type": "markdown",
   "source": [],
   "metadata": {
    "collapsed": false
   }
  }
 ],
 "metadata": {
  "kernelspec": {
   "display_name": "Python 3",
   "language": "python",
   "name": "python3"
  },
  "language_info": {
   "codemirror_mode": {
    "name": "ipython",
    "version": 2
   },
   "file_extension": ".py",
   "mimetype": "text/x-python",
   "name": "python",
   "nbconvert_exporter": "python",
   "pygments_lexer": "ipython2",
   "version": "2.7.6"
  }
 },
 "nbformat": 4,
 "nbformat_minor": 0
}
