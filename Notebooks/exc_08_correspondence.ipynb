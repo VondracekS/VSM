{
 "cells": [
  {
   "cell_type": "markdown",
   "source": [
    "# Multivariate Statistics Exc. 8: Correpondence Analysis"
   ],
   "metadata": {
    "collapsed": false
   }
  },
  {
   "cell_type": "code",
   "execution_count": 24,
   "outputs": [],
   "source": [
    "import pandas as pd\n",
    "import prince as pc\n",
    "import seaborn as sns"
   ],
   "metadata": {
    "collapsed": false
   }
  },
  {
   "cell_type": "code",
   "execution_count": 5,
   "outputs": [],
   "source": [
    "data = pd.read_csv(\"../Data/juice.csv\").drop('Unnamed: 0', axis=1)"
   ],
   "metadata": {
    "collapsed": false
   }
  },
  {
   "cell_type": "code",
   "execution_count": 6,
   "outputs": [
    {
     "data": {
      "text/plain": "   Brand  Criterion   Education\n0  Relax  Packaging  Elementary\n1  Relax  Packaging  Elementary\n2  Relax  Packaging  Elementary\n3  Relax  Packaging  Elementary\n4  Relax  Packaging  Elementary",
      "text/html": "<div>\n<style scoped>\n    .dataframe tbody tr th:only-of-type {\n        vertical-align: middle;\n    }\n\n    .dataframe tbody tr th {\n        vertical-align: top;\n    }\n\n    .dataframe thead th {\n        text-align: right;\n    }\n</style>\n<table border=\"1\" class=\"dataframe\">\n  <thead>\n    <tr style=\"text-align: right;\">\n      <th></th>\n      <th>Brand</th>\n      <th>Criterion</th>\n      <th>Education</th>\n    </tr>\n  </thead>\n  <tbody>\n    <tr>\n      <th>0</th>\n      <td>Relax</td>\n      <td>Packaging</td>\n      <td>Elementary</td>\n    </tr>\n    <tr>\n      <th>1</th>\n      <td>Relax</td>\n      <td>Packaging</td>\n      <td>Elementary</td>\n    </tr>\n    <tr>\n      <th>2</th>\n      <td>Relax</td>\n      <td>Packaging</td>\n      <td>Elementary</td>\n    </tr>\n    <tr>\n      <th>3</th>\n      <td>Relax</td>\n      <td>Packaging</td>\n      <td>Elementary</td>\n    </tr>\n    <tr>\n      <th>4</th>\n      <td>Relax</td>\n      <td>Packaging</td>\n      <td>Elementary</td>\n    </tr>\n  </tbody>\n</table>\n</div>"
     },
     "execution_count": 6,
     "metadata": {},
     "output_type": "execute_result"
    }
   ],
   "source": [
    "data.head()"
   ],
   "metadata": {
    "collapsed": false
   }
  },
  {
   "cell_type": "code",
   "execution_count": 12,
   "outputs": [
    {
     "data": {
      "text/plain": "Criterion  Packaging     Price   Quality     Taste  Tradition       All\nBrand                                                                  \nCappy       0.041818  0.025455  0.049091  0.023636   0.050909  0.190909\nHello       0.021818  0.040000  0.025455  0.034545   0.018182  0.140000\nRauch       0.027273  0.030909  0.043636  0.010909   0.061818  0.174545\nRelax       0.056364  0.052727  0.043636  0.030909   0.063636  0.247273\nToma        0.027273  0.040000  0.069091  0.018182   0.092727  0.247273\nAll         0.174545  0.189091  0.230909  0.118182   0.287273  1.000000",
      "text/html": "<div>\n<style scoped>\n    .dataframe tbody tr th:only-of-type {\n        vertical-align: middle;\n    }\n\n    .dataframe tbody tr th {\n        vertical-align: top;\n    }\n\n    .dataframe thead th {\n        text-align: right;\n    }\n</style>\n<table border=\"1\" class=\"dataframe\">\n  <thead>\n    <tr style=\"text-align: right;\">\n      <th>Criterion</th>\n      <th>Packaging</th>\n      <th>Price</th>\n      <th>Quality</th>\n      <th>Taste</th>\n      <th>Tradition</th>\n      <th>All</th>\n    </tr>\n    <tr>\n      <th>Brand</th>\n      <th></th>\n      <th></th>\n      <th></th>\n      <th></th>\n      <th></th>\n      <th></th>\n    </tr>\n  </thead>\n  <tbody>\n    <tr>\n      <th>Cappy</th>\n      <td>0.041818</td>\n      <td>0.025455</td>\n      <td>0.049091</td>\n      <td>0.023636</td>\n      <td>0.050909</td>\n      <td>0.190909</td>\n    </tr>\n    <tr>\n      <th>Hello</th>\n      <td>0.021818</td>\n      <td>0.040000</td>\n      <td>0.025455</td>\n      <td>0.034545</td>\n      <td>0.018182</td>\n      <td>0.140000</td>\n    </tr>\n    <tr>\n      <th>Rauch</th>\n      <td>0.027273</td>\n      <td>0.030909</td>\n      <td>0.043636</td>\n      <td>0.010909</td>\n      <td>0.061818</td>\n      <td>0.174545</td>\n    </tr>\n    <tr>\n      <th>Relax</th>\n      <td>0.056364</td>\n      <td>0.052727</td>\n      <td>0.043636</td>\n      <td>0.030909</td>\n      <td>0.063636</td>\n      <td>0.247273</td>\n    </tr>\n    <tr>\n      <th>Toma</th>\n      <td>0.027273</td>\n      <td>0.040000</td>\n      <td>0.069091</td>\n      <td>0.018182</td>\n      <td>0.092727</td>\n      <td>0.247273</td>\n    </tr>\n    <tr>\n      <th>All</th>\n      <td>0.174545</td>\n      <td>0.189091</td>\n      <td>0.230909</td>\n      <td>0.118182</td>\n      <td>0.287273</td>\n      <td>1.000000</td>\n    </tr>\n  </tbody>\n</table>\n</div>"
     },
     "execution_count": 12,
     "metadata": {},
     "output_type": "execute_result"
    }
   ],
   "source": [
    "pd.crosstab(data['Brand'], data['Criterion'], margins=True, normalize=True)"
   ],
   "metadata": {
    "collapsed": false
   }
  },
  {
   "cell_type": "code",
   "execution_count": 13,
   "outputs": [
    {
     "data": {
      "text/plain": "Criterion  Packaging  Price  Quality  Taste  Tradition  All\nBrand                                                      \nCappy             23     14       27     13         28  105\nHello             12     22       14     19         10   77\nRauch             15     17       24      6         34   96\nRelax             31     29       24     17         35  136\nToma              15     22       38     10         51  136\nAll               96    104      127     65        158  550",
      "text/html": "<div>\n<style scoped>\n    .dataframe tbody tr th:only-of-type {\n        vertical-align: middle;\n    }\n\n    .dataframe tbody tr th {\n        vertical-align: top;\n    }\n\n    .dataframe thead th {\n        text-align: right;\n    }\n</style>\n<table border=\"1\" class=\"dataframe\">\n  <thead>\n    <tr style=\"text-align: right;\">\n      <th>Criterion</th>\n      <th>Packaging</th>\n      <th>Price</th>\n      <th>Quality</th>\n      <th>Taste</th>\n      <th>Tradition</th>\n      <th>All</th>\n    </tr>\n    <tr>\n      <th>Brand</th>\n      <th></th>\n      <th></th>\n      <th></th>\n      <th></th>\n      <th></th>\n      <th></th>\n    </tr>\n  </thead>\n  <tbody>\n    <tr>\n      <th>Cappy</th>\n      <td>23</td>\n      <td>14</td>\n      <td>27</td>\n      <td>13</td>\n      <td>28</td>\n      <td>105</td>\n    </tr>\n    <tr>\n      <th>Hello</th>\n      <td>12</td>\n      <td>22</td>\n      <td>14</td>\n      <td>19</td>\n      <td>10</td>\n      <td>77</td>\n    </tr>\n    <tr>\n      <th>Rauch</th>\n      <td>15</td>\n      <td>17</td>\n      <td>24</td>\n      <td>6</td>\n      <td>34</td>\n      <td>96</td>\n    </tr>\n    <tr>\n      <th>Relax</th>\n      <td>31</td>\n      <td>29</td>\n      <td>24</td>\n      <td>17</td>\n      <td>35</td>\n      <td>136</td>\n    </tr>\n    <tr>\n      <th>Toma</th>\n      <td>15</td>\n      <td>22</td>\n      <td>38</td>\n      <td>10</td>\n      <td>51</td>\n      <td>136</td>\n    </tr>\n    <tr>\n      <th>All</th>\n      <td>96</td>\n      <td>104</td>\n      <td>127</td>\n      <td>65</td>\n      <td>158</td>\n      <td>550</td>\n    </tr>\n  </tbody>\n</table>\n</div>"
     },
     "execution_count": 13,
     "metadata": {},
     "output_type": "execute_result"
    }
   ],
   "source": [
    "pd.crosstab(data['Brand'], data['Criterion'], margins=True, normalize=False)"
   ],
   "metadata": {
    "collapsed": false
   }
  },
  {
   "cell_type": "code",
   "execution_count": 21,
   "outputs": [],
   "source": [
    "crosstab_abs = pd.crosstab(data['Brand'], data['Criterion'], margins=True, normalize=False)\n",
    "crosstab_rel = pd.crosstab(data['Brand'], data['Criterion'], margins=True, normalize=True)"
   ],
   "metadata": {
    "collapsed": false
   }
  },
  {
   "cell_type": "code",
   "execution_count": 23,
   "outputs": [
    {
     "data": {
      "text/plain": "Criterion  Packaging     Price   Quality     Taste  Tradition  All\nBrand                                                             \nCappy       0.219048  0.133333  0.257143  0.123810   0.266667  1.0\nHello       0.155844  0.285714  0.181818  0.246753   0.129870  1.0\nRauch       0.156250  0.177083  0.250000  0.062500   0.354167  1.0\nRelax       0.227941  0.213235  0.176471  0.125000   0.257353  1.0\nToma        0.110294  0.161765  0.279412  0.073529   0.375000  1.0\nAll         0.174545  0.189091  0.230909  0.118182   0.287273  1.0",
      "text/html": "<div>\n<style scoped>\n    .dataframe tbody tr th:only-of-type {\n        vertical-align: middle;\n    }\n\n    .dataframe tbody tr th {\n        vertical-align: top;\n    }\n\n    .dataframe thead th {\n        text-align: right;\n    }\n</style>\n<table border=\"1\" class=\"dataframe\">\n  <thead>\n    <tr style=\"text-align: right;\">\n      <th>Criterion</th>\n      <th>Packaging</th>\n      <th>Price</th>\n      <th>Quality</th>\n      <th>Taste</th>\n      <th>Tradition</th>\n      <th>All</th>\n    </tr>\n    <tr>\n      <th>Brand</th>\n      <th></th>\n      <th></th>\n      <th></th>\n      <th></th>\n      <th></th>\n      <th></th>\n    </tr>\n  </thead>\n  <tbody>\n    <tr>\n      <th>Cappy</th>\n      <td>0.219048</td>\n      <td>0.133333</td>\n      <td>0.257143</td>\n      <td>0.123810</td>\n      <td>0.266667</td>\n      <td>1.0</td>\n    </tr>\n    <tr>\n      <th>Hello</th>\n      <td>0.155844</td>\n      <td>0.285714</td>\n      <td>0.181818</td>\n      <td>0.246753</td>\n      <td>0.129870</td>\n      <td>1.0</td>\n    </tr>\n    <tr>\n      <th>Rauch</th>\n      <td>0.156250</td>\n      <td>0.177083</td>\n      <td>0.250000</td>\n      <td>0.062500</td>\n      <td>0.354167</td>\n      <td>1.0</td>\n    </tr>\n    <tr>\n      <th>Relax</th>\n      <td>0.227941</td>\n      <td>0.213235</td>\n      <td>0.176471</td>\n      <td>0.125000</td>\n      <td>0.257353</td>\n      <td>1.0</td>\n    </tr>\n    <tr>\n      <th>Toma</th>\n      <td>0.110294</td>\n      <td>0.161765</td>\n      <td>0.279412</td>\n      <td>0.073529</td>\n      <td>0.375000</td>\n      <td>1.0</td>\n    </tr>\n    <tr>\n      <th>All</th>\n      <td>0.174545</td>\n      <td>0.189091</td>\n      <td>0.230909</td>\n      <td>0.118182</td>\n      <td>0.287273</td>\n      <td>1.0</td>\n    </tr>\n  </tbody>\n</table>\n</div>"
     },
     "execution_count": 23,
     "metadata": {},
     "output_type": "execute_result"
    }
   ],
   "source": [
    "crosstab_abs.apply(lambda y: y/crosstab_abs['All'])"
   ],
   "metadata": {
    "collapsed": false
   }
  },
  {
   "cell_type": "markdown",
   "source": [
    "## 2 Correspondence Analysis"
   ],
   "metadata": {
    "collapsed": false
   }
  },
  {
   "cell_type": "code",
   "execution_count": 26,
   "outputs": [],
   "source": [
    "c_an = pc.CA(n_components=2,\n",
    "             n_iter=3,\n",
    "             copy=True,\n",
    "             check_input=True,\n",
    "             engine='auto',\n",
    "             random_state=42).fit(crosstab_abs)"
   ],
   "metadata": {
    "collapsed": false
   }
  },
  {
   "cell_type": "code",
   "execution_count": 28,
   "outputs": [
    {
     "data": {
      "text/plain": "                  0             1\nCappy -6.101395e-03 -8.810318e-02\nHello  3.624829e-01  1.112074e-01\nRauch -1.461230e-01  6.650174e-03\nRelax  8.589758e-02 -8.353692e-02\nToma  -1.832706e-01  8.390048e-02\nAll   -1.398768e-16  4.389865e-16",
      "text/html": "<div>\n<style scoped>\n    .dataframe tbody tr th:only-of-type {\n        vertical-align: middle;\n    }\n\n    .dataframe tbody tr th {\n        vertical-align: top;\n    }\n\n    .dataframe thead th {\n        text-align: right;\n    }\n</style>\n<table border=\"1\" class=\"dataframe\">\n  <thead>\n    <tr style=\"text-align: right;\">\n      <th></th>\n      <th>0</th>\n      <th>1</th>\n    </tr>\n  </thead>\n  <tbody>\n    <tr>\n      <th>Cappy</th>\n      <td>-6.101395e-03</td>\n      <td>-8.810318e-02</td>\n    </tr>\n    <tr>\n      <th>Hello</th>\n      <td>3.624829e-01</td>\n      <td>1.112074e-01</td>\n    </tr>\n    <tr>\n      <th>Rauch</th>\n      <td>-1.461230e-01</td>\n      <td>6.650174e-03</td>\n    </tr>\n    <tr>\n      <th>Relax</th>\n      <td>8.589758e-02</td>\n      <td>-8.353692e-02</td>\n    </tr>\n    <tr>\n      <th>Toma</th>\n      <td>-1.832706e-01</td>\n      <td>8.390048e-02</td>\n    </tr>\n    <tr>\n      <th>All</th>\n      <td>-1.398768e-16</td>\n      <td>4.389865e-16</td>\n    </tr>\n  </tbody>\n</table>\n</div>"
     },
     "execution_count": 28,
     "metadata": {},
     "output_type": "execute_result"
    }
   ],
   "source": [
    "c_an.row_coordinates(crosstab_abs)"
   ],
   "metadata": {
    "collapsed": false
   }
  },
  {
   "cell_type": "code",
   "execution_count": 29,
   "outputs": [
    {
     "data": {
      "text/plain": "                      0             1\nPackaging  7.920576e-02 -1.732336e-01\nPrice      1.462799e-01  6.230901e-02\nQuality   -1.084882e-01  3.547669e-02\nTaste      3.366798e-01  5.672118e-02\nTradition -1.957154e-01  1.239162e-02\nAll       -8.396942e-17  1.540727e-16",
      "text/html": "<div>\n<style scoped>\n    .dataframe tbody tr th:only-of-type {\n        vertical-align: middle;\n    }\n\n    .dataframe tbody tr th {\n        vertical-align: top;\n    }\n\n    .dataframe thead th {\n        text-align: right;\n    }\n</style>\n<table border=\"1\" class=\"dataframe\">\n  <thead>\n    <tr style=\"text-align: right;\">\n      <th></th>\n      <th>0</th>\n      <th>1</th>\n    </tr>\n  </thead>\n  <tbody>\n    <tr>\n      <th>Packaging</th>\n      <td>7.920576e-02</td>\n      <td>-1.732336e-01</td>\n    </tr>\n    <tr>\n      <th>Price</th>\n      <td>1.462799e-01</td>\n      <td>6.230901e-02</td>\n    </tr>\n    <tr>\n      <th>Quality</th>\n      <td>-1.084882e-01</td>\n      <td>3.547669e-02</td>\n    </tr>\n    <tr>\n      <th>Taste</th>\n      <td>3.366798e-01</td>\n      <td>5.672118e-02</td>\n    </tr>\n    <tr>\n      <th>Tradition</th>\n      <td>-1.957154e-01</td>\n      <td>1.239162e-02</td>\n    </tr>\n    <tr>\n      <th>All</th>\n      <td>-8.396942e-17</td>\n      <td>1.540727e-16</td>\n    </tr>\n  </tbody>\n</table>\n</div>"
     },
     "execution_count": 29,
     "metadata": {},
     "output_type": "execute_result"
    }
   ],
   "source": [
    "c_an.column_coordinates(crosstab_abs)"
   ],
   "metadata": {
    "collapsed": false
   }
  },
  {
   "cell_type": "code",
   "execution_count": null,
   "outputs": [],
   "source": [],
   "metadata": {
    "collapsed": false
   }
  },
  {
   "cell_type": "code",
   "execution_count": 33,
   "outputs": [
    {
     "data": {
      "text/plain": "<AxesSubplot:title={'center':'Principal coordinates'}, xlabel='Component 0 (77.23% inertia)', ylabel='Component 1 (16.01% inertia)'>"
     },
     "execution_count": 33,
     "metadata": {},
     "output_type": "execute_result"
    },
    {
     "data": {
      "text/plain": "<Figure size 720x720 with 1 Axes>",
      "image/png": "[encoded data removed]"
     },
     "metadata": {
      "needs_background": "light"
     },
     "output_type": "display_data"
    }
   ],
   "source": [
    "c_an.plot_coordinates(crosstab_abs, figsize=(10, 10))"
   ],
   "metadata": {
    "collapsed": false
   }
  },
  {
   "cell_type": "code",
   "execution_count": 31,
   "outputs": [
    {
     "data": {
      "text/plain": "[0.7722819423064471, 0.16009123801617217]"
     },
     "execution_count": 31,
     "metadata": {},
     "output_type": "execute_result"
    }
   ],
   "source": [
    "c_an.explained_inertia_"
   ],
   "metadata": {
    "collapsed": false
   }
  },
  {
   "cell_type": "code",
   "execution_count": 32,
   "outputs": [
    {
     "data": {
      "text/plain": "0.020885521842669036"
     },
     "execution_count": 32,
     "metadata": {},
     "output_type": "execute_result"
    }
   ],
   "source": [
    "c_an.total_inertia_"
   ],
   "metadata": {
    "collapsed": false
   }
  },
  {
   "cell_type": "code",
   "execution_count": null,
   "outputs": [],
   "source": [
    "c_an."
   ],
   "metadata": {
    "collapsed": false
   }
  }
 ],
 "metadata": {
  "kernelspec": {
   "display_name": "Python 3",
   "language": "python",
   "name": "python3"
  },
  "language_info": {
   "codemirror_mode": {
    "name": "ipython",
    "version": 2
   },
   "file_extension": ".py",
   "mimetype": "text/x-python",
   "name": "python",
   "nbconvert_exporter": "python",
   "pygments_lexer": "ipython2",
   "version": "2.7.6"
  }
 },
 "nbformat": 4,
 "nbformat_minor": 0
}
